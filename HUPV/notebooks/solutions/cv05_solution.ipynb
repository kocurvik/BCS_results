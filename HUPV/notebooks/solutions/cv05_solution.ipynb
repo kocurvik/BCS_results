{
  "nbformat": 4,
  "nbformat_minor": 0,
  "metadata": {
    "colab": {
      "provenance": [],
      "collapsed_sections": [],
      "toc_visible": true,
      "authorship_tag": "ABX9TyPQol6/8udHS83KqDOZe9H2",
      "include_colab_link": true
    },
    "kernelspec": {
      "name": "python3",
      "display_name": "Python 3"
    },
    "language_info": {
      "name": "python"
    },
    "accelerator": "GPU"
  },
  "cells": [
    {
      "cell_type": "markdown",
      "metadata": {
        "id": "view-in-github",
        "colab_type": "text"
      },
      "source": [
        "<a href=\"https://colab.research.google.com/github/kocurvik/BCS_results/blob/master/HUPV/notebooks/solutions/cv05_solution.ipynb\" target=\"_parent\"><img src=\"https://colab.research.google.com/assets/colab-badge.svg\" alt=\"Open In Colab\"/></a>"
      ]
    },
    {
      "cell_type": "markdown",
      "metadata": {
        "id": "i6Qt0DQsm097"
      },
      "source": [
        "# Trénovanie II.\n",
        "\n",
        "Dnes si prejdeme konvolučné neurónové siete. Teda kovnolučné a poolingové vrstvy a k nim ďalšie vrstvy ako BatchNorm a Dropout. Prejdeme si tiež aj augmentáciu vstupného obrazu. Pozrieme sa aj na rôzne optimalizačné algoritmy\n",
        "\n"
      ]
    },
    {
      "cell_type": "code",
      "metadata": {
        "id": "lHhxJ2QNmVtd"
      },
      "source": [
        "import torch\n",
        "import torchvision\n",
        "import torchvision.transforms as transforms\n",
        "\n",
        "import numpy as np\n",
        "from matplotlib import pyplot as plt"
      ],
      "execution_count": null,
      "outputs": []
    },
    {
      "cell_type": "markdown",
      "metadata": {
        "id": "BjFHrHEdnJef"
      },
      "source": [
        "## Cifar-10\n",
        "\n",
        "Dnes si načítame dataset cifar-10. Tento dataset obsahuje malé obrázky, ktoré su rozdelené na 10 kategórií.\n"
      ]
    },
    {
      "cell_type": "code",
      "metadata": {
        "colab": {
          "base_uri": "https://localhost:8080/",
          "height": 1000
        },
        "id": "6nf99uj1naMC",
        "outputId": "8990e4aa-745d-4270-ef1f-c40ea21cc13a"
      },
      "source": [
        "classes = ('plane', 'car', 'bird', 'cat', 'deer', 'dog', 'frog', 'horse', 'ship', 'truck')\n",
        "\n",
        "transform = transforms.ToTensor()\n",
        "\n",
        "dataset = torchvision.datasets.CIFAR10(root='./data', train=True, download=True, transform=transform)\n",
        "testset = torchvision.datasets.CIFAR10(root='./data', train=False, download=True, transform=transform)\n",
        "\n",
        "# for reproducibility\n",
        "trainset, valset = torch.utils.data.random_split(dataset, [45000, 5000], generator=torch.Generator().manual_seed(42))\n",
        "\n",
        "previewloader = torch.utils.data.DataLoader(testset, batch_size=1, shuffle=True)\n",
        "\n",
        "for i, sample in enumerate(previewloader):\n",
        "  if i > 10:\n",
        "    break\n",
        "  x, y = sample\n",
        "  print(x.shape)\n",
        "  img = np.moveaxis(x.numpy()[0], 0, -1)\n",
        "  plt.imshow(img)\n",
        "  plt.show()\n",
        "  print(y)\n",
        "  print(classes[y.item()])\n",
        "\n"
      ],
      "execution_count": null,
      "outputs": [
        {
          "output_type": "stream",
          "name": "stdout",
          "text": [
            "Files already downloaded and verified\n",
            "Files already downloaded and verified\n",
            "torch.Size([1, 3, 32, 32])\n"
          ]
        },
        {
          "output_type": "display_data",
          "data": {
            "text/plain": [
              "<Figure size 432x288 with 1 Axes>"
            ],
            "image/png": "[encoded data removed]"
          },
          "metadata": {
            "needs_background": "light"
          }
        },
        {
          "output_type": "stream",
          "name": "stdout",
          "text": [
            "tensor([0])\n",
            "plane\n",
            "torch.Size([1, 3, 32, 32])\n"
          ]
        },
        {
          "output_type": "display_data",
          "data": {
            "text/plain": [
              "<Figure size 432x288 with 1 Axes>"
            ],
            "image/png": "[encoded data removed]"
          },
          "metadata": {
            "needs_background": "light"
          }
        },
        {
          "output_type": "stream",
          "name": "stdout",
          "text": [
            "tensor([0])\n",
            "plane\n",
            "torch.Size([1, 3, 32, 32])\n"
          ]
        },
        {
          "output_type": "display_data",
          "data": {
            "text/plain": [
              "<Figure size 432x288 with 1 Axes>"
            ],
            "image/png": "[encoded data removed]"
          },
          "metadata": {
            "needs_background": "light"
          }
        },
        {
          "output_type": "stream",
          "name": "stdout",
          "text": [
            "tensor([5])\n",
            "dog\n",
            "torch.Size([1, 3, 32, 32])\n"
          ]
        },
        {
          "output_type": "display_data",
          "data": {
            "text/plain": [
              "<Figure size 432x288 with 1 Axes>"
            ],
            "image/png": "[encoded data removed]"
          },
          "metadata": {
            "needs_background": "light"
          }
        },
        {
          "output_type": "stream",
          "name": "stdout",
          "text": [
            "tensor([1])\n",
            "car\n",
            "torch.Size([1, 3, 32, 32])\n"
          ]
        },
        {
          "output_type": "display_data",
          "data": {
            "text/plain": [
              "<Figure size 432x288 with 1 Axes>"
            ],
            "image/png": "[encoded data removed]"
          },
          "metadata": {
            "needs_background": "light"
          }
        },
        {
          "output_type": "stream",
          "name": "stdout",
          "text": [
            "tensor([2])\n",
            "bird\n",
            "torch.Size([1, 3, 32, 32])\n"
          ]
        },
        {
          "output_type": "display_data",
          "data": {
            "text/plain": [
              "<Figure size 432x288 with 1 Axes>"
            ],
            "image/png": "[encoded data removed]"
          },
          "metadata": {
            "needs_background": "light"
          }
        },
        {
          "output_type": "stream",
          "name": "stdout",
          "text": [
            "tensor([3])\n",
            "cat\n",
            "torch.Size([1, 3, 32, 32])\n"
          ]
        },
        {
          "output_type": "display_data",
          "data": {
            "text/plain": [
              "<Figure size 432x288 with 1 Axes>"
            ],
            "image/png": "[encoded data removed]"
          },
          "metadata": {
            "needs_background": "light"
          }
        },
        {
          "output_type": "stream",
          "name": "stdout",
          "text": [
            "tensor([8])\n",
            "ship\n",
            "torch.Size([1, 3, 32, 32])\n"
          ]
        },
        {
          "output_type": "display_data",
          "data": {
            "text/plain": [
              "<Figure size 432x288 with 1 Axes>"
            ],
            "image/png": "[encoded data removed]"
          },
          "metadata": {
            "needs_background": "light"
          }
        },
        {
          "output_type": "stream",
          "name": "stdout",
          "text": [
            "tensor([3])\n",
            "cat\n",
            "torch.Size([1, 3, 32, 32])\n"
          ]
        },
        {
          "output_type": "display_data",
          "data": {
            "text/plain": [
              "<Figure size 432x288 with 1 Axes>"
            ],
            "image/png": "[encoded data removed]"
          },
          "metadata": {
            "needs_background": "light"
          }
        },
        {
          "output_type": "stream",
          "name": "stdout",
          "text": [
            "tensor([8])\n",
            "ship\n",
            "torch.Size([1, 3, 32, 32])\n"
          ]
        },
        {
          "output_type": "display_data",
          "data": {
            "text/plain": [
              "<Figure size 432x288 with 1 Axes>"
            ],
            "image/png": "[encoded data removed]"
          },
          "metadata": {
            "needs_background": "light"
          }
        },
        {
          "output_type": "stream",
          "name": "stdout",
          "text": [
            "tensor([8])\n",
            "ship\n",
            "torch.Size([1, 3, 32, 32])\n"
          ]
        },
        {
          "output_type": "display_data",
          "data": {
            "text/plain": [
              "<Figure size 432x288 with 1 Axes>"
            ],
            "image/png": "[encoded data removed]"
          },
          "metadata": {
            "needs_background": "light"
          }
        },
        {
          "output_type": "stream",
          "name": "stdout",
          "text": [
            "tensor([5])\n",
            "dog\n"
          ]
        }
      ]
    },
    {
      "cell_type": "markdown",
      "metadata": {
        "id": "0rSVzbhIqV0w"
      },
      "source": [
        "## Konvolúcia\n",
        "\n",
        "Ak by sme chceli používať pre počítačové videnie plne prepojené vrstvy, tak by sme narazili na problém s rýchlo narastajúcim množstvom parametrov. Veľké množstvo parametrov komplikuje trénovanie z hľadiska zložitosti priestoru nad ktorým optimalizujeme a taktiež vo výpočtovej náročnosti takejto optimalizácie.\n",
        "\n",
        "Z tohto dôvodu sa najčastiejšie používajú tzv. konvolučné neurónové siete. Ich základom je konvolúcia. Tá je obecne definovaná na pre dve funkcie $f$ a $g$:\n",
        "\n",
        "$$ (f \\ast g)(t)  = \\int_{-\\infty}^{\\infty} f(x) g(t - x) dx$$\n",
        "\n",
        "Väčšinou sa používa ak je nosič jednej z funkcií obmedzený. V diskrétnom prípade pre \"postupnosti\" $a_i$ a $b_i$ pre $ i \\in \\mathbb{Z}$. Definujeme ako:\n",
        "\n",
        "$$ (a \\ast b)_j = \\sum_{i \\in \\mathbb{Z}} a_i \\cdot b_{j-i}$$.\n",
        "\n",
        "V obraze však bežne však využívame dvojrozmernú verziu s veľmi malým jadrom o rozmeroch napr. $3 \\times 3$, $5 \\times 5$ atď. Keďže tieto jadrá sú pre bežné úlohy spracovania obrazu často symetrické, tak je bežne zamienaný pojem korelácie s konvolúciou (rozdiel je v znamienku vo výraze). Aplikáciu konvolúcie si tak môžeme predstaviť ako prenásobenie okolia nejakého bodu maskou a následné sčítanie daných hodnôt. Na obrázku znázornené ako:\n",
        "\n",
        "![alt text](https://i.stack.imgur.com/YDusp.png)\n",
        "\n",
        "Takýto postup sa bežne používa pri detekcii hrán, alebo iných zaujímavých bodov v obraze. Konvolúcia je preto vhodná na využitie v neurónových sieťach. To realizujeme tak, že daná vrsvta siete aplikuje na jej vstup konvolúciu s jadrom ktorého váhy sa sieť učí pri tréningu.\n",
        "\n",
        "Aby to nebolo moc jednoduché, tak tieto jadrá niesu len dvojrozmerné (napr. $3 \\times 3$), ale trojrozmerné, kde tretí rozmer korešponduje s počtom kanálov na vstupe do vrstvy. Každá vrstva má týchto jadier viacero a výstupom z nej tak bude obraz, alebo mapa príznakov s počtom kanálov rovným počtu jadier.\n",
        "\n",
        "Pri konvolúcii ešte musíme myslieť na to čo robiť na okrajoch. Prístupy sú rôzne. Niekedy jadro prikladáme tak, že nikdy neprekočíme okraj. To ale spôsobí, že výstupný obraz bude mať iné rozmery ako vstupný. Ak nám to nevyhovuje, tak môžeme časti za okrajom obrazu považivať za nuly, prípadne brať hodnoty z opačnej strany obrazu. Pridanie núl sa označuje ako padding. Ďalšou modifikáciou je tzv. stride, teda, že jadro neprikladáme vždy o jedno políčko vedľa, ale nejaké preskočíme.\n",
        "\n",
        "Pre jeden rozmer výstupného obrazu (samostatne šírka alebo výška) potom platí:\n",
        "\n",
        "$$ N_{out} = \\frac{N_{in} - F + 2P}{S} + 1,$$\n",
        "\n",
        "kde $N_{out}$ je výstupná veľkosť, $N_{out}$ je vstupná veľkosť, $F$ je veľkosť jadra a $P$ je padding.\n",
        "\n",
        "*Pozn.:* Keďže v sieti máme viacero kanálov, tak je uplne možné brať do úvahy aj $1 \\times 1$ konvolúciu. Tá nam totiž len redukuje počet kanálov."
      ]
    },
    {
      "cell_type": "markdown",
      "metadata": {
        "id": "sv9xhXq0qcLX"
      },
      "source": [
        "## Pooling\n",
        "\n",
        "Konvolúcia sa často používa s tzv. poolingovými vrstvami. Tie slúžia na to, aby sa veľkosť obrazu postupne zmenšovala, čo vedie na menšie pamäťové nároky a možnosť používania viacero kanálov v hlbších vrstvách siete. Táto vrstva rozdelí obraz na zopár oblastí napr. $2 \\times 2$ štvorčeky zredukuje hodnoty v nich na jedno číslo. To sa robí veľmi často pomocou operácie maxima, alebo menej často priemeru.\n",
        "\n",
        "![alt text](https://qph.fs.quoracdn.net/main-qimg-cf2833a40f946faf04163bc28517959c)"
      ]
    },
    {
      "cell_type": "markdown",
      "metadata": {
        "id": "vR9KduhJVOfC"
      },
      "source": [
        "## Flatten a Globálny Pooling\n",
        "\n",
        "Na konci sieťe je veľmi bežné použiť zopár plne prepojených vrstiev. Na to je však potrebné redukovať počet dimenzií (rád tenzoru). K tomu slúži vrstva Flatten, ktorá príznaky zoradí z obrazovej reprezentácie do vektoru.\n",
        "\n",
        "Nie vždy je vhodné využiť takýto prístup keďže veľkosť vektoru potom môže byť strašne veľká. Namiesto toho sa tak často používa tzv. globálny pooling, ktorý funguje ako bežný pooling ale redukuje celý obraz prináležiaci jednému kanálu na jedno číslo. Tu sa narozdiel od bežného Poolingu používa často priemerovací pooling."
      ]
    },
    {
      "cell_type": "markdown",
      "metadata": {
        "id": "uQYw27pIQzOq"
      },
      "source": [
        "## Aktivačné funkcie\n",
        "\n",
        "Výber aktivačnej funkcie je dôležitý pri konštrukcii architektúr hlbokých neurónových sietí. Viac sa s nimi zoznámite počas domácej úlohy. Dnes budeme používať aktivačnú funkciu ReLU (rectified linear unit), ktorá ma nazrozdiel od sigmoidu výhodu v tom, že sa veľmi rýchlo počíta a jej derivácia je buď jedna, alebo nula, čo pomáha riešiť problém tzv. miznúcich gradientov, ktorý nastáva pri využití sigmoidu. Preto budeme v dnešnom notebooku používať ReLU.\n",
        "\n",
        "ReLU je síce populárna, ale má niektoré nie uplne vhodné vlastnosti. Tie riešia rôznymi spôsobmi jej variácie PReLU, ELU a Leaky ReLU s ktorými sa zoznámite v rámci domácej úlohy. "
      ]
    },
    {
      "cell_type": "markdown",
      "metadata": {
        "id": "OLI8_XRYaybA"
      },
      "source": [
        "## Optimalizácia\n",
        "\n",
        "Zatiaľ sme používali na optimalizáciu SGD. To je ale veľmi senzitívne na nastavenie trénovacieho kroku. V dnešnom cvičení použiejeme metódu Adam. Rôzne metódy optimalizácie aj to ako reagujú na hyperparametre si takisto overíte v rámci domácej úlohy."
      ]
    },
    {
      "cell_type": "markdown",
      "metadata": {
        "id": "zdytbsXJraPq"
      },
      "source": [
        "## Jednoduchý model CNN\n",
        "\n",
        "Navrhneme si jednoduchý model pre konvolučnú neurónovú sieť.\n",
        "\n",
        "Pre konvolučné vrstvy je prvý parameter počet vstupných kanálov, počet výstupných kanálov, a veľkosť konvolučných jadier. Ďalšie parametre sú stride, padding atď pre viac info konzultujte dokumentáciu.\n",
        "\n",
        "Pre poolingové vrsvy je to veľkosť poolingového okna."
      ]
    },
    {
      "cell_type": "code",
      "metadata": {
        "colab": {
          "base_uri": "https://localhost:8080/"
        },
        "id": "0wpawKOqqZmF",
        "outputId": "6ea03b07-bede-426e-c7b4-df0d5b590552"
      },
      "source": [
        "from torch.nn import Sequential, Linear, ReLU, Softmax, Conv2d, MaxPool2d, Flatten\n",
        "\n",
        "def build_model():\n",
        "  # Na vstupe budu tri kanaly lebo mame RGB vstup\n",
        "  model = Sequential(Conv2d(3, 32, 3), MaxPool2d(2), ReLU(), \n",
        "                    Conv2d(32, 64, 3), MaxPool2d(2), ReLU(),\n",
        "                    Conv2d(64, 128, 3), MaxPool2d(2), ReLU(),\n",
        "                    Flatten(), \n",
        "                    Linear(512, 256), ReLU(), Linear(256, 128), ReLU(),\n",
        "                    Linear(128, 10))\n",
        "\n",
        "  model_inference = Sequential(model, Softmax())\n",
        "  return model, model_inference\n",
        "\n",
        "\n",
        "# overime ze model funguje - ak by sme napriklad za flatten dali zle cislo nefungovalo by to\n",
        "model, model_inference = build_model()\n",
        "\n",
        "model_inference(torch.from_numpy(np.zeros([1, 3, 32, 32], dtype=np.float32)))"
      ],
      "execution_count": null,
      "outputs": [
        {
          "output_type": "stream",
          "name": "stderr",
          "text": [
            "/usr/local/lib/python3.7/dist-packages/torch/nn/modules/container.py:139: UserWarning: Implicit dimension choice for softmax has been deprecated. Change the call to include dim=X as an argument.\n",
            "  input = module(input)\n"
          ]
        },
        {
          "output_type": "execute_result",
          "data": {
            "text/plain": [
              "tensor([[0.1052, 0.0919, 0.0989, 0.1095, 0.0931, 0.1077, 0.0991, 0.1061, 0.0958,\n",
              "         0.0925]], grad_fn=<SoftmaxBackward0>)"
            ]
          },
          "metadata": {},
          "execution_count": 23
        }
      ]
    },
    {
      "cell_type": "markdown",
      "metadata": {
        "id": "OkPdHqVi2K2Z"
      },
      "source": [
        "Model si natrénujeme. Aby sme nečakali tak dlho na zlepšenie presnosti, tak použijeme optimalizátor Adam."
      ]
    },
    {
      "cell_type": "code",
      "metadata": {
        "colab": {
          "base_uri": "https://localhost:8080/"
        },
        "id": "4fHbhiYOsSCe",
        "outputId": "bc0172b1-0da8-4b5c-b669-4c77564382f8"
      },
      "source": [
        "batch_size = 32\n",
        "\n",
        "dataloader_train = torch.utils.data.DataLoader(trainset, batch_size=batch_size, shuffle=True)\n",
        "dataloader_val = torch.utils.data.DataLoader(valset, batch_size=batch_size, shuffle=True)\n",
        "\n",
        "model, model_inference = build_model()\n",
        "ce_loss = torch.nn.CrossEntropyLoss()\n",
        "\n",
        "optimizer = torch.optim.Adam(model.parameters(), lr=1e-3)\n",
        "\n",
        "for e in range(2):\n",
        "  model.train()\n",
        "  for i, batch in enumerate(dataloader_train):  \n",
        "    x, y = batch  \n",
        "    optimizer.zero_grad()\n",
        "\n",
        "    out = model(x)\n",
        "    loss = ce_loss(out, y)\n",
        "    loss.backward()\n",
        "    optimizer.step()\n",
        "    if i % 100 == 0:\n",
        "      print(\"Loss at epoch: {} step {}: {}\".format(e, i, loss.item()))\n",
        "\n",
        "  with torch.no_grad():\n",
        "    model.eval()\n",
        "    val_losses = []\n",
        "    correct = 0\n",
        "    for i, batch in enumerate(dataloader_val):  \n",
        "      x, y = batch  \n",
        "\n",
        "      out = model(x)\n",
        "      loss = ce_loss(out, y)\n",
        "      acc = torch.sum(torch.argmax(out, dim=-1) == y)\n",
        "      correct += acc.item()\n",
        "      val_losses.append(loss.item())\n",
        "\n",
        "    print(\"Val loss at epoch {}: {}\".format(e, np.mean(val_losses)))\n",
        "    print(\"Val acc at epoch {}: {}\".format(e, correct / 10000))"
      ],
      "execution_count": null,
      "outputs": [
        {
          "output_type": "stream",
          "name": "stdout",
          "text": [
            "Loss at epoch: 0 step 0: 2.3121421337127686\n",
            "Loss at epoch: 0 step 100: 2.0269265174865723\n",
            "Loss at epoch: 0 step 200: 2.1407432556152344\n",
            "Loss at epoch: 0 step 300: 1.7198692560195923\n",
            "Loss at epoch: 0 step 400: 1.8699809312820435\n",
            "Loss at epoch: 0 step 500: 1.553051471710205\n",
            "Loss at epoch: 0 step 600: 1.4971288442611694\n",
            "Loss at epoch: 0 step 700: 1.80070161819458\n",
            "Loss at epoch: 0 step 800: 1.3641557693481445\n",
            "Loss at epoch: 0 step 900: 1.4736369848251343\n",
            "Loss at epoch: 0 step 1000: 1.7659920454025269\n",
            "Loss at epoch: 0 step 1100: 1.1873087882995605\n",
            "Loss at epoch: 0 step 1200: 1.5354852676391602\n",
            "Loss at epoch: 0 step 1300: 1.3822548389434814\n",
            "Loss at epoch: 0 step 1400: 1.1377208232879639\n",
            "Val loss at epoch 0: 1.3516918420791626\n",
            "Val acc at epoch 0: 0.252\n",
            "Loss at epoch: 1 step 0: 1.2046680450439453\n",
            "Loss at epoch: 1 step 100: 1.6020876169204712\n",
            "Loss at epoch: 1 step 200: 1.2782769203186035\n",
            "Loss at epoch: 1 step 300: 1.3188303709030151\n",
            "Loss at epoch: 1 step 400: 1.6811497211456299\n",
            "Loss at epoch: 1 step 500: 1.1538400650024414\n",
            "Loss at epoch: 1 step 600: 1.1175376176834106\n",
            "Loss at epoch: 1 step 700: 1.311125636100769\n",
            "Loss at epoch: 1 step 800: 1.1144074201583862\n",
            "Loss at epoch: 1 step 900: 1.0091924667358398\n",
            "Loss at epoch: 1 step 1000: 1.017988681793213\n",
            "Loss at epoch: 1 step 1100: 0.8578568696975708\n",
            "Loss at epoch: 1 step 1200: 0.9052402973175049\n",
            "Loss at epoch: 1 step 1300: 0.9577885866165161\n",
            "Loss at epoch: 1 step 1400: 1.2435983419418335\n",
            "Val loss at epoch 1: 1.3049552125535953\n",
            "Val acc at epoch 1: 0.2707\n"
          ]
        }
      ]
    },
    {
      "cell_type": "markdown",
      "metadata": {
        "id": "XsllczcQykRq"
      },
      "source": [
        "## Výpočet na GPU\n",
        "\n",
        "Počítanie na CPU je pomalé preto si budeme sieť púšťať na GPU. Najprv sa musíme uistiť, že naša inštancia má GPU pridelené. To si spravíte Menu Runtime -> Change runtime type v hornom menu (File Edit etc.).\n",
        "\n",
        "Aké gpu sme dostali môžeme zistiť pomocou príkazu nvidia-smi"
      ]
    },
    {
      "cell_type": "code",
      "metadata": {
        "colab": {
          "base_uri": "https://localhost:8080/"
        },
        "id": "brp9SwNKzHMn",
        "outputId": "499e0966-8fad-4845-e53e-4dcfca71e16e"
      },
      "source": [
        "!nvidia-smi"
      ],
      "execution_count": null,
      "outputs": [
        {
          "output_type": "stream",
          "name": "stdout",
          "text": [
            "Thu Nov  3 18:30:14 2022       \n",
            "+-----------------------------------------------------------------------------+\n",
            "| NVIDIA-SMI 460.32.03    Driver Version: 460.32.03    CUDA Version: 11.2     |\n",
            "|-------------------------------+----------------------+----------------------+\n",
            "| GPU  Name        Persistence-M| Bus-Id        Disp.A | Volatile Uncorr. ECC |\n",
            "| Fan  Temp  Perf  Pwr:Usage/Cap|         Memory-Usage | GPU-Util  Compute M. |\n",
            "|                               |                      |               MIG M. |\n",
            "|===============================+======================+======================|\n",
            "|   0  Tesla T4            Off  | 00000000:00:04.0 Off |                    0 |\n",
            "| N/A   50C    P0    27W /  70W |   1190MiB / 15109MiB |      0%      Default |\n",
            "|                               |                      |                  N/A |\n",
            "+-------------------------------+----------------------+----------------------+\n",
            "                                                                               \n",
            "+-----------------------------------------------------------------------------+\n",
            "| Processes:                                                                  |\n",
            "|  GPU   GI   CI        PID   Type   Process name                  GPU Memory |\n",
            "|        ID   ID                                                   Usage      |\n",
            "|=============================================================================|\n",
            "+-----------------------------------------------------------------------------+\n"
          ]
        }
      ]
    },
    {
      "cell_type": "markdown",
      "metadata": {
        "id": "wmKKsnfTzNYV"
      },
      "source": [
        "Potom ak cheme aby výpočet prebehol na GPU, tak musím všetky vstupy a aj model samotný prehodiť na gpu pomocou metódy to."
      ]
    },
    {
      "cell_type": "code",
      "metadata": {
        "id": "6WvTs5fJ3kak"
      },
      "source": [
        "def one_epoch(model, loss, optimizer, dataloader_train, dataloader_val, device, verbose=True):\n",
        "  train_losses = []\n",
        "  val_losses = []\n",
        "\n",
        "  model.train()\n",
        "  for i, batch in enumerate(dataloader_train):  \n",
        "    x, y = batch[0].to(device), batch[1].to(device) \n",
        "    optimizer.zero_grad()\n",
        "\n",
        "    out = model(x)\n",
        "    loss = ce_loss(out, y)\n",
        "    loss.backward()\n",
        "    train_losses.append(loss.item())\n",
        "    optimizer.step()\n",
        "    if i % 100 == 0 and verbose:\n",
        "      print(\"Training loss at step {}: {}\".format(i, loss.item()))\n",
        "\n",
        "  model.eval()\n",
        "  with torch.no_grad():\n",
        "    correct = 0\n",
        "    total = 0\n",
        "    for i, batch in enumerate(dataloader_val):  \n",
        "      x, y = batch[0].to(device), batch[1].to(device)  \n",
        "\n",
        "      out = model(x)\n",
        "      loss = ce_loss(out, y)\n",
        "      acc = torch.sum(torch.argmax(out, dim=-1) == y)\n",
        "      correct += acc.item()\n",
        "      total += len(batch[1])\n",
        "      val_losses.append(loss.item())\n",
        "\n",
        "  val_acc = correct / total\n",
        "\n",
        "  return np.mean(train_losses), np.mean(val_losses), val_acc"
      ],
      "execution_count": null,
      "outputs": []
    },
    {
      "cell_type": "code",
      "metadata": {
        "colab": {
          "base_uri": "https://localhost:8080/",
          "height": 1000
        },
        "id": "uSh28OxszX6o",
        "outputId": "455748a5-91d1-410c-9e9d-293ae8111cf4"
      },
      "source": [
        "batch_size = 32\n",
        "\n",
        "dataloader_train = torch.utils.data.DataLoader(trainset, batch_size=batch_size, shuffle=True)\n",
        "dataloader_val = torch.utils.data.DataLoader(valset, batch_size=batch_size, shuffle=False)\n",
        "\n",
        "device = torch.device(\"cuda:0\" if torch.cuda.is_available() else \"cpu\")\n",
        "print(\"Using device: \", device)\n",
        "\n",
        "ce_loss = torch.nn.CrossEntropyLoss().to(device)\n",
        "\n",
        "model, model_inference = build_model()\n",
        "\n",
        "model.to(device)\n",
        "model_inference.to(device)\n",
        "\n",
        "print(\"Model moved to device: \", device)\n",
        "\n",
        "optimizer = torch.optim.Adam(model.parameters(), lr=1e-3)\n",
        "\n",
        "epoch_train_losses = []\n",
        "epoch_val_losses = []\n",
        "epoch_val_accs = []\n",
        "\n",
        "for e in range(10):\n",
        "  train_loss, val_loss, val_acc = one_epoch(model, ce_loss, optimizer, dataloader_train, dataloader_val, device)\n",
        "\n",
        "  print(\"Val loss at epoch {}: {}\".format(e, val_loss))\n",
        "  print(\"Val acc at epoch {}: {}\".format(e, val_acc))\n",
        "\n",
        "  epoch_train_losses.append(train_loss)\n",
        "  epoch_val_losses.append(val_loss)\n",
        "  epoch_val_accs.append(val_acc)\n",
        "  \n",
        "plt.plot(epoch_train_losses, c='r')\n",
        "plt.plot(epoch_val_losses, c='b')\n",
        "plt.show()"
      ],
      "execution_count": null,
      "outputs": [
        {
          "output_type": "stream",
          "name": "stdout",
          "text": [
            "Using device:  cuda:0\n",
            "Training loss at step 0: 2.298433542251587\n",
            "Training loss at step 100: 1.9803109169006348\n",
            "Training loss at step 200: 1.7345030307769775\n",
            "Training loss at step 300: 1.5569342374801636\n",
            "Training loss at step 400: 1.5570034980773926\n",
            "Training loss at step 500: 1.6008539199829102\n",
            "Training loss at step 600: 2.114595413208008\n",
            "Training loss at step 700: 1.4308944940567017\n",
            "Training loss at step 800: 1.5404484272003174\n",
            "Training loss at step 900: 1.862788438796997\n",
            "Training loss at step 1000: 1.3217451572418213\n",
            "Training loss at step 1100: 1.4191374778747559\n",
            "Training loss at step 1200: 1.5287309885025024\n",
            "Training loss at step 1300: 1.503659963607788\n",
            "Training loss at step 1400: 1.3139346837997437\n",
            "Val loss at epoch 0: 1.3622910543611855\n",
            "Val acc at epoch 0: 0.4986\n",
            "Training loss at step 0: 1.5479565858840942\n",
            "Training loss at step 100: 1.5500988960266113\n",
            "Training loss at step 200: 1.1877562999725342\n",
            "Training loss at step 300: 1.3583635091781616\n",
            "Training loss at step 400: 1.3407524824142456\n",
            "Training loss at step 500: 1.1516972780227661\n",
            "Training loss at step 600: 1.2506768703460693\n",
            "Training loss at step 700: 1.1351786851882935\n",
            "Training loss at step 800: 1.1268287897109985\n",
            "Training loss at step 900: 1.844806432723999\n",
            "Training loss at step 1000: 1.27851140499115\n",
            "Training loss at step 1100: 0.9036726951599121\n",
            "Training loss at step 1200: 1.1802997589111328\n",
            "Training loss at step 1300: 1.1866554021835327\n",
            "Training loss at step 1400: 1.1296980381011963\n",
            "Val loss at epoch 1: 1.1812716604797704\n",
            "Val acc at epoch 1: 0.5726\n",
            "Training loss at step 0: 1.0389155149459839\n",
            "Training loss at step 100: 1.1256740093231201\n",
            "Training loss at step 200: 0.9861751198768616\n",
            "Training loss at step 300: 1.1920726299285889\n",
            "Training loss at step 400: 1.1685993671417236\n",
            "Training loss at step 500: 0.8653880953788757\n",
            "Training loss at step 600: 0.8024913668632507\n",
            "Training loss at step 700: 1.136195182800293\n",
            "Training loss at step 800: 0.9337618947029114\n",
            "Training loss at step 900: 1.1291048526763916\n",
            "Training loss at step 1000: 1.3629988431930542\n",
            "Training loss at step 1100: 0.8450100421905518\n",
            "Training loss at step 1200: 1.1702605485916138\n",
            "Training loss at step 1300: 1.0233278274536133\n",
            "Training loss at step 1400: 0.7705819606781006\n",
            "Val loss at epoch 2: 1.0438169878759203\n",
            "Val acc at epoch 2: 0.624\n",
            "Training loss at step 0: 0.9626002907752991\n",
            "Training loss at step 100: 1.2088757753372192\n",
            "Training loss at step 200: 0.987924337387085\n",
            "Training loss at step 300: 0.7551568150520325\n",
            "Training loss at step 400: 0.8898820877075195\n",
            "Training loss at step 500: 0.8132122755050659\n",
            "Training loss at step 600: 1.0157665014266968\n",
            "Training loss at step 700: 1.0953199863433838\n",
            "Training loss at step 800: 0.7913274765014648\n",
            "Training loss at step 900: 0.9351499676704407\n",
            "Training loss at step 1000: 1.12790048122406\n",
            "Training loss at step 1100: 1.2245980501174927\n",
            "Training loss at step 1200: 0.9692612290382385\n",
            "Training loss at step 1300: 0.8745715618133545\n",
            "Training loss at step 1400: 0.868144690990448\n",
            "Val loss at epoch 3: 0.9615903232887293\n",
            "Val acc at epoch 3: 0.659\n",
            "Training loss at step 0: 0.8247624039649963\n",
            "Training loss at step 100: 1.0246833562850952\n",
            "Training loss at step 200: 0.8155002593994141\n",
            "Training loss at step 300: 1.006969690322876\n",
            "Training loss at step 400: 0.7005504369735718\n",
            "Training loss at step 500: 0.9964867830276489\n",
            "Training loss at step 600: 1.0442225933074951\n",
            "Training loss at step 700: 1.1321077346801758\n",
            "Training loss at step 800: 0.47125011682510376\n",
            "Training loss at step 900: 0.6091089844703674\n",
            "Training loss at step 1000: 0.9561170935630798\n",
            "Training loss at step 1100: 0.6060309410095215\n",
            "Training loss at step 1200: 0.5853601694107056\n",
            "Training loss at step 1300: 0.8582116365432739\n",
            "Training loss at step 1400: 0.9413869976997375\n",
            "Val loss at epoch 4: 0.9993655935973879\n",
            "Val acc at epoch 4: 0.6492\n",
            "Training loss at step 0: 1.0393060445785522\n",
            "Training loss at step 100: 1.0105150938034058\n",
            "Training loss at step 200: 0.72557532787323\n",
            "Training loss at step 300: 0.6239222288131714\n",
            "Training loss at step 400: 0.9053303599357605\n",
            "Training loss at step 500: 0.522832453250885\n",
            "Training loss at step 600: 1.0593780279159546\n",
            "Training loss at step 700: 0.7547932267189026\n",
            "Training loss at step 800: 1.0456594228744507\n",
            "Training loss at step 900: 0.9452189207077026\n",
            "Training loss at step 1000: 0.7531926035881042\n",
            "Training loss at step 1100: 0.8189080953598022\n",
            "Training loss at step 1200: 0.8032222390174866\n",
            "Training loss at step 1300: 0.9842979907989502\n",
            "Training loss at step 1400: 0.9426900148391724\n",
            "Val loss at epoch 5: 0.9690090575415617\n",
            "Val acc at epoch 5: 0.6552\n",
            "Training loss at step 0: 0.9441965818405151\n",
            "Training loss at step 100: 0.6726128458976746\n",
            "Training loss at step 200: 0.8912310004234314\n",
            "Training loss at step 300: 0.7937712669372559\n",
            "Training loss at step 400: 0.7692095041275024\n",
            "Training loss at step 500: 0.777540922164917\n",
            "Training loss at step 600: 0.5780221223831177\n",
            "Training loss at step 700: 0.8079573512077332\n",
            "Training loss at step 800: 0.7674722671508789\n",
            "Training loss at step 900: 0.5884504318237305\n",
            "Training loss at step 1000: 0.7647943496704102\n",
            "Training loss at step 1100: 0.5813148617744446\n",
            "Training loss at step 1200: 0.6841434240341187\n",
            "Training loss at step 1300: 0.540945827960968\n",
            "Training loss at step 1400: 0.5495977997779846\n",
            "Val loss at epoch 6: 0.8866183784357302\n",
            "Val acc at epoch 6: 0.692\n",
            "Training loss at step 0: 0.5538616180419922\n",
            "Training loss at step 100: 1.1044127941131592\n",
            "Training loss at step 200: 1.1216039657592773\n",
            "Training loss at step 300: 0.7569382190704346\n",
            "Training loss at step 400: 0.555073082447052\n",
            "Training loss at step 500: 0.3975299596786499\n",
            "Training loss at step 600: 0.6702237129211426\n",
            "Training loss at step 700: 0.6114169359207153\n",
            "Training loss at step 800: 0.9059973359107971\n",
            "Training loss at step 900: 0.45946404337882996\n",
            "Training loss at step 1000: 0.47548940777778625\n",
            "Training loss at step 1100: 0.7306699752807617\n",
            "Training loss at step 1200: 0.613054096698761\n",
            "Training loss at step 1300: 0.46063247323036194\n",
            "Training loss at step 1400: 0.7247615456581116\n",
            "Val loss at epoch 7: 0.8899993042277682\n",
            "Val acc at epoch 7: 0.6968\n",
            "Training loss at step 0: 0.6349508166313171\n",
            "Training loss at step 100: 0.485353946685791\n",
            "Training loss at step 200: 0.5820374488830566\n",
            "Training loss at step 300: 0.6702631115913391\n",
            "Training loss at step 400: 1.0391216278076172\n",
            "Training loss at step 500: 1.2125664949417114\n",
            "Training loss at step 600: 0.44932615756988525\n",
            "Training loss at step 700: 0.5539613962173462\n",
            "Training loss at step 800: 0.5795918107032776\n",
            "Training loss at step 900: 0.3844912350177765\n",
            "Training loss at step 1000: 0.7756617069244385\n",
            "Training loss at step 1100: 0.48371759057044983\n",
            "Training loss at step 1200: 0.6687140464782715\n",
            "Training loss at step 1300: 0.5895563960075378\n",
            "Training loss at step 1400: 0.7166048288345337\n",
            "Val loss at epoch 8: 0.8872114869819325\n",
            "Val acc at epoch 8: 0.7\n",
            "Training loss at step 0: 0.4859248697757721\n",
            "Training loss at step 100: 0.547018826007843\n",
            "Training loss at step 200: 0.4290882647037506\n",
            "Training loss at step 300: 0.9112761616706848\n",
            "Training loss at step 400: 0.7531234622001648\n",
            "Training loss at step 500: 0.6856429576873779\n",
            "Training loss at step 600: 0.6883419752120972\n",
            "Training loss at step 700: 0.26658299565315247\n",
            "Training loss at step 800: 0.49492794275283813\n",
            "Training loss at step 900: 0.6781985759735107\n",
            "Training loss at step 1000: 0.6433319449424744\n",
            "Training loss at step 1100: 0.5788275599479675\n",
            "Training loss at step 1200: 0.7402194738388062\n",
            "Training loss at step 1300: 0.9680688381195068\n",
            "Training loss at step 1400: 0.4828736186027527\n",
            "Val loss at epoch 9: 0.8861459831523287\n",
            "Val acc at epoch 9: 0.7032\n",
            "Training loss at step 0: 0.6596976518630981\n",
            "Training loss at step 100: 0.46398746967315674\n",
            "Training loss at step 200: 0.2428567260503769\n",
            "Training loss at step 300: 0.2341987043619156\n",
            "Training loss at step 400: 0.4912533462047577\n",
            "Training loss at step 500: 0.7435618042945862\n",
            "Training loss at step 600: 0.5698508024215698\n",
            "Training loss at step 700: 0.41456571221351624\n",
            "Training loss at step 800: 0.30603474378585815\n",
            "Training loss at step 900: 0.34970417618751526\n",
            "Training loss at step 1000: 0.4932762682437897\n",
            "Training loss at step 1100: 0.673185408115387\n",
            "Training loss at step 1200: 0.1462242156267166\n",
            "Training loss at step 1300: 0.5302636623382568\n",
            "Training loss at step 1400: 0.628328800201416\n",
            "Val loss at epoch 10: 0.8796094145364822\n",
            "Val acc at epoch 10: 0.7116\n",
            "Training loss at step 0: 0.64376300573349\n",
            "Training loss at step 100: 0.47921356558799744\n",
            "Training loss at step 200: 0.40430453419685364\n",
            "Training loss at step 300: 0.6827924847602844\n",
            "Training loss at step 400: 0.6230355501174927\n",
            "Training loss at step 500: 0.2651740610599518\n",
            "Training loss at step 600: 0.47184181213378906\n",
            "Training loss at step 700: 0.6376378536224365\n",
            "Training loss at step 800: 0.7505254745483398\n",
            "Training loss at step 900: 0.44530925154685974\n",
            "Training loss at step 1000: 0.5301483869552612\n",
            "Training loss at step 1100: 0.7340105772018433\n",
            "Training loss at step 1200: 0.6914933323860168\n",
            "Training loss at step 1300: 0.6735408902168274\n",
            "Training loss at step 1400: 0.38629522919654846\n",
            "Val loss at epoch 11: 0.9027558612595697\n",
            "Val acc at epoch 11: 0.7086\n",
            "Training loss at step 0: 0.5281327962875366\n",
            "Training loss at step 100: 0.2123783677816391\n",
            "Training loss at step 200: 0.5146037340164185\n",
            "Training loss at step 300: 0.36456507444381714\n",
            "Training loss at step 400: 0.27586615085601807\n",
            "Training loss at step 500: 0.24084973335266113\n",
            "Training loss at step 600: 0.7001718282699585\n",
            "Training loss at step 700: 0.6387850642204285\n",
            "Training loss at step 800: 0.5287790894508362\n",
            "Training loss at step 900: 0.2810008227825165\n",
            "Training loss at step 1000: 0.48748326301574707\n",
            "Training loss at step 1100: 0.4818193316459656\n",
            "Training loss at step 1200: 0.8281959295272827\n",
            "Training loss at step 1300: 1.238063931465149\n",
            "Training loss at step 1400: 0.4029616415500641\n",
            "Val loss at epoch 12: 0.9045740713359444\n",
            "Val acc at epoch 12: 0.7138\n",
            "Training loss at step 0: 0.522546112537384\n",
            "Training loss at step 100: 0.41127750277519226\n",
            "Training loss at step 200: 0.3459636867046356\n",
            "Training loss at step 300: 0.34836822748184204\n",
            "Training loss at step 400: 0.4861504137516022\n",
            "Training loss at step 500: 0.2730284035205841\n",
            "Training loss at step 600: 0.2146061360836029\n",
            "Training loss at step 700: 0.5800669193267822\n",
            "Training loss at step 800: 0.743789553642273\n",
            "Training loss at step 900: 0.45729556679725647\n",
            "Training loss at step 1000: 0.5311628580093384\n",
            "Training loss at step 1100: 0.30578938126564026\n",
            "Training loss at step 1200: 0.712141215801239\n",
            "Training loss at step 1300: 0.2924526333808899\n",
            "Training loss at step 1400: 0.6849330067634583\n",
            "Val loss at epoch 13: 0.9429538861201827\n",
            "Val acc at epoch 13: 0.7036\n",
            "Training loss at step 0: 0.448127418756485\n",
            "Training loss at step 100: 0.23546604812145233\n",
            "Training loss at step 200: 0.25664669275283813\n",
            "Training loss at step 300: 0.2917310893535614\n",
            "Training loss at step 400: 0.5399340987205505\n",
            "Training loss at step 500: 0.44788414239883423\n",
            "Training loss at step 600: 0.4503253996372223\n",
            "Training loss at step 700: 0.5404943823814392\n",
            "Training loss at step 800: 0.39120054244995117\n",
            "Training loss at step 900: 0.2792436480522156\n",
            "Training loss at step 1000: 0.35114163160324097\n",
            "Training loss at step 1100: 0.4360103905200958\n",
            "Training loss at step 1200: 0.45277681946754456\n",
            "Training loss at step 1300: 0.64296555519104\n",
            "Training loss at step 1400: 0.46572577953338623\n",
            "Val loss at epoch 14: 0.9415110706523725\n",
            "Val acc at epoch 14: 0.7162\n",
            "Training loss at step 0: 0.31663236021995544\n",
            "Training loss at step 100: 0.14040464162826538\n",
            "Training loss at step 200: 0.16076935827732086\n",
            "Training loss at step 300: 0.41312551498413086\n",
            "Training loss at step 400: 0.6802794933319092\n",
            "Training loss at step 500: 0.25151246786117554\n",
            "Training loss at step 600: 0.34723424911499023\n",
            "Training loss at step 700: 0.4941287338733673\n",
            "Training loss at step 800: 0.3176739513874054\n",
            "Training loss at step 900: 0.32228636741638184\n",
            "Training loss at step 1000: 0.11767455190420151\n",
            "Training loss at step 1100: 0.3958800435066223\n",
            "Training loss at step 1200: 0.4926156997680664\n",
            "Training loss at step 1300: 0.38430002331733704\n",
            "Training loss at step 1400: 0.6927937865257263\n",
            "Val loss at epoch 15: 1.0151730287986196\n",
            "Val acc at epoch 15: 0.7048\n",
            "Training loss at step 0: 0.7201598882675171\n",
            "Training loss at step 100: 0.09301673620939255\n",
            "Training loss at step 200: 0.19616079330444336\n",
            "Training loss at step 300: 0.42471131682395935\n",
            "Training loss at step 400: 0.14501291513442993\n",
            "Training loss at step 500: 0.3260023593902588\n",
            "Training loss at step 600: 0.4498562216758728\n",
            "Training loss at step 700: 0.4442211985588074\n",
            "Training loss at step 800: 0.4240001440048218\n",
            "Training loss at step 900: 0.9562990665435791\n",
            "Training loss at step 1000: 0.44218382239341736\n",
            "Training loss at step 1100: 0.5119656920433044\n",
            "Training loss at step 1200: 0.735475480556488\n",
            "Training loss at step 1300: 0.38772350549697876\n",
            "Training loss at step 1400: 0.48668986558914185\n",
            "Val loss at epoch 16: 1.1074446035418541\n",
            "Val acc at epoch 16: 0.6866\n",
            "Training loss at step 0: 0.3686802387237549\n",
            "Training loss at step 100: 0.20462116599082947\n",
            "Training loss at step 200: 0.316487580537796\n",
            "Training loss at step 300: 0.37359392642974854\n",
            "Training loss at step 400: 0.3068799674510956\n",
            "Training loss at step 500: 0.2156241089105606\n",
            "Training loss at step 600: 0.6142696738243103\n",
            "Training loss at step 700: 0.2507716715335846\n",
            "Training loss at step 800: 0.12757958471775055\n",
            "Training loss at step 900: 0.6453543901443481\n",
            "Training loss at step 1000: 0.2030724138021469\n",
            "Training loss at step 1100: 0.5730326175689697\n",
            "Training loss at step 1200: 0.21803168952465057\n",
            "Training loss at step 1300: 0.28748735785484314\n",
            "Training loss at step 1400: 0.1983395516872406\n",
            "Val loss at epoch 17: 1.1008648158638341\n",
            "Val acc at epoch 17: 0.6968\n",
            "Training loss at step 0: 0.30281195044517517\n",
            "Training loss at step 100: 0.13702534139156342\n",
            "Training loss at step 200: 0.15613165497779846\n",
            "Training loss at step 300: 0.31376928091049194\n",
            "Training loss at step 400: 0.207209974527359\n",
            "Training loss at step 500: 0.18910431861877441\n",
            "Training loss at step 600: 0.1938953846693039\n",
            "Training loss at step 700: 0.5608057975769043\n",
            "Training loss at step 800: 0.42337915301322937\n",
            "Training loss at step 900: 0.16560348868370056\n",
            "Training loss at step 1000: 0.3568848669528961\n",
            "Training loss at step 1100: 0.4512363076210022\n",
            "Training loss at step 1200: 0.5068306922912598\n",
            "Training loss at step 1300: 0.22241944074630737\n",
            "Training loss at step 1400: 0.595964252948761\n",
            "Val loss at epoch 18: 1.213297590708277\n",
            "Val acc at epoch 18: 0.6954\n",
            "Training loss at step 0: 0.34719616174697876\n",
            "Training loss at step 100: 0.2555296719074249\n",
            "Training loss at step 200: 0.2966437339782715\n",
            "Training loss at step 300: 0.48873043060302734\n",
            "Training loss at step 400: 0.24537484347820282\n",
            "Training loss at step 500: 0.403523325920105\n",
            "Training loss at step 600: 0.23480157554149628\n",
            "Training loss at step 700: 0.39818769693374634\n",
            "Training loss at step 800: 0.15886367857456207\n",
            "Training loss at step 900: 0.2331104725599289\n",
            "Training loss at step 1000: 0.38020655512809753\n",
            "Training loss at step 1100: 0.20995154976844788\n",
            "Training loss at step 1200: 0.6257442235946655\n",
            "Training loss at step 1300: 0.46153128147125244\n",
            "Training loss at step 1400: 0.41519299149513245\n",
            "Val loss at epoch 19: 1.1457648285824782\n",
            "Val acc at epoch 19: 0.7052\n"
          ]
        },
        {
          "output_type": "display_data",
          "data": {
            "text/plain": [
              "<Figure size 432x288 with 1 Axes>"
            ],
            "image/png": "[encoded data removed]"
          },
          "metadata": {
            "needs_background": "light"
          }
        }
      ]
    },
    {
      "cell_type": "markdown",
      "metadata": {
        "id": "YgS3l2He64B5"
      },
      "source": [
        "## Dropout\n",
        "\n",
        "Minule sme si ukazovali L1 a L2 regularizáciu. Dnes si ukážeme metódu Dropout. Tá spočíva v tom, že niektoré prepojenia (s pravedepodobnosťou $p$) sieť nastaví na nulu. To zabráni koadaptácii príznakov. Teda ak náhodou dva príznaky reprezentujú do isté, tak by sa nemali šancu naučiť každý niečo iné, lebo vždy budú ich gradienty a teda aj zmena po každom kroku rovnaká (aspoň približne). Ak však pridáme dropout majú tieto príznaky možnosť sa odlúčiť od seba, čo je pozitívne. Iný pohľad na vec je taký, že vlastne trénujeme viacero modelov naraz (tj. toľko modelov koľko existuje kombinácii kde sa niektore váhy ignorujú) a na konci ich spojíme a spriemerujeme ich výsledok."
      ]
    },
    {
      "cell_type": "markdown",
      "metadata": {
        "id": "Pu_VCy2567Ii"
      },
      "source": [
        "## BatchNormalization\n",
        "\n",
        "Normalizácia dávok rieši problém vnútorného kovariančného posunu (internal covarience shift) v rámci siete. Ten spôsobuje že príznaky nemajú vhodnú distribúciu v rámci siete. To je dôležité najmä pre hlbšie siete.\n",
        "\n",
        "BatchNorm funguje tak, že pre každý minibatch sa vypočíta stredná hodnota a štandardná odchylka príznakov na danej vrstve. Príznaky sa potom normalizujú odčítanim priemeru a podelením štd. odchylkou:\n",
        "\n",
        "$$\\hat{x} = \\frac{x - \\bar{x}}{\\sqrt{\\sigma^2(x) + \\epsilon}}.$$\n",
        "\n",
        "Keďže však normálna distribúcia nieje vždy žiadúca má táto vrstva ešte dva trénovateľné parametre $\\gamma$ a $\\beta$:\n",
        "\n",
        "$$y = \\gamma \\hat{x} + \\beta.$$\n",
        "\n",
        "To umožní naučiť sa iný tvar distribúcie, ktorý je pre sieť vhodnejší.\n",
        "\n",
        "Pri inferencii nedostávame dávku, resp. ju nedostávame náhodne. Preto si vrstva po trénovaní pamätá priemer a štd. odchylku.\n",
        "\n",
        "BatchNorm sa bežne aplikuje pred activačnou funkciou. Doteraz sme ju mali určenú v inej vrstve teraz ju spravíme samostatne.\n",
        "\n"
      ]
    },
    {
      "cell_type": "markdown",
      "metadata": {
        "id": "Fs_t84F57Ysq"
      },
      "source": [
        "Naimplementujeme si teda build model funkciu, ktorá dokáže model načítať ak zadáme cestu k uloženému checkpointu a zároveň vie pridať dropout a batchnorm"
      ]
    },
    {
      "cell_type": "code",
      "metadata": {
        "colab": {
          "base_uri": "https://localhost:8080/"
        },
        "id": "7kCAgMlR682O",
        "outputId": "c79febe7-1a04-4d84-983a-79bfc2eccebd"
      },
      "source": [
        "from torch.nn import Sequential, Linear, ReLU, Softmax, Conv2d, MaxPool2d, Flatten, BatchNorm2d, BatchNorm1d, Dropout\n",
        "\n",
        "def build_model(path=None, dropout_p=0.5, bn=True):\n",
        "  # Na vstupe budu tri kanaly lebo mame RGB vstup\n",
        "\n",
        "  modules = []\n",
        "  modules.append(Conv2d(3, 32, 3))\n",
        "  if bn:\n",
        "    modules.append(BatchNorm2d(32))\n",
        "  modules.append(MaxPool2d(2))\n",
        "  modules.append(ReLU())\n",
        "\n",
        "  modules.append(Conv2d(32, 64, 3))\n",
        "  if bn:\n",
        "    modules.append(BatchNorm2d(64))\n",
        "  modules.append(MaxPool2d(2))\n",
        "  modules.append(ReLU())\n",
        "\n",
        "  modules.append(Conv2d(64, 128, 3))\n",
        "  if bn:\n",
        "    modules.append(BatchNorm2d(128))\n",
        "  modules.append(MaxPool2d(2))\n",
        "  modules.append(ReLU())\n",
        "\n",
        "  modules.append(Flatten())\n",
        "\n",
        "  modules.append(Linear(512, 256))\n",
        "  if bn:\n",
        "    modules.append(BatchNorm1d(256))\n",
        "  modules.append(ReLU())\n",
        "  if dropout_p > 0.0:\n",
        "    modules.append(Dropout(dropout_p))\n",
        "\n",
        "  modules.append(Linear(256, 128))\n",
        "  if bn:\n",
        "    modules.append(BatchNorm1d(128))\n",
        "  modules.append(ReLU())\n",
        "  if dropout_p > 0.0:\n",
        "    modules.append(Dropout(dropout_p))\n",
        "\n",
        "  modules.append(Linear(128, 10))\n",
        "  \n",
        "  model = Sequential(*modules)\n",
        "\n",
        "  if path is not None:\n",
        "    model.load_state_dict(torch.load(path))\n",
        "\n",
        "  model_inference = Sequential(model, Softmax())\n",
        "  return model, model_inference\n",
        "\n",
        "\n",
        "# overime ze model funguje - ak by sme napriklad za flatten dali zle cislo nefungovalo by to\n",
        "model, model_inference = build_model()\n",
        "\n",
        "model_inference(torch.from_numpy(np.zeros([16, 3, 32, 32], dtype=np.float32)))"
      ],
      "execution_count": null,
      "outputs": [
        {
          "output_type": "execute_result",
          "data": {
            "text/plain": [
              "tensor([[0.0917, 0.1043, 0.0997, 0.0983, 0.0973, 0.1049, 0.0911, 0.1014, 0.1065,\n",
              "         0.1046],\n",
              "        [0.0917, 0.1043, 0.0997, 0.0983, 0.0973, 0.1049, 0.0911, 0.1014, 0.1065,\n",
              "         0.1046],\n",
              "        [0.0917, 0.1043, 0.0997, 0.0983, 0.0973, 0.1049, 0.0911, 0.1014, 0.1065,\n",
              "         0.1046],\n",
              "        [0.0917, 0.1043, 0.0997, 0.0983, 0.0973, 0.1049, 0.0911, 0.1014, 0.1065,\n",
              "         0.1046],\n",
              "        [0.0917, 0.1043, 0.0997, 0.0983, 0.0973, 0.1049, 0.0911, 0.1014, 0.1065,\n",
              "         0.1046],\n",
              "        [0.0917, 0.1043, 0.0997, 0.0983, 0.0973, 0.1049, 0.0911, 0.1014, 0.1065,\n",
              "         0.1046],\n",
              "        [0.0917, 0.1043, 0.0997, 0.0983, 0.0973, 0.1049, 0.0911, 0.1014, 0.1065,\n",
              "         0.1046],\n",
              "        [0.0917, 0.1043, 0.0997, 0.0983, 0.0973, 0.1049, 0.0911, 0.1014, 0.1065,\n",
              "         0.1046],\n",
              "        [0.0917, 0.1043, 0.0997, 0.0983, 0.0973, 0.1049, 0.0911, 0.1014, 0.1065,\n",
              "         0.1046],\n",
              "        [0.0917, 0.1043, 0.0997, 0.0983, 0.0973, 0.1049, 0.0911, 0.1014, 0.1065,\n",
              "         0.1046],\n",
              "        [0.0917, 0.1043, 0.0997, 0.0983, 0.0973, 0.1049, 0.0911, 0.1014, 0.1065,\n",
              "         0.1046],\n",
              "        [0.0917, 0.1043, 0.0997, 0.0983, 0.0973, 0.1049, 0.0911, 0.1014, 0.1065,\n",
              "         0.1046],\n",
              "        [0.0917, 0.1043, 0.0997, 0.0983, 0.0973, 0.1049, 0.0911, 0.1014, 0.1065,\n",
              "         0.1046],\n",
              "        [0.0917, 0.1043, 0.0997, 0.0983, 0.0973, 0.1049, 0.0911, 0.1014, 0.1065,\n",
              "         0.1046],\n",
              "        [0.0917, 0.1043, 0.0997, 0.0983, 0.0973, 0.1049, 0.0911, 0.1014, 0.1065,\n",
              "         0.1046],\n",
              "        [0.0917, 0.1043, 0.0997, 0.0983, 0.0973, 0.1049, 0.0911, 0.1014, 0.1065,\n",
              "         0.1046]], grad_fn=<SoftmaxBackward0>)"
            ]
          },
          "metadata": {},
          "execution_count": 28
        }
      ]
    },
    {
      "cell_type": "markdown",
      "metadata": {
        "id": "GpIRtc3itkrg"
      },
      "source": [
        "## Augmentácia dát\n",
        "Na vylepšenie modelu by bolo dobré mať viac dát. Tie však len tak zohnať nevieme. Preto si pomôžeme augmentáciou. Tá spočíva v aplikácii transformácií, ktoré nemenia sémantický obsah obrazu. Augmentácia sa dá poňať aj tak, že chceme aby naša sieť bola invariantná voči týmto transformáciám.\n",
        "\n",
        "Prakticky využijeme augmentáciu tak, že modifujeme parameter transforms pri načítaní datasetu."
      ]
    },
    {
      "cell_type": "code",
      "metadata": {
        "colab": {
          "base_uri": "https://localhost:8080/",
          "height": 1000
        },
        "id": "OdVmmrcw7qs8",
        "outputId": "dedfa709-386f-4ed3-d0f4-f815b978ecf1"
      },
      "source": [
        "dataset = torchvision.datasets.CIFAR10(root='./data', train=True, download=True, transform=transform)\n",
        "\n",
        "\n",
        "trainset, valset = torch.utils.data.random_split(dataset, [45000, 5000], generator=torch.Generator().manual_seed(42))\n",
        "\n",
        "dataloader_preview_aug = torch.utils.data.DataLoader(trainset, batch_size=1, shuffle=False)\n",
        "\n",
        "for i, sample in enumerate(dataloader_preview_aug):\n",
        "  if i > 10:\n",
        "    break\n",
        "  x, y = sample\n",
        "  print(x.shape)\n",
        "  img = np.moveaxis(x.numpy()[0], 0, -1)\n",
        "  plt.imshow(img)\n",
        "  plt.show()\n",
        "  print(y)\n",
        "  print(classes[y.item()])\n",
        "\n",
        "\n",
        "aug_transforms = transforms.Compose([transforms.RandomHorizontalFlip(),\n",
        "                                     transforms.RandomRotation(20),\n",
        "                                     transforms.RandomResizedCrop(size=(32, 32)),\n",
        "                                     transforms.ToTensor()])\n",
        "\n",
        "dataset_aug = torchvision.datasets.CIFAR10(root='./data', train=True, download=True, transform=aug_transforms)\n",
        "\n",
        "# tu musime dat rovnaky seed aby sme mali val a train disjunktne\n",
        "trainset_aug, _ = torch.utils.data.random_split(dataset_aug, [45000, 5000], generator=torch.Generator().manual_seed(42))\n",
        "dataloader_preview_aug = torch.utils.data.DataLoader(trainset_aug, batch_size=1, shuffle=False)\n",
        "\n",
        "for i, sample in enumerate(dataloader_preview_aug):\n",
        "  if i > 10:\n",
        "    break\n",
        "  x, y = sample\n",
        "  print(x.shape)\n",
        "  img = np.moveaxis(x.numpy()[0], 0, -1)\n",
        "  plt.imshow(img)\n",
        "  plt.show()\n",
        "  print(y)\n",
        "  print(classes[y.item()])"
      ],
      "execution_count": null,
      "outputs": [
        {
          "output_type": "stream",
          "name": "stdout",
          "text": [
            "Files already downloaded and verified\n",
            "torch.Size([1, 3, 32, 32])\n"
          ]
        },
        {
          "output_type": "display_data",
          "data": {
            "text/plain": [
              "<Figure size 432x288 with 1 Axes>"
            ],
            "image/png": "[encoded data removed]"
          },
          "metadata": {
            "needs_background": "light"
          }
        },
        {
          "output_type": "stream",
          "name": "stdout",
          "text": [
            "tensor([6])\n",
            "frog\n",
            "torch.Size([1, 3, 32, 32])\n"
          ]
        },
        {
          "output_type": "display_data",
          "data": {
            "text/plain": [
              "<Figure size 432x288 with 1 Axes>"
            ],
            "image/png": "[encoded data removed]"
          },
          "metadata": {
            "needs_background": "light"
          }
        },
        {
          "output_type": "stream",
          "name": "stdout",
          "text": [
            "tensor([2])\n",
            "bird\n",
            "torch.Size([1, 3, 32, 32])\n"
          ]
        },
        {
          "output_type": "display_data",
          "data": {
            "text/plain": [
              "<Figure size 432x288 with 1 Axes>"
            ],
            "image/png": "[encoded data removed]"
          },
          "metadata": {
            "needs_background": "light"
          }
        },
        {
          "output_type": "stream",
          "name": "stdout",
          "text": [
            "tensor([8])\n",
            "ship\n",
            "torch.Size([1, 3, 32, 32])\n"
          ]
        },
        {
          "output_type": "display_data",
          "data": {
            "text/plain": [
              "<Figure size 432x288 with 1 Axes>"
            ],
            "image/png": "[encoded data removed]"
          },
          "metadata": {
            "needs_background": "light"
          }
        },
        {
          "output_type": "stream",
          "name": "stdout",
          "text": [
            "tensor([6])\n",
            "frog\n",
            "torch.Size([1, 3, 32, 32])\n"
          ]
        },
        {
          "output_type": "display_data",
          "data": {
            "text/plain": [
              "<Figure size 432x288 with 1 Axes>"
            ],
            "image/png": "[encoded data removed]"
          },
          "metadata": {
            "needs_background": "light"
          }
        },
        {
          "output_type": "stream",
          "name": "stdout",
          "text": [
            "tensor([6])\n",
            "frog\n",
            "torch.Size([1, 3, 32, 32])\n"
          ]
        },
        {
          "output_type": "display_data",
          "data": {
            "text/plain": [
              "<Figure size 432x288 with 1 Axes>"
            ],
            "image/png": "[encoded data removed]"
          },
          "metadata": {
            "needs_background": "light"
          }
        },
        {
          "output_type": "stream",
          "name": "stdout",
          "text": [
            "tensor([9])\n",
            "truck\n",
            "torch.Size([1, 3, 32, 32])\n"
          ]
        },
        {
          "output_type": "display_data",
          "data": {
            "text/plain": [
              "<Figure size 432x288 with 1 Axes>"
            ],
            "image/png": "[encoded data removed]"
          },
          "metadata": {
            "needs_background": "light"
          }
        },
        {
          "output_type": "stream",
          "name": "stdout",
          "text": [
            "tensor([4])\n",
            "deer\n",
            "torch.Size([1, 3, 32, 32])\n"
          ]
        },
        {
          "output_type": "display_data",
          "data": {
            "text/plain": [
              "<Figure size 432x288 with 1 Axes>"
            ],
            "image/png": "[encoded data removed]"
          },
          "metadata": {
            "needs_background": "light"
          }
        },
        {
          "output_type": "stream",
          "name": "stdout",
          "text": [
            "tensor([5])\n",
            "dog\n",
            "torch.Size([1, 3, 32, 32])\n"
          ]
        },
        {
          "output_type": "display_data",
          "data": {
            "text/plain": [
              "<Figure size 432x288 with 1 Axes>"
            ],
            "image/png": "[encoded data removed]"
          },
          "metadata": {
            "needs_background": "light"
          }
        },
        {
          "output_type": "stream",
          "name": "stdout",
          "text": [
            "tensor([4])\n",
            "deer\n",
            "torch.Size([1, 3, 32, 32])\n"
          ]
        },
        {
          "output_type": "display_data",
          "data": {
            "text/plain": [
              "<Figure size 432x288 with 1 Axes>"
            ],
            "image/png": "[encoded data removed]"
          },
          "metadata": {
            "needs_background": "light"
          }
        },
        {
          "output_type": "stream",
          "name": "stdout",
          "text": [
            "tensor([4])\n",
            "deer\n",
            "torch.Size([1, 3, 32, 32])\n"
          ]
        },
        {
          "output_type": "display_data",
          "data": {
            "text/plain": [
              "<Figure size 432x288 with 1 Axes>"
            ],
            "image/png": "[encoded data removed]"
          },
          "metadata": {
            "needs_background": "light"
          }
        },
        {
          "output_type": "stream",
          "name": "stdout",
          "text": [
            "tensor([5])\n",
            "dog\n",
            "Files already downloaded and verified\n",
            "torch.Size([1, 3, 32, 32])\n"
          ]
        },
        {
          "output_type": "display_data",
          "data": {
            "text/plain": [
              "<Figure size 432x288 with 1 Axes>"
            ],
            "image/png": "[encoded data removed]"
          },
          "metadata": {
            "needs_background": "light"
          }
        },
        {
          "output_type": "stream",
          "name": "stdout",
          "text": [
            "tensor([6])\n",
            "frog\n",
            "torch.Size([1, 3, 32, 32])\n"
          ]
        },
        {
          "output_type": "display_data",
          "data": {
            "text/plain": [
              "<Figure size 432x288 with 1 Axes>"
            ],
            "image/png": "[encoded data removed]"
          },
          "metadata": {
            "needs_background": "light"
          }
        },
        {
          "output_type": "stream",
          "name": "stdout",
          "text": [
            "tensor([2])\n",
            "bird\n",
            "torch.Size([1, 3, 32, 32])\n"
          ]
        },
        {
          "output_type": "display_data",
          "data": {
            "text/plain": [
              "<Figure size 432x288 with 1 Axes>"
            ],
            "image/png": "[encoded data removed]"
          },
          "metadata": {
            "needs_background": "light"
          }
        },
        {
          "output_type": "stream",
          "name": "stdout",
          "text": [
            "tensor([8])\n",
            "ship\n",
            "torch.Size([1, 3, 32, 32])\n"
          ]
        },
        {
          "output_type": "display_data",
          "data": {
            "text/plain": [
              "<Figure size 432x288 with 1 Axes>"
            ],
            "image/png": "[encoded data removed]"
          },
          "metadata": {
            "needs_background": "light"
          }
        },
        {
          "output_type": "stream",
          "name": "stdout",
          "text": [
            "tensor([6])\n",
            "frog\n",
            "torch.Size([1, 3, 32, 32])\n"
          ]
        },
        {
          "output_type": "display_data",
          "data": {
            "text/plain": [
              "<Figure size 432x288 with 1 Axes>"
            ],
            "image/png": "[encoded data removed]"
          },
          "metadata": {
            "needs_background": "light"
          }
        },
        {
          "output_type": "stream",
          "name": "stdout",
          "text": [
            "tensor([6])\n",
            "frog\n",
            "torch.Size([1, 3, 32, 32])\n"
          ]
        },
        {
          "output_type": "display_data",
          "data": {
            "text/plain": [
              "<Figure size 432x288 with 1 Axes>"
            ],
            "image/png": "[encoded data removed]"
          },
          "metadata": {
            "needs_background": "light"
          }
        },
        {
          "output_type": "stream",
          "name": "stdout",
          "text": [
            "tensor([9])\n",
            "truck\n",
            "torch.Size([1, 3, 32, 32])\n"
          ]
        },
        {
          "output_type": "display_data",
          "data": {
            "text/plain": [
              "<Figure size 432x288 with 1 Axes>"
            ],
            "image/png": "[encoded data removed]"
          },
          "metadata": {
            "needs_background": "light"
          }
        },
        {
          "output_type": "stream",
          "name": "stdout",
          "text": [
            "tensor([4])\n",
            "deer\n",
            "torch.Size([1, 3, 32, 32])\n"
          ]
        },
        {
          "output_type": "display_data",
          "data": {
            "text/plain": [
              "<Figure size 432x288 with 1 Axes>"
            ],
            "image/png": "[encoded data removed]"
          },
          "metadata": {
            "needs_background": "light"
          }
        },
        {
          "output_type": "stream",
          "name": "stdout",
          "text": [
            "tensor([5])\n",
            "dog\n",
            "torch.Size([1, 3, 32, 32])\n"
          ]
        },
        {
          "output_type": "display_data",
          "data": {
            "text/plain": [
              "<Figure size 432x288 with 1 Axes>"
            ],
            "image/png": "[encoded data removed]"
          },
          "metadata": {
            "needs_background": "light"
          }
        },
        {
          "output_type": "stream",
          "name": "stdout",
          "text": [
            "tensor([4])\n",
            "deer\n",
            "torch.Size([1, 3, 32, 32])\n"
          ]
        },
        {
          "output_type": "display_data",
          "data": {
            "text/plain": [
              "<Figure size 432x288 with 1 Axes>"
            ],
            "image/png": "[encoded data removed]"
          },
          "metadata": {
            "needs_background": "light"
          }
        },
        {
          "output_type": "stream",
          "name": "stdout",
          "text": [
            "tensor([4])\n",
            "deer\n",
            "torch.Size([1, 3, 32, 32])\n"
          ]
        },
        {
          "output_type": "display_data",
          "data": {
            "text/plain": [
              "<Figure size 432x288 with 1 Axes>"
            ],
            "image/png": "[encoded data removed]"
          },
          "metadata": {
            "needs_background": "light"
          }
        },
        {
          "output_type": "stream",
          "name": "stdout",
          "text": [
            "tensor([5])\n",
            "dog\n"
          ]
        }
      ]
    },
    {
      "cell_type": "markdown",
      "metadata": {
        "id": "4C3G3u3h92dj"
      },
      "source": [
        "Keď to dáme dokopy mali by sme predísť overfittingu."
      ]
    },
    {
      "cell_type": "code",
      "metadata": {
        "colab": {
          "base_uri": "https://localhost:8080/",
          "height": 1000
        },
        "id": "qM5HmINt9-W9",
        "outputId": "add90969-f8ee-4f03-9be6-b642bb9922b8"
      },
      "source": [
        "batch_size = 32\n",
        "\n",
        "dataloader_train = torch.utils.data.DataLoader(trainset_aug, batch_size=batch_size, shuffle=True)\n",
        "dataloader_val = torch.utils.data.DataLoader(valset, batch_size=batch_size, shuffle=False)\n",
        "\n",
        "device = torch.device(\"cuda:0\" if torch.cuda.is_available() else \"cpu\")\n",
        "print(\"Using device: \", device)\n",
        "\n",
        "ce_loss = torch.nn.CrossEntropyLoss().to(device)\n",
        "\n",
        "model, model_inference = build_model(dropout_p=0.5, bn=True)\n",
        "\n",
        "model.to(device)\n",
        "model_inference.to(device)\n",
        "\n",
        "optimizer = torch.optim.Adam(model.parameters(), lr=1e-3)\n",
        "\n",
        "epoch_train_losses = []\n",
        "epoch_val_losses = []\n",
        "epoch_val_accs = []\n",
        "\n",
        "for e in range(10):\n",
        "  train_loss, val_loss, val_acc = one_epoch(model, loss, optimizer, dataloader_train, dataloader_val, device=device)\n",
        "\n",
        "  print(\"Val loss at epoch {}: {}\".format(e, val_loss))\n",
        "  print(\"Val acc at epoch {}: {}\".format(e, val_acc))\n",
        "\n",
        "  torch.save(model.state_dict(), \"{:03d}.pth\".format(e))\n",
        "  epoch_train_losses.append(train_loss)\n",
        "  epoch_val_losses.append(val_loss)\n",
        "  epoch_val_accs.append(val_acc)\n",
        "\n",
        "plt.plot(epoch_train_losses, c='r')\n",
        "plt.plot(epoch_val_losses, c='b')\n",
        "plt.show()"
      ],
      "execution_count": null,
      "outputs": [
        {
          "output_type": "stream",
          "name": "stdout",
          "text": [
            "Using device:  cuda:0\n",
            "Training loss at step 0: 2.237297534942627\n",
            "Training loss at step 100: 2.060638189315796\n",
            "Training loss at step 200: 2.075610399246216\n",
            "Training loss at step 300: 1.9772144556045532\n",
            "Training loss at step 400: 1.9644876718521118\n",
            "Training loss at step 500: 1.7724543809890747\n",
            "Training loss at step 600: 1.9592281579971313\n",
            "Training loss at step 700: 1.8145829439163208\n",
            "Training loss at step 800: 1.675639271736145\n",
            "Training loss at step 900: 1.6916577816009521\n",
            "Training loss at step 1000: 1.8829621076583862\n",
            "Training loss at step 1100: 1.55255925655365\n",
            "Training loss at step 1200: 2.0000193119049072\n",
            "Training loss at step 1300: 1.7197901010513306\n",
            "Training loss at step 1400: 1.8468190431594849\n",
            "Val loss at epoch 0: 1.6430163512564009\n",
            "Val acc at epoch 0: 0.4236\n",
            "Training loss at step 0: 1.717668056488037\n",
            "Training loss at step 100: 1.4945255517959595\n",
            "Training loss at step 200: 2.1009645462036133\n",
            "Training loss at step 300: 1.6506670713424683\n",
            "Training loss at step 400: 1.6997777223587036\n",
            "Training loss at step 500: 1.6992347240447998\n",
            "Training loss at step 600: 1.9318468570709229\n",
            "Training loss at step 700: 1.9405648708343506\n",
            "Training loss at step 800: 1.860042929649353\n",
            "Training loss at step 900: 2.0266568660736084\n",
            "Training loss at step 1000: 1.6756715774536133\n",
            "Training loss at step 1100: 1.3872236013412476\n",
            "Training loss at step 1200: 1.6501379013061523\n",
            "Training loss at step 1300: 1.7113535404205322\n",
            "Training loss at step 1400: 1.8309383392333984\n",
            "Val loss at epoch 1: 1.3964048756915293\n",
            "Val acc at epoch 1: 0.5026\n",
            "Training loss at step 0: 1.3598661422729492\n",
            "Training loss at step 100: 1.4559481143951416\n",
            "Training loss at step 200: 1.5682622194290161\n",
            "Training loss at step 300: 1.5798075199127197\n",
            "Training loss at step 400: 1.7282222509384155\n",
            "Training loss at step 500: 1.62973153591156\n",
            "Training loss at step 600: 1.7176157236099243\n",
            "Training loss at step 700: 2.20269775390625\n",
            "Training loss at step 800: 1.517734408378601\n",
            "Training loss at step 900: 1.7137707471847534\n",
            "Training loss at step 1000: 1.6871535778045654\n",
            "Training loss at step 1100: 1.7835382223129272\n",
            "Training loss at step 1200: 1.3710927963256836\n",
            "Training loss at step 1300: 1.7052686214447021\n",
            "Training loss at step 1400: 1.544000506401062\n",
            "Val loss at epoch 2: 1.351048633551142\n",
            "Val acc at epoch 2: 0.5306\n",
            "Training loss at step 0: 1.484840750694275\n",
            "Training loss at step 100: 1.6413133144378662\n",
            "Training loss at step 200: 1.521430253982544\n",
            "Training loss at step 300: 1.4266769886016846\n",
            "Training loss at step 400: 1.893556833267212\n",
            "Training loss at step 500: 1.8223215341567993\n",
            "Training loss at step 600: 1.6400413513183594\n",
            "Training loss at step 700: 1.823358416557312\n",
            "Training loss at step 800: 1.536407232284546\n",
            "Training loss at step 900: 1.6081171035766602\n",
            "Training loss at step 1000: 1.527923822402954\n",
            "Training loss at step 1100: 1.4736806154251099\n",
            "Training loss at step 1200: 1.484546184539795\n",
            "Training loss at step 1300: 1.3196688890457153\n",
            "Training loss at step 1400: 1.2996430397033691\n",
            "Val loss at epoch 3: 1.2907169996553165\n",
            "Val acc at epoch 3: 0.5538\n",
            "Training loss at step 0: 1.5271331071853638\n",
            "Training loss at step 100: 1.5814402103424072\n",
            "Training loss at step 200: 1.4586080312728882\n",
            "Training loss at step 300: 1.886422872543335\n",
            "Training loss at step 400: 1.3389602899551392\n",
            "Training loss at step 500: 1.2666828632354736\n",
            "Training loss at step 600: 1.5515072345733643\n",
            "Training loss at step 700: 1.172511100769043\n",
            "Training loss at step 800: 1.440900444984436\n",
            "Training loss at step 900: 1.585114598274231\n",
            "Training loss at step 1000: 1.3372125625610352\n",
            "Training loss at step 1100: 1.6859233379364014\n",
            "Training loss at step 1200: 1.3625627756118774\n",
            "Training loss at step 1300: 1.66604745388031\n",
            "Training loss at step 1400: 1.7095634937286377\n",
            "Val loss at epoch 4: 1.1056236040060687\n",
            "Val acc at epoch 4: 0.6046\n",
            "Training loss at step 0: 1.2486480474472046\n",
            "Training loss at step 100: 1.599993109703064\n",
            "Training loss at step 200: 1.3469065427780151\n",
            "Training loss at step 300: 1.3660967350006104\n",
            "Training loss at step 400: 1.605207920074463\n",
            "Training loss at step 500: 1.3552995920181274\n",
            "Training loss at step 600: 1.9446710348129272\n",
            "Training loss at step 700: 1.5583934783935547\n",
            "Training loss at step 800: 1.5542261600494385\n",
            "Training loss at step 900: 1.3422057628631592\n",
            "Training loss at step 1000: 1.5418509244918823\n",
            "Training loss at step 1100: 1.4394612312316895\n",
            "Training loss at step 1200: 1.6552393436431885\n",
            "Training loss at step 1300: 1.582654356956482\n",
            "Training loss at step 1400: 1.3621524572372437\n",
            "Val loss at epoch 5: 1.1357908977824411\n",
            "Val acc at epoch 5: 0.6062\n",
            "Training loss at step 0: 1.3652055263519287\n",
            "Training loss at step 100: 1.680882453918457\n",
            "Training loss at step 200: 1.1307523250579834\n",
            "Training loss at step 300: 1.4308561086654663\n",
            "Training loss at step 400: 1.3474026918411255\n",
            "Training loss at step 500: 1.571376085281372\n",
            "Training loss at step 600: 1.316368579864502\n",
            "Training loss at step 700: 1.460811972618103\n",
            "Training loss at step 800: 1.751834511756897\n",
            "Training loss at step 900: 1.5393080711364746\n",
            "Training loss at step 1000: 1.4092837572097778\n",
            "Training loss at step 1100: 0.9359703063964844\n",
            "Training loss at step 1200: 1.483629822731018\n",
            "Training loss at step 1300: 1.6284655332565308\n",
            "Training loss at step 1400: 1.4365161657333374\n",
            "Val loss at epoch 6: 1.1635290479204456\n",
            "Val acc at epoch 6: 0.5814\n",
            "Training loss at step 0: 1.5460021495819092\n",
            "Training loss at step 100: 1.6319983005523682\n",
            "Training loss at step 200: 1.488858699798584\n",
            "Training loss at step 300: 1.2873581647872925\n",
            "Training loss at step 400: 1.1676712036132812\n",
            "Training loss at step 500: 1.3592451810836792\n",
            "Training loss at step 600: 1.3750865459442139\n",
            "Training loss at step 700: 1.557677984237671\n",
            "Training loss at step 800: 1.4547024965286255\n",
            "Training loss at step 900: 1.0898702144622803\n",
            "Training loss at step 1000: 1.2130876779556274\n",
            "Training loss at step 1100: 1.3905562162399292\n",
            "Training loss at step 1200: 1.781064510345459\n",
            "Training loss at step 1300: 1.5647704601287842\n",
            "Training loss at step 1400: 1.2726820707321167\n",
            "Val loss at epoch 7: 1.0286209389662286\n",
            "Val acc at epoch 7: 0.6356\n",
            "Training loss at step 0: 1.2305371761322021\n",
            "Training loss at step 100: 1.6513131856918335\n",
            "Training loss at step 200: 1.364290475845337\n",
            "Training loss at step 300: 1.554648756980896\n",
            "Training loss at step 400: 1.5543129444122314\n",
            "Training loss at step 500: 1.361005187034607\n",
            "Training loss at step 600: 1.4691616296768188\n",
            "Training loss at step 700: 1.5402159690856934\n",
            "Training loss at step 800: 1.756147861480713\n",
            "Training loss at step 900: 1.5982460975646973\n",
            "Training loss at step 1000: 1.5661741495132446\n",
            "Training loss at step 1100: 1.3523551225662231\n",
            "Training loss at step 1200: 1.4039225578308105\n",
            "Training loss at step 1300: 1.3317815065383911\n",
            "Training loss at step 1400: 1.473175048828125\n",
            "Val loss at epoch 8: 1.0869616361180687\n",
            "Val acc at epoch 8: 0.6114\n",
            "Training loss at step 0: 1.4925010204315186\n",
            "Training loss at step 100: 1.1709786653518677\n",
            "Training loss at step 200: 1.3400931358337402\n",
            "Training loss at step 300: 1.451612114906311\n",
            "Training loss at step 400: 1.0773652791976929\n",
            "Training loss at step 500: 1.2485522031784058\n",
            "Training loss at step 600: 1.2066682577133179\n",
            "Training loss at step 700: 1.7707970142364502\n",
            "Training loss at step 800: 1.3561452627182007\n",
            "Training loss at step 900: 1.0584055185317993\n",
            "Training loss at step 1000: 1.2400681972503662\n",
            "Training loss at step 1100: 1.4762598276138306\n",
            "Training loss at step 1200: 1.6522709131240845\n",
            "Training loss at step 1300: 1.5535483360290527\n",
            "Training loss at step 1400: 1.764225721359253\n",
            "Val loss at epoch 9: 1.0249696590338544\n",
            "Val acc at epoch 9: 0.641\n"
          ]
        },
        {
          "output_type": "display_data",
          "data": {
            "text/plain": [
              "<Figure size 432x288 with 1 Axes>"
            ],
            "image/png": "[encoded data removed]"
          },
          "metadata": {
            "needs_background": "light"
          }
        }
      ]
    },
    {
      "cell_type": "markdown",
      "metadata": {
        "id": "T2vhJcNS_fK1"
      },
      "source": [
        "## Načítanie uloženého modelu\n",
        "\n",
        "Keďže sme si model aj uložili môžeme si ho načítať a napríklad spustiť na trénovacích dátach. Stačí nám do funkcie build model pridať cestu k uloženému modelu."
      ]
    },
    {
      "cell_type": "code",
      "metadata": {
        "colab": {
          "base_uri": "https://localhost:8080/"
        },
        "id": "2ebNs2GS_uaV",
        "outputId": "bc897d1d-2775-40a9-de7f-0ae3e68bec4f"
      },
      "source": [
        "batch_size = 32\n",
        "\n",
        "device = torch.device(\"cuda:0\" if torch.cuda.is_available() else \"cpu\")\n",
        "print(\"Using device: \", device)\n",
        "\n",
        "dataloader_test = torch.utils.data.DataLoader(testset, batch_size=batch_size, shuffle=False)\n",
        "\n",
        "model, model_inference = build_model('009.pth', dropout_p=0.5, bn=True)\n",
        "model_inference.to(device)\n",
        "\n",
        "# Potrebujeme aby sme zmenili formu batchnorm\n",
        "model_inference.eval()\n",
        "\n",
        "with torch.no_grad():\n",
        "  correct = 0\n",
        "  total = 0\n",
        "  for i, batch in enumerate(dataloader_val):  \n",
        "    x, y = batch[0].to(device), batch[1].to(device)  \n",
        "\n",
        "    out = model(x)\n",
        "    loss = ce_loss(out, y)\n",
        "    acc = torch.sum(torch.argmax(out, dim=-1) == y)\n",
        "    correct += acc.item()\n",
        "    total += len(batch[1])\n",
        "  \n",
        "acc = correct / total\n",
        "print(\"Test set accuracy: \", acc)\n"
      ],
      "execution_count": null,
      "outputs": [
        {
          "output_type": "stream",
          "name": "stdout",
          "text": [
            "Using device:  cuda:0\n",
            "Test set accuracy:  0.641\n"
          ]
        }
      ]
    },
    {
      "cell_type": "markdown",
      "metadata": {
        "id": "k8oFOPRtApS5"
      },
      "source": [
        "# Domáca úloha\n",
        "\n",
        "Prvá domáca úloha bude spočívať v praktickom testovaní vecí, ktoré sme si práve spomínali. Je rozložená na viaceré časti. Výstupom z úlohy môže byť buď viacero notebookov, alebo python skriptov, ktorými ste spúštali experimenty. Výstupom má byť takisto pdf súbor s výsledkami a grafmi, ktoré budú demonštrovať vaše tvrdenia.\n",
        "\n",
        "Jadrom domácej úlohy bude trénovanie siete na datasete Cifar-10. Vždy potom budete porovnávať ako rôzne modifikácie siete fungujú voči iným prípadne voči nejakému baselinu. Úloha sa bude skladať z viacerých častí.\n",
        "\n",
        "*Pozn.:*  Úlohu môžete riešiť aj v Kerase.\n",
        "\n",
        "### Základný model (1b)\n",
        "\n",
        "Cieľ je navrhnúť idálne čo najrýchlejší model, ktorý bude dosahovať cca. 70 percentnú presnosť na datasete Cifar-10. Tento model bude slúžiť ako baseline pre ďalšie modifikácie. V rámci modelu použite optimalizátor Adam a aktivácie ReLU. Začiatok modelu by mal pozostávať zo zopár konvolučných a poolingových vrstiev. Na konci by mala byť plne prepojená časť.\n",
        "\n",
        "V naselujúcich podúlohách je nutné zmeniť vždy nejakú časť modelu a porovnať ich navzájom pomocou grafov, ktoré ukazujú vývoj validačnej presnosti a chyby. Namiesto grafov je možné použiť tabuľku, ale v nej je zmysluplné uvádzať len hodnoty na konci trénovania.\n",
        "\n",
        "### Aktivácie (3b)\n",
        "\n",
        "Vyskúšajte vymeniť aktivačné funkcie. Otestujte tri z nasledovných aktivačných funkcií sigmoid, tanh, ELU, LeakyReLU a PReLU. LeakyReLU môžete otestovať aj pre rôzne hodnoty parametru alpha (napr. 0.3, 0.1, 0,03). \n",
        "\n",
        "### Optimalizácia (6b)\n",
        "\n",
        "Otestujte trénovanie pomocou optimalizátorov Adam, SGD alebo RMSProp. Spustite aspoň 4 rôzne konfigurácie (rôzne kroky, rôzne alpha, beta atď). Pre túto úlohu je vhodné využiť v pdfku grafy. \n",
        "\n",
        "Jednu metódu si vyberte a otestujte pre ňu navyše ďalšie tri veľkosti minibatchov.\n",
        "\n",
        "### Dropout a Augmentácia (6b)\n",
        "\n",
        "Dropout otestujte tak, že bude najprv len v plne prepojenej vrstve (p = 0.5) a potom aj po konvolučných vrstvách (p = 0.2). A ešte jednu možnosť navyše. Pri použití v konvolučných vrstvách nezabudnite, že treba použiť Dropout2d namiesto Dropout1d.\n",
        "\n",
        "Augmentáciu testujte pre 3 rôzne nastavania. Môžte byť aj kreatívny, ale malo by to mať aspoň nejaký zmysel. Dokumentáciu nájdete [tu](https://pytorch.org/vision/stable/transforms.html). Dávajte si pritom pozor aby ste to spravili správne.\n",
        "\n",
        "Obe veci testujte pre dva prípady v jednom použijete bežný split na train/val a v druhom nechajte v trénovacej množine iba prvých 1000 príkladov. Uvedomte si, že počet trénovacích krokov je pre druhý prípad menší použite preto úmerne viac epôch.\n",
        "\n",
        "### Hlboká sieť (5b)\n",
        "\n",
        "Navrhnite hlbokú (stačí aj úzku, ale nech má aspoň 11 vrstiev) sieť. Otestujte ju najprv bez BatchNorm, reziduálnych alebo dense prepojení, alebo prídavných trenovacích vrstiev. Nakoniec otestujte aspoň dva z týchto prístupov, tak aby ste mali aspoň 3 rôzne modely (tj. rôzne rozmiestnenie týchto prvkov).\n",
        "\n",
        "Pozn.: Ak chcete testovať reziduálne, alebo dense prepojenia, tak navrhnite sieť tak, aby ich bolo kam dať.\n",
        "\n",
        "### Najlepší model (3b)\n",
        "\n",
        "Vytvorte model, ktorý dosiahne najlepší vylsedok, aký len viete. Tieto body sú navyše a nerátajú sa do celkového počtu bodov. Bude sa prihliadať na to aké modely odovzdali ostatní. Model zašlite vo formáte ako .pth torchovský state dict spolu s jedným skriptom, ktorý model načíta a spočíta presnosť na testovacej množine Cifar-10. Váš postup pre tvorbu modelu popíšte. Môžete sa inšpirovať internetom, ale nesťahujte ani nepoužívajte predtrénované modely. Ak už sa inšpirijete niečim až príliš, tak aspoň popíšte prečo by práve ten model mal fungovať dobre (tu prosím nepíšte, že preto že blog to tvrdí).\n",
        "\n",
        "## Hodnotenie\n",
        "\n",
        "Úloha je relatívne priamočiara, keďže jej cieľ je skôr nadobudnutie skúseností. Problém bude skôr s časom. Pri úlohách si môžete väčšinou vybrať viacere parametre. Preto nevadí ak niektoré z nich budú nezmyselné ako napr. veľmi veľký krok učenia, keďže vedieť co nefunguje je tiež dôležité. Budem však strhávať body ak v nejakej sekcii nebudú skoro žiadne nastavenia, ktoré dávaju zmysel/dobré výsledky. Ideálne by bolo ak by ste sa snažili napr. po prvých troch nastaveniach snažili nájsť to \"najlepšie\". Súčasťou pdfka, ktoré odovzdáte bude aj komentár, ak sa v ňom vyskytne nejaký nezmysel, tak tiež budem strhávať.\n",
        "\n",
        "## Odovzdávanie\n",
        "\n",
        "Úlohu odovzdajte v zipe s notebookmi/skriptami, pdfkom s výsledkami a vašim modelom na mailovú adresu kocurvik@gmail.com Pdfko rozdelte na sekcie ako tu a ideálne aj do podeskcií kde to dáva zmysel. K výsledkom vždy vypíšte komentár ako dopadli.\n",
        "\n",
        "Deadline je do **9.11. 23:59**. Pri neskoršom odovzdaní budem strhávať body. Poznámka - zjavne sa neuploadol upravený notebook na Github, preto tam ostal dátum 12.11. Budem teda akceptovať tento termín ako deadline na odovzdanie!"
      ]
    },
    {
      "cell_type": "markdown",
      "metadata": {
        "id": "m1LlhKzC-l1O"
      },
      "source": [
        "# Zložitejšie modely\n",
        "\n",
        "Ukážeme si napríklad ako z modelu vyhodiť dva výstupy a ako prijať dva vstupy a podobne. Najprv teda príklad ak by sme chceli klasifikovať jednak aké číslo sme dostali a potom to, či je párne, alebo nie."
      ]
    },
    {
      "cell_type": "code",
      "metadata": {
        "id": "lsMj2xVk_D6u"
      },
      "source": [
        "from sklearn.datasets import fetch_openml\n",
        "mnist = fetch_openml('mnist_784')\n",
        "\n",
        "x_np = mnist.data.astype('float32')/255\n",
        "labels_np = mnist.target.astype('int64')\n",
        "\n",
        "images = torch.from_numpy(np.array(x_np))\n",
        "labels = torch.from_numpy(np.array(labels_np))"
      ],
      "execution_count": null,
      "outputs": []
    },
    {
      "cell_type": "markdown",
      "metadata": {
        "id": "h8ByRaWF_VrU"
      },
      "source": [
        "## torch.nn.Module\n",
        "\n",
        "Komplikovanejšiu sieť nemôžeme vyrobiť pomocou konštruktora Sequential, ale musíme si subclassnúť torch.nn.Module a implementovať konštruktor, kde si definujeme vrstvya metódu forward kde definujeme výpočet."
      ]
    },
    {
      "cell_type": "code",
      "metadata": {
        "id": "2P0iROI7_YI8",
        "colab": {
          "base_uri": "https://localhost:8080/"
        },
        "outputId": "c14dabbf-0639-406d-91c8-8a72e261ded0"
      },
      "source": [
        "from torch.nn import Module, Linear\n",
        "from torch.nn.functional import relu, sigmoid\n",
        "\n",
        "class TwoOutputNet(Module):\n",
        "    def __init__(self):\n",
        "        super(TwoOutputNet, self).__init__()\n",
        "        self.fc1 = Linear(28 * 28, 30)\n",
        "        self.fc2 = Linear(30, 20)\n",
        "        self.fc_classes = Linear(20, 10)\n",
        "        self.fc_odd_even = Linear(20, 1)\n",
        "        \n",
        "    def forward(self, x):\n",
        "        x = self.fc1(x)\n",
        "        x = relu(x)\n",
        "        x = self.fc2(x)\n",
        "        x = relu(x)\n",
        "        x_class = self.fc_classes(x)\n",
        "        x_odd_even = self.fc_odd_even(x)\n",
        "        x_odd_even = sigmoid(x_odd_even)\n",
        "\n",
        "        return [x_class, x_odd_even]\n",
        "\n",
        "model = TwoOutputNet()\n",
        "\n",
        "out = model(torch.ones([4, 28*28]))\n",
        "\n",
        "print(out)"
      ],
      "execution_count": null,
      "outputs": [
        {
          "output_type": "stream",
          "name": "stdout",
          "text": [
            "[tensor([[-0.1948, -0.1266,  0.1788, -0.0696,  0.0961, -0.0831, -0.1985,  0.1783,\n",
            "         -0.2293,  0.1535],\n",
            "        [-0.1948, -0.1266,  0.1788, -0.0696,  0.0961, -0.0831, -0.1985,  0.1783,\n",
            "         -0.2293,  0.1535],\n",
            "        [-0.1948, -0.1266,  0.1788, -0.0696,  0.0961, -0.0831, -0.1985,  0.1783,\n",
            "         -0.2293,  0.1535],\n",
            "        [-0.1948, -0.1266,  0.1788, -0.0696,  0.0961, -0.0831, -0.1985,  0.1783,\n",
            "         -0.2293,  0.1535]], grad_fn=<AddmmBackward0>), tensor([[0.4475],\n",
            "        [0.4475],\n",
            "        [0.4475],\n",
            "        [0.4475]], grad_fn=<SigmoidBackward0>)]\n"
          ]
        },
        {
          "output_type": "stream",
          "name": "stderr",
          "text": [
            "/usr/local/lib/python3.7/dist-packages/torch/nn/functional.py:1960: UserWarning: nn.functional.sigmoid is deprecated. Use torch.sigmoid instead.\n",
            "  warnings.warn(\"nn.functional.sigmoid is deprecated. Use torch.sigmoid instead.\")\n"
          ]
        }
      ]
    },
    {
      "cell_type": "markdown",
      "metadata": {
        "id": "NmpPrpQkq92D"
      },
      "source": [
        "## Zobrazenie architektúry\n",
        "\n",
        "Ak chceme vidieť ako vyzerá celá architektúra, tak môžeme jednoducho printnúť model."
      ]
    },
    {
      "cell_type": "code",
      "metadata": {
        "id": "na5o5Gn3rzf6",
        "colab": {
          "base_uri": "https://localhost:8080/"
        },
        "outputId": "12f0de7f-05d3-484e-e364-c186208dd45c"
      },
      "source": [
        "print(model)"
      ],
      "execution_count": null,
      "outputs": [
        {
          "output_type": "stream",
          "name": "stdout",
          "text": [
            "TwoOutputNet(\n",
            "  (fc1): Linear(in_features=784, out_features=30, bias=True)\n",
            "  (fc2): Linear(in_features=30, out_features=20, bias=True)\n",
            "  (fc_classes): Linear(in_features=20, out_features=10, bias=True)\n",
            "  (fc_odd_even): Linear(in_features=20, out_features=1, bias=True)\n",
            ")\n"
          ]
        }
      ]
    },
    {
      "cell_type": "markdown",
      "metadata": {
        "id": "U0sM187Sr5Hz"
      },
      "source": [
        "To však neuvidíme prepojenia. Preto môžeme použiť tensorboard. Najprv si vytvoríme TensorBoard SummaryWriter a potom do neho dáme našu sieť aj so vstupom."
      ]
    },
    {
      "cell_type": "code",
      "metadata": {
        "id": "LLdhQ9p1rRMC",
        "colab": {
          "base_uri": "https://localhost:8080/"
        },
        "outputId": "653f6768-734a-4c31-bab6-bfcf84a9e962"
      },
      "source": [
        "from torch.utils.tensorboard import SummaryWriter\n",
        "\n",
        "model = TwoOutputNet()\n",
        "writer = SummaryWriter('tb/run')\n",
        "writer.add_graph(model, torch.ones([1, 28*28]))\n",
        "writer.close()"
      ],
      "execution_count": null,
      "outputs": [
        {
          "output_type": "stream",
          "name": "stderr",
          "text": [
            "/usr/local/lib/python3.7/dist-packages/torch/jit/_trace.py:974: TracerWarning: Encountering a list at the output of the tracer might cause the trace to be incorrect, this is only valid if the container structure does not change based on the module's inputs. Consider using a constant container instead (e.g. for `list`, use a `tuple` instead. for `dict`, use a `NamedTuple` instead). If you absolutely need this and know the side effects, pass strict=False to trace() to allow this behavior.\n",
            "  argument_names,\n"
          ]
        }
      ]
    },
    {
      "cell_type": "markdown",
      "metadata": {
        "id": "fjXM_4NEu1hV"
      },
      "source": [
        "Potom si môžeme loadnúť tzv. magic v notebooku, ktorý nám umožní zobraziť tensorboard."
      ]
    },
    {
      "cell_type": "code",
      "metadata": {
        "id": "ytnBmOhUt73t"
      },
      "source": [
        "%load_ext tensorboard\n",
        "%tensorboard --logdir tb"
      ],
      "execution_count": null,
      "outputs": []
    },
    {
      "cell_type": "code",
      "metadata": {
        "id": "zQ-SMZRVEUzC",
        "colab": {
          "base_uri": "https://localhost:8080/"
        },
        "outputId": "69d21a98-bddb-40be-8c94-7ac02fb0e8a1"
      },
      "source": [
        "from torch.utils.data import TensorDataset, DataLoader\n",
        "\n",
        "data_train = TensorDataset(images[:50000], labels[:50000])\n",
        "dataloader_train = DataLoader(data_train, batch_size=32, shuffle=True)\n",
        "\n",
        "data_val = TensorDataset(images[50000:60000], labels[50000:60000])\n",
        "dataloader_val = DataLoader(data_val, batch_size=32)\n",
        "\n",
        "model = TwoOutputNet()\n",
        "\n",
        "ce_loss = torch.nn.CrossEntropyLoss()\n",
        "binary_loss = torch.nn.BCELoss()\n",
        "\n",
        "optimizer = torch.optim.Adam(model.parameters(), lr=1e-3)\n",
        "\n",
        "for e in range(10):\n",
        "  model.train()\n",
        "  for i, batch in enumerate(dataloader_train):  \n",
        "    x, y = batch  \n",
        "    optimizer.zero_grad()\n",
        "\n",
        "    out_classes, out_odd_even = model(x)\n",
        "    loss = ce_loss(out_classes, y) + binary_loss(torch.squeeze(out_odd_even), (y % 2).float())\n",
        "    loss.backward()\n",
        "    optimizer.step()\n",
        "    if i % 100 == 0:\n",
        "      print(\"Loss at epoch: {} step {}: {}\".format(e, i, loss.item()))\n",
        "\n",
        "  model.eval()\n",
        "  with torch.no_grad():\n",
        "    val_losses = []\n",
        "    correct_classes = 0\n",
        "    correct_odd_even = 0\n",
        "    for i, batch in enumerate(dataloader_val):  \n",
        "      x, y = batch  \n",
        "\n",
        "      out_classes, out_odd_even = model(x)\n",
        "      loss = ce_loss(out_classes, y) + binary_loss(torch.squeeze(out_odd_even), (y % 2).float())\n",
        "      acc_classes = torch.sum(torch.argmax(out_classes, dim=-1) == y)  \n",
        "      acc_odd_even = torch.sum(torch.where(torch.squeeze(out_odd_even) > 0.5, 1, 0) == (y % 2).float())\n",
        "      correct_classes += acc_classes.item()\n",
        "      correct_odd_even += acc_odd_even.item()\n",
        "      val_losses.append(loss.item())\n",
        "\n",
        "    print(\"Val loss at epoch {}: {}\".format(e, np.mean(val_losses)))\n",
        "    print(\"Val acc classes at epoch {}: {}\".format(e, correct_classes / 10000))\n",
        "    print(\"Val acc odd-even at epoch {}: {}\".format(e, correct_odd_even / 10000))"
      ],
      "execution_count": null,
      "outputs": [
        {
          "output_type": "stream",
          "name": "stderr",
          "text": [
            "/usr/local/lib/python3.7/dist-packages/torch/nn/functional.py:1960: UserWarning: nn.functional.sigmoid is deprecated. Use torch.sigmoid instead.\n",
            "  warnings.warn(\"nn.functional.sigmoid is deprecated. Use torch.sigmoid instead.\")\n"
          ]
        },
        {
          "output_type": "stream",
          "name": "stdout",
          "text": [
            "Loss at epoch: 0 step 0: 2.96885085105896\n",
            "Loss at epoch: 0 step 100: 1.1328808069229126\n",
            "Loss at epoch: 0 step 200: 1.0643521547317505\n",
            "Loss at epoch: 0 step 300: 0.7759342789649963\n",
            "Loss at epoch: 0 step 400: 0.6862186789512634\n",
            "Loss at epoch: 0 step 500: 0.4029155373573303\n",
            "Loss at epoch: 0 step 600: 0.6751937866210938\n",
            "Loss at epoch: 0 step 700: 0.6494697332382202\n",
            "Loss at epoch: 0 step 800: 0.2712768316268921\n",
            "Loss at epoch: 0 step 900: 0.46943962574005127\n",
            "Loss at epoch: 0 step 1000: 0.2789767384529114\n",
            "Loss at epoch: 0 step 1100: 0.4573606848716736\n",
            "Loss at epoch: 0 step 1200: 0.3298177421092987\n",
            "Loss at epoch: 0 step 1300: 0.37613046169281006\n",
            "Loss at epoch: 0 step 1400: 0.15198421478271484\n",
            "Loss at epoch: 0 step 1500: 0.14991357922554016\n",
            "Val loss at epoch 0: 0.3539298940152406\n",
            "Val acc classes at epoch 0: 0.9359\n",
            "Val acc odd-even at epoch 0: 0.9595\n",
            "Loss at epoch: 1 step 0: 0.5287416577339172\n",
            "Loss at epoch: 1 step 100: 0.33081483840942383\n",
            "Loss at epoch: 1 step 200: 0.5551427602767944\n",
            "Loss at epoch: 1 step 300: 0.1879693865776062\n",
            "Loss at epoch: 1 step 400: 0.43656402826309204\n",
            "Loss at epoch: 1 step 500: 0.36616772413253784\n",
            "Loss at epoch: 1 step 600: 0.5776232481002808\n",
            "Loss at epoch: 1 step 700: 0.6339877843856812\n",
            "Loss at epoch: 1 step 800: 0.434194415807724\n",
            "Loss at epoch: 1 step 900: 0.41862618923187256\n",
            "Loss at epoch: 1 step 1000: 0.10098700225353241\n",
            "Loss at epoch: 1 step 1100: 0.23036004602909088\n",
            "Loss at epoch: 1 step 1200: 0.18573248386383057\n",
            "Loss at epoch: 1 step 1300: 0.30265915393829346\n",
            "Loss at epoch: 1 step 1400: 0.2709408104419708\n",
            "Loss at epoch: 1 step 1500: 0.1417856216430664\n",
            "Val loss at epoch 1: 0.2911118774290997\n",
            "Val acc classes at epoch 1: 0.9463\n",
            "Val acc odd-even at epoch 1: 0.9663\n",
            "Loss at epoch: 2 step 0: 0.09947836399078369\n",
            "Loss at epoch: 2 step 100: 0.08588840812444687\n",
            "Loss at epoch: 2 step 200: 0.20756101608276367\n",
            "Loss at epoch: 2 step 300: 0.5825329422950745\n",
            "Loss at epoch: 2 step 400: 0.12774714827537537\n",
            "Loss at epoch: 2 step 500: 0.17733944952487946\n",
            "Loss at epoch: 2 step 600: 0.23367083072662354\n",
            "Loss at epoch: 2 step 700: 0.2875708043575287\n",
            "Loss at epoch: 2 step 800: 0.2485685795545578\n",
            "Loss at epoch: 2 step 900: 0.14638611674308777\n",
            "Loss at epoch: 2 step 1000: 0.39323103427886963\n",
            "Loss at epoch: 2 step 1100: 0.27640625834465027\n",
            "Loss at epoch: 2 step 1200: 0.19071358442306519\n",
            "Loss at epoch: 2 step 1300: 0.3295705020427704\n",
            "Loss at epoch: 2 step 1400: 0.18662911653518677\n",
            "Loss at epoch: 2 step 1500: 0.12280727922916412\n",
            "Val loss at epoch 2: 0.2680403677264627\n",
            "Val acc classes at epoch 2: 0.9508\n",
            "Val acc odd-even at epoch 2: 0.9683\n",
            "Loss at epoch: 3 step 0: 0.1569143533706665\n",
            "Loss at epoch: 3 step 100: 0.42518940567970276\n",
            "Loss at epoch: 3 step 200: 0.3332657814025879\n",
            "Loss at epoch: 3 step 300: 0.33504530787467957\n",
            "Loss at epoch: 3 step 400: 0.16666163504123688\n",
            "Loss at epoch: 3 step 500: 0.06689503788948059\n",
            "Loss at epoch: 3 step 600: 0.09923829138278961\n",
            "Loss at epoch: 3 step 700: 0.15097063779830933\n",
            "Loss at epoch: 3 step 800: 0.32942676544189453\n",
            "Loss at epoch: 3 step 900: 0.05597689747810364\n",
            "Loss at epoch: 3 step 1000: 0.11491987109184265\n",
            "Loss at epoch: 3 step 1100: 0.5662285089492798\n",
            "Loss at epoch: 3 step 1200: 0.061994776129722595\n",
            "Loss at epoch: 3 step 1300: 0.20176032185554504\n",
            "Loss at epoch: 3 step 1400: 0.18232524394989014\n",
            "Loss at epoch: 3 step 1500: 0.41966524720191956\n",
            "Val loss at epoch 3: 0.238184306157616\n",
            "Val acc classes at epoch 3: 0.9532\n",
            "Val acc odd-even at epoch 3: 0.9725\n",
            "Loss at epoch: 4 step 0: 0.19407792389392853\n",
            "Loss at epoch: 4 step 100: 0.1559230238199234\n",
            "Loss at epoch: 4 step 200: 0.4647540748119354\n",
            "Loss at epoch: 4 step 300: 0.12083155661821365\n",
            "Loss at epoch: 4 step 400: 0.025624100118875504\n",
            "Loss at epoch: 4 step 500: 0.11766169965267181\n",
            "Loss at epoch: 4 step 600: 0.41729605197906494\n",
            "Loss at epoch: 4 step 700: 0.3156571686267853\n",
            "Loss at epoch: 4 step 800: 0.14401647448539734\n",
            "Loss at epoch: 4 step 900: 0.017166152596473694\n",
            "Loss at epoch: 4 step 1000: 0.03425859659910202\n",
            "Loss at epoch: 4 step 1100: 0.3215804696083069\n",
            "Loss at epoch: 4 step 1200: 0.4934960603713989\n",
            "Loss at epoch: 4 step 1300: 0.1490539312362671\n",
            "Loss at epoch: 4 step 1400: 0.10290394723415375\n",
            "Loss at epoch: 4 step 1500: 0.330175518989563\n",
            "Val loss at epoch 4: 0.21937328588348418\n",
            "Val acc classes at epoch 4: 0.9588\n",
            "Val acc odd-even at epoch 4: 0.975\n",
            "Loss at epoch: 5 step 0: 0.05805496871471405\n",
            "Loss at epoch: 5 step 100: 0.19197195768356323\n",
            "Loss at epoch: 5 step 200: 0.23393811285495758\n",
            "Loss at epoch: 5 step 300: 0.1820940375328064\n",
            "Loss at epoch: 5 step 400: 0.5235950946807861\n",
            "Loss at epoch: 5 step 500: 0.1056477278470993\n",
            "Loss at epoch: 5 step 600: 0.10579714179039001\n",
            "Loss at epoch: 5 step 700: 0.28731656074523926\n",
            "Loss at epoch: 5 step 800: 0.08591550588607788\n",
            "Loss at epoch: 5 step 900: 0.15173952281475067\n",
            "Loss at epoch: 5 step 1000: 0.46906837821006775\n",
            "Loss at epoch: 5 step 1100: 0.22969193756580353\n",
            "Loss at epoch: 5 step 1200: 0.2565012276172638\n",
            "Loss at epoch: 5 step 1300: 0.0826946496963501\n",
            "Loss at epoch: 5 step 1400: 0.22797244787216187\n",
            "Loss at epoch: 5 step 1500: 0.14765940606594086\n",
            "Val loss at epoch 5: 0.21539042494036614\n",
            "Val acc classes at epoch 5: 0.9599\n",
            "Val acc odd-even at epoch 5: 0.9765\n",
            "Loss at epoch: 6 step 0: 0.018794454634189606\n",
            "Loss at epoch: 6 step 100: 0.039212726056575775\n",
            "Loss at epoch: 6 step 200: 0.13720592856407166\n",
            "Loss at epoch: 6 step 300: 0.14104558527469635\n",
            "Loss at epoch: 6 step 400: 0.31168192625045776\n",
            "Loss at epoch: 6 step 500: 0.10983529686927795\n",
            "Loss at epoch: 6 step 600: 0.07336682081222534\n",
            "Loss at epoch: 6 step 700: 0.07979068905115128\n",
            "Loss at epoch: 6 step 800: 0.052139993757009506\n",
            "Loss at epoch: 6 step 900: 0.3691455125808716\n",
            "Loss at epoch: 6 step 1000: 0.17374852299690247\n",
            "Loss at epoch: 6 step 1100: 0.1753322184085846\n",
            "Loss at epoch: 6 step 1200: 0.12433655560016632\n",
            "Loss at epoch: 6 step 1300: 0.27355676889419556\n",
            "Loss at epoch: 6 step 1400: 0.04659143090248108\n",
            "Loss at epoch: 6 step 1500: 0.3900202810764313\n",
            "Val loss at epoch 6: 0.21987808873644843\n",
            "Val acc classes at epoch 6: 0.9581\n",
            "Val acc odd-even at epoch 6: 0.9755\n",
            "Loss at epoch: 7 step 0: 0.03667742386460304\n",
            "Loss at epoch: 7 step 100: 0.022769782692193985\n",
            "Loss at epoch: 7 step 200: 0.2934713363647461\n",
            "Loss at epoch: 7 step 300: 0.14284253120422363\n",
            "Loss at epoch: 7 step 400: 0.2608497142791748\n",
            "Loss at epoch: 7 step 500: 0.10150417685508728\n",
            "Loss at epoch: 7 step 600: 0.02259717509150505\n",
            "Loss at epoch: 7 step 700: 0.0581820011138916\n",
            "Loss at epoch: 7 step 800: 0.09670788049697876\n",
            "Loss at epoch: 7 step 900: 0.4000610113143921\n",
            "Loss at epoch: 7 step 1000: 0.13146981596946716\n",
            "Loss at epoch: 7 step 1100: 0.06600159406661987\n",
            "Loss at epoch: 7 step 1200: 0.20615032315254211\n",
            "Loss at epoch: 7 step 1300: 0.2865411043167114\n",
            "Loss at epoch: 7 step 1400: 0.038703057914972305\n",
            "Loss at epoch: 7 step 1500: 0.18826329708099365\n",
            "Val loss at epoch 7: 0.20374619935195856\n",
            "Val acc classes at epoch 7: 0.962\n",
            "Val acc odd-even at epoch 7: 0.9785\n",
            "Loss at epoch: 8 step 0: 0.11847825348377228\n",
            "Loss at epoch: 8 step 100: 0.06608190387487411\n",
            "Loss at epoch: 8 step 200: 0.16958090662956238\n",
            "Loss at epoch: 8 step 300: 0.0906129702925682\n",
            "Loss at epoch: 8 step 400: 0.027424808591604233\n",
            "Loss at epoch: 8 step 500: 0.575214147567749\n",
            "Loss at epoch: 8 step 600: 0.17564469575881958\n",
            "Loss at epoch: 8 step 700: 0.4058663249015808\n",
            "Loss at epoch: 8 step 800: 0.10458306223154068\n",
            "Loss at epoch: 8 step 900: 0.1660306453704834\n",
            "Loss at epoch: 8 step 1000: 0.06961917877197266\n",
            "Loss at epoch: 8 step 1100: 0.07741758972406387\n",
            "Loss at epoch: 8 step 1200: 0.08116574585437775\n",
            "Loss at epoch: 8 step 1300: 0.05751551687717438\n",
            "Loss at epoch: 8 step 1400: 0.19833476841449738\n",
            "Loss at epoch: 8 step 1500: 0.0360635407269001\n",
            "Val loss at epoch 8: 0.21100623132333682\n",
            "Val acc classes at epoch 8: 0.9608\n",
            "Val acc odd-even at epoch 8: 0.9761\n",
            "Loss at epoch: 9 step 0: 0.2827916741371155\n",
            "Loss at epoch: 9 step 100: 0.025804787874221802\n",
            "Loss at epoch: 9 step 200: 0.20924162864685059\n",
            "Loss at epoch: 9 step 300: 0.04524368420243263\n",
            "Loss at epoch: 9 step 400: 0.09274037182331085\n",
            "Loss at epoch: 9 step 500: 0.17494164407253265\n",
            "Loss at epoch: 9 step 600: 0.48687171936035156\n",
            "Loss at epoch: 9 step 700: 0.11353296786546707\n",
            "Loss at epoch: 9 step 800: 0.019882308319211006\n",
            "Loss at epoch: 9 step 900: 0.15837262570858002\n",
            "Loss at epoch: 9 step 1000: 0.09115573763847351\n",
            "Loss at epoch: 9 step 1100: 0.012257656082510948\n",
            "Loss at epoch: 9 step 1200: 0.11915983259677887\n",
            "Loss at epoch: 9 step 1300: 0.193235844373703\n",
            "Loss at epoch: 9 step 1400: 0.1314566731452942\n",
            "Loss at epoch: 9 step 1500: 0.018691258504986763\n",
            "Val loss at epoch 9: 0.2215790905463048\n",
            "Val acc classes at epoch 9: 0.9616\n",
            "Val acc odd-even at epoch 9: 0.9755\n"
          ]
        }
      ]
    },
    {
      "cell_type": "markdown",
      "metadata": {
        "id": "SaPKmNrDIjsN"
      },
      "source": [
        "## Úloha 1\n",
        "\n",
        "Napíšte kód ktorý natrénuje sieť, ktorá naopak bude mať na vstupe dva obrázky a z nich spočíta či je ich súčet párny alebo nepárny. Implementujte sieť tak aby mala dve samostatné vetvy na výpočet. Môžete sa pritom rozhodnúť, či chcete aby napríklad obe vetvy mali zdieľané, alebo samostatné váhy.\n",
        "\n",
        "Potom vetvy spojíte a aplikujete aspoň jednu ďalšiu skrytú vrstvu. Na spojenie vetiev môžete použiť napríklad torch.cat\n"
      ]
    },
    {
      "cell_type": "code",
      "metadata": {
        "id": "egiYjRxZI850"
      },
      "source": [
        "class TwoInputNet(Module):\n",
        "  def __init__(self):\n",
        "    super(TwoInputNet, self).__init__()\n",
        "    self.fc1 = Linear(28 * 28, 30)\n",
        "    self.fc2 = Linear(30, 20)\n",
        "    self.fc3 = Linear(40, 10)\n",
        "    self.fc_odd_even = Linear(10, 1)\n",
        "        \n",
        "  def forward(self, input):\n",
        "    x_1, x_2 = input\n",
        "    x_1 = self.fc1(x_1)\n",
        "    x_1 = relu(x_1)\n",
        "    x_1 = self.fc2(x_1)\n",
        "    x_1 = relu(x_1)\n",
        "    \n",
        "    x_2 = self.fc1(x_2)\n",
        "    x_2 = relu(x_2)\n",
        "    x_2 = self.fc2(x_2)\n",
        "    x_2 = relu(x_2)\n",
        "\n",
        "    x = torch.cat([x_1, x_2], dim=-1)\n",
        "    x = self.fc3(x)\n",
        "    x = relu(x)\n",
        "\n",
        "    x_odd_even = self.fc_odd_even(x)\n",
        "    x_odd_even = torch.sigmoid(x_odd_even)\n",
        "\n",
        "    return x_odd_even"
      ],
      "execution_count": null,
      "outputs": []
    },
    {
      "cell_type": "markdown",
      "metadata": {
        "id": "DCxIQ1NfKDzj"
      },
      "source": [
        "V rámci trénovania vám trocha pomôžem s tým ako generovať páry dát. Spravíme si dva generátory a oba budú vždy vyhadzovať náhodné čísla. V tomto prípade budeme náhodne premiešavať aj validačnú množinu aby sme nemali len rovnaké páry.\n",
        "\n"
      ]
    },
    {
      "cell_type": "code",
      "metadata": {
        "id": "8vRMWSh2KLsd"
      },
      "source": [
        "data_train = TensorDataset(images[:50000], labels[:50000])\n",
        "dataloader_train_1 = DataLoader(data_train, batch_size=32, shuffle=True)\n",
        "dataloader_train_2 = DataLoader(data_train, batch_size=32, shuffle=True)\n",
        "\n",
        "data_val = TensorDataset(images[50000:60000], labels[50000:60000])\n",
        "dataloader_val_1 = DataLoader(data_val, batch_size=32, shuffle=True)\n",
        "dataloader_val_2 = DataLoader(data_val, batch_size=32, shuffle=True)\n",
        "\n",
        "model = TwoInputNet()\n",
        "\n",
        "binary_loss = torch.nn.BCELoss()\n",
        "\n",
        "optimizer = torch.optim.SGD(model.parameters(), lr=1e-1)\n",
        "\n",
        "for e in range(10):\n",
        "  model.train()\n",
        "  for i, batch in enumerate(zip(dataloader_train_1, dataloader_train_2)):  \n",
        "    x_1, y_1 = batch[0]\n",
        "    x_2, y_2 = batch[1]\n",
        "    \n",
        "    # doplnit kod\n",
        "    \n",
        "  model.eval()\n",
        "  with torch.no_grad():\n",
        "    val_losses = []\n",
        "    correct_odd_even = 0\n",
        "    for i, batch in enumerate(zip(dataloader_val_1, dataloader_val_2)):  \n",
        "      x_1, y_1 = batch[0]\n",
        "      x_2, y_2 = batch[1]\n",
        "\n",
        "      # doplnit kod"
      ],
      "execution_count": null,
      "outputs": []
    },
    {
      "cell_type": "markdown",
      "metadata": {
        "id": "eVFX_cUFa2Ly"
      },
      "source": [
        "## Úloha 2\n",
        "\n",
        "Pre túto aj ďalšie úlohy budeme modifikovať kód siete uvedený nižšie. Takisto sa vrátime k datasetu Cifar-10\n",
        "\n",
        "V tejto úlohe bude cieľom vytvoriť tzv. reziduálne prepojenie. To je charakterizované ako sčítanie výstupu jednej vrstvy s nejakou vrstvou ktorá je v modeli neskôr. Na to aby to šlo samozrejme musia mať rovnaké rozmery. Pri konvolúciach potom používame padding='same'. Ak chceme mať rôzny počet kanálov, tak použijeme $1 \\times 1$ konvolúciu.\n",
        "\n",
        "![alt text](https://miro.medium.com/max/1226/1*zS2ChIMwAqC5DQbL5yD9iQ.png)\n",
        "\n",
        "Ako Bonus si môžete napísať vlastný modul, ktorý bude reprezentovať len jeden reziduálny blok. Ten potom budete volať vrámci modulu siete.\n"
      ]
    },
    {
      "cell_type": "code",
      "metadata": {
        "id": "eVpQub0YbHV8",
        "colab": {
          "base_uri": "https://localhost:8080/"
        },
        "outputId": "e92e934a-82a0-41cb-be31-3c282af78ed3"
      },
      "source": [
        "classes = ('plane', 'car', 'bird', 'cat', 'deer', 'dog', 'frog', 'horse', 'ship', 'truck')\n",
        "\n",
        "transform = transforms.ToTensor()\n",
        "\n",
        "dataset = torchvision.datasets.CIFAR10(root='./data', train=True, download=True, transform=transform)\n",
        "testset = torchvision.datasets.CIFAR10(root='./data', train=False, download=True, transform=transform)\n",
        "\n",
        "trainset, valset = torch.utils.data.random_split(dataset, [45000, 5000], generator=torch.Generator().manual_seed(42))"
      ],
      "execution_count": null,
      "outputs": [
        {
          "output_type": "stream",
          "name": "stdout",
          "text": [
            "Files already downloaded and verified\n",
            "Files already downloaded and verified\n"
          ]
        }
      ]
    },
    {
      "cell_type": "code",
      "metadata": {
        "id": "exFw3F4IcCiE",
        "colab": {
          "base_uri": "https://localhost:8080/"
        },
        "outputId": "8bb34abb-5968-4823-b5cd-c243dc01cc97"
      },
      "source": [
        "from torch.nn import Module, Conv2d, Linear\n",
        "from torch.nn.functional import relu, max_pool2d\n",
        "\n",
        "class MyResidualNet(Module):\n",
        "  def __init__(self):\n",
        "    super(MyResidualNet, self).__init__()\n",
        "\n",
        "    self.init_conv = Conv2d(3, 64, 5, stride=2)\n",
        "\n",
        "    self.conv_1 = Conv2d(64, 64, 3, padding='same')\n",
        "    self.conv_2 = Conv2d(64, 64, 3, padding='same')\n",
        "\n",
        "\n",
        "    self.conv_3 = Conv2d(64, 64, 3, padding='same')\n",
        "    self.conv_4 = Conv2d(64, 64, 3, padding='same')\n",
        "\n",
        "    self.conv_5 = Conv2d(64, 64, 3, padding='same')\n",
        "    self.conv_6 = Conv2d(64, 64, 3, padding='same')\n",
        "\n",
        "    self.fc1 = Linear(64, 32)\n",
        "    self.fc2 = Linear(32, 10)\n",
        "\n",
        "  def forward(self, x):\n",
        "    x = self.init_conv(x)\n",
        "    x = relu(x)\n",
        "\n",
        "    x_in = self.conv_1(x)\n",
        "    x_in = relu(x)\n",
        "    x_in = self.conv_2(x)\n",
        "\n",
        "    x = x_in + x\n",
        "    x = max_pool2d(x, 2)\n",
        "    x = relu(x)\n",
        "\n",
        "    x_in = self.conv_3(x)\n",
        "    x_in = relu(x)\n",
        "    x_in = self.conv_4(x)\n",
        "\n",
        "    x = x_in + x\n",
        "    x = max_pool2d(x, 2)\n",
        "    x = relu(x)\n",
        "\n",
        "    x_in = self.conv_5(x)\n",
        "    x_in = relu(x)\n",
        "    x_in = self.conv_6(x)\n",
        "\n",
        "    x = x_in + x\n",
        "    x = torch.mean(x, dim=-1)    \n",
        "    x = torch.mean(x, dim=-1)\n",
        "\n",
        "    x = self.fc1(x)\n",
        "    x = relu(x)\n",
        "    x = self.fc2(x)\n",
        "\n",
        "    return x\n",
        "\n",
        "model = MyResidualNet().float()\n",
        "model(torch.ones([1, 3, 32, 32]))"
      ],
      "execution_count": null,
      "outputs": [
        {
          "output_type": "execute_result",
          "data": {
            "text/plain": [
              "tensor([[ 0.1776,  0.0202,  0.1364, -0.0277, -0.2085,  0.2921, -0.0071,  0.2514,\n",
              "         -0.2028, -0.4305]], grad_fn=<AddmmBackward0>)"
            ]
          },
          "metadata": {},
          "execution_count": 43
        }
      ]
    },
    {
      "cell_type": "code",
      "metadata": {
        "id": "sbdNPJ7DnNRy",
        "colab": {
          "base_uri": "https://localhost:8080/"
        },
        "outputId": "b0196a2c-b0e2-4d3f-cdaf-6aa63b8364ad"
      },
      "source": [
        "from torch.nn import Module, Conv2d, Linear\n",
        "from torch.nn.functional import relu, max_pool2d\n",
        "\n",
        "class ResidualBlock(Module):\n",
        "  def __init__(self, in_channels, h_channels, reduce_vol=False):\n",
        "    super(ResidualBlock, self).__init__()\n",
        "    self.reduce_vol = reduce_vol\n",
        "\n",
        "\n",
        "    if reduce_vol:\n",
        "      self.conv_1 = Conv2d(in_channels, h_channels, 3, stride=2)\n",
        "    else:\n",
        "      self.conv_1 = Conv2d(in_channels, h_channels, 3, padding='same')\n",
        "    self.conv_2 = Conv2d(h_channels, h_channels, 3, padding='same')\n",
        "    self.conv_3 = Conv2d(h_channels, in_channels, 1)\n",
        "\n",
        "    if reduce_vol:\n",
        "      self.conv_connect = Conv2d(in_channels, in_channels, 3, stride=2)\n",
        "\n",
        "  def forward(self, x):\n",
        "    y = self.conv_1(x)\n",
        "    y = relu(y)\n",
        "    y = self.conv_2(y)\n",
        "    y = relu(y)\n",
        "    y = self.conv_3(y)\n",
        "\n",
        "    if self.reduce_vol:\n",
        "      x = y + self.conv_connect(x)\n",
        "    else:\n",
        "      x = y + x\n",
        "    \n",
        "    return relu(x)\n",
        "\n",
        "\n",
        "class MyResidualNet(Module):\n",
        "  def __init__(self):\n",
        "    super(MyResidualNet, self).__init__()\n",
        "\n",
        "    self.init_conv = Conv2d(3, 64, 3)\n",
        "\n",
        "    self.block_1 = ResidualBlock(64, 32)\n",
        "    self.block_2 = ResidualBlock(64, 32, reduce_vol=True)\n",
        "    self.block_3 = ResidualBlock(64, 64)\n",
        "    self.block_4 = ResidualBlock(64, 64, reduce_vol=True)\n",
        "    self.block_5 = ResidualBlock(64, 128)\n",
        "    self.block_6 = ResidualBlock(64, 128, reduce_vol=True)\n",
        "    self.fc1 = Linear(64, 32)\n",
        "    self.fc2 = Linear(32, 10)\n",
        "\n",
        "  def forward(self, x):\n",
        "    x = self.init_conv(x)\n",
        "    x = self.block_1(x)\n",
        "    x = self.block_2(x)\n",
        "    x = self.block_3(x)\n",
        "    x = self.block_4(x)\n",
        "    x = self.block_5(x)\n",
        "    x = self.block_6(x)\n",
        "\n",
        "    x = torch.mean(x, dim=-1)    \n",
        "    x = torch.mean(x, dim=-1)\n",
        "\n",
        "    x = self.fc1(x)\n",
        "    x = relu(x)\n",
        "    x = self.fc2(x)\n",
        "\n",
        "    return x\n",
        "\n",
        "model = MyResidualNet().float()\n",
        "model(torch.ones([1, 3, 32, 32]))"
      ],
      "execution_count": null,
      "outputs": [
        {
          "output_type": "execute_result",
          "data": {
            "text/plain": [
              "tensor([[-0.0477,  0.0182,  0.0923,  0.1278,  0.0436,  0.1648,  0.0754,  0.0861,\n",
              "          0.1529,  0.1729]], grad_fn=<AddmmBackward0>)"
            ]
          },
          "metadata": {},
          "execution_count": 44
        }
      ]
    },
    {
      "cell_type": "code",
      "metadata": {
        "id": "v8-4rDg_vAXi"
      },
      "source": [
        "from torch.utils.tensorboard import SummaryWriter\n",
        "\n",
        "model = MyResidualNet()\n",
        "writer = SummaryWriter('tb/residual')\n",
        "writer.add_graph(model, torch.ones([1, 3, 32, 32]))\n",
        "writer.close()"
      ],
      "execution_count": null,
      "outputs": []
    },
    {
      "cell_type": "code",
      "metadata": {
        "id": "AbIHq3V_vF3R"
      },
      "source": [
        "!kill 2173\n",
        "%tensorboard --logdir tb"
      ],
      "execution_count": null,
      "outputs": []
    },
    {
      "cell_type": "code",
      "metadata": {
        "id": "cjs1oPwKlPUu",
        "colab": {
          "base_uri": "https://localhost:8080/",
          "height": 860
        },
        "outputId": "83284e2c-e2a1-43e7-a127-218b67690a23"
      },
      "source": [
        "batch_size = 32\n",
        "\n",
        "dataloader_train = torch.utils.data.DataLoader(trainset, batch_size=batch_size, shuffle=True)\n",
        "dataloader_val = torch.utils.data.DataLoader(valset, batch_size=batch_size, shuffle=False)\n",
        "\n",
        "device = torch.device(\"cuda:0\" if torch.cuda.is_available() else \"cpu\")\n",
        "print(\"Using device: \", device)\n",
        "\n",
        "ce_loss = torch.nn.CrossEntropyLoss().to(device)\n",
        "\n",
        "model = MyResidualNet()\n",
        "\n",
        "model.to(device)\n",
        "\n",
        "optimizer = torch.optim.Adam(model.parameters(), lr=1e-3)\n",
        "\n",
        "epoch_train_losses = []\n",
        "epoch_val_losses = []\n",
        "epoch_val_accs = []\n",
        "\n",
        "for e in range(2):\n",
        "  train_loss, val_loss, val_acc = one_epoch(model, loss, optimizer, dataloader_train, dataloader_val, device)\n",
        "\n",
        "  print(\"Val loss at epoch {}: {}\".format(e, val_loss))\n",
        "  print(\"Val acc at epoch {}: {}\".format(e, val_acc))\n",
        "\n",
        "  epoch_train_losses.append(train_loss)\n",
        "  epoch_val_losses.append(val_loss)\n",
        "  epoch_val_accs.append(val_acc)\n",
        "  \n",
        "plt.plot(epoch_train_losses, c='r')\n",
        "plt.plot(epoch_val_losses, c='b')\n",
        "plt.show()"
      ],
      "execution_count": null,
      "outputs": [
        {
          "output_type": "stream",
          "name": "stdout",
          "text": [
            "Using device:  cuda:0\n",
            "Training loss at step 0: 2.2758963108062744\n",
            "Training loss at step 100: 2.096365213394165\n",
            "Training loss at step 200: 1.8903090953826904\n",
            "Training loss at step 300: 2.012333393096924\n",
            "Training loss at step 400: 1.917595624923706\n",
            "Training loss at step 500: 1.6012580394744873\n",
            "Training loss at step 600: 1.8389453887939453\n",
            "Training loss at step 700: 1.4775934219360352\n",
            "Training loss at step 800: 1.6677876710891724\n",
            "Training loss at step 900: 1.6604496240615845\n",
            "Training loss at step 1000: 1.3877886533737183\n",
            "Training loss at step 1100: 1.469057321548462\n",
            "Training loss at step 1200: 1.4700777530670166\n",
            "Training loss at step 1300: 1.5367202758789062\n",
            "Training loss at step 1400: 1.3100359439849854\n",
            "Val loss at epoch 0: 1.515765676073208\n",
            "Val acc at epoch 0: 0.4376\n",
            "Training loss at step 0: 1.3617180585861206\n",
            "Training loss at step 100: 1.499324917793274\n",
            "Training loss at step 200: 1.4787063598632812\n",
            "Training loss at step 300: 1.265708327293396\n",
            "Training loss at step 400: 1.1627334356307983\n",
            "Training loss at step 500: 1.454447865486145\n",
            "Training loss at step 600: 1.5459668636322021\n",
            "Training loss at step 700: 1.2775475978851318\n",
            "Training loss at step 800: 1.2518000602722168\n",
            "Training loss at step 900: 1.3187224864959717\n",
            "Training loss at step 1000: 1.2120603322982788\n",
            "Training loss at step 1100: 1.110974907875061\n",
            "Training loss at step 1200: 1.3214893341064453\n",
            "Training loss at step 1300: 1.385452389717102\n",
            "Training loss at step 1400: 1.25783109664917\n",
            "Val loss at epoch 1: 1.3078218182181096\n",
            "Val acc at epoch 1: 0.5264\n"
          ]
        },
        {
          "output_type": "display_data",
          "data": {
            "text/plain": [
              "<Figure size 432x288 with 1 Axes>"
            ],
            "image/png": "[encoded data removed]"
          },
          "metadata": {
            "needs_background": "light"
          }
        }
      ]
    }
  ]
}