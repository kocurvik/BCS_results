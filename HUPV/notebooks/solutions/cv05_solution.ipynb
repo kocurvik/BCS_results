{
  "nbformat": 4,
  "nbformat_minor": 0,
  "metadata": {
    "colab": {
      "provenance": [],
      "toc_visible": true,
      "authorship_tag": "ABX9TyNZJQg7tbowkIAXKesgthwT",
      "include_colab_link": true
    },
    "kernelspec": {
      "name": "python3",
      "display_name": "Python 3"
    },
    "language_info": {
      "name": "python"
    },
    "accelerator": "GPU",
    "widgets": {
      "application/vnd.jupyter.widget-state+json": {
        "2df4ba5fdc37413b8e5564b46e12a056": {
          "model_module": "@jupyter-widgets/controls",
          "model_name": "HBoxModel",
          "model_module_version": "1.5.0",
          "state": {
            "_view_name": "HBoxView",
            "_dom_classes": [],
            "_model_name": "HBoxModel",
            "_view_module": "@jupyter-widgets/controls",
            "_model_module_version": "1.5.0",
            "_view_count": null,
            "_view_module_version": "1.5.0",
            "box_style": "",
            "layout": "IPY_MODEL_d12b8bf27e8549fb9430062deedc2435",
            "_model_module": "@jupyter-widgets/controls",
            "children": [
              "IPY_MODEL_69dc4cf743114d738180d6b0b036a3e0",
              "IPY_MODEL_94b04be3ff384fdbb924050e989a289d",
              "IPY_MODEL_400cd06ac3fa4c43ae44c630ee9dad0f"
            ]
          }
        },
        "d12b8bf27e8549fb9430062deedc2435": {
          "model_module": "@jupyter-widgets/base",
          "model_name": "LayoutModel",
          "model_module_version": "1.2.0",
          "state": {
            "_view_name": "LayoutView",
            "grid_template_rows": null,
            "right": null,
            "justify_content": null,
            "_view_module": "@jupyter-widgets/base",
            "overflow": null,
            "_model_module_version": "1.2.0",
            "_view_count": null,
            "flex_flow": null,
            "width": null,
            "min_width": null,
            "border": null,
            "align_items": null,
            "bottom": null,
            "_model_module": "@jupyter-widgets/base",
            "top": null,
            "grid_column": null,
            "overflow_y": null,
            "overflow_x": null,
            "grid_auto_flow": null,
            "grid_area": null,
            "grid_template_columns": null,
            "flex": null,
            "_model_name": "LayoutModel",
            "justify_items": null,
            "grid_row": null,
            "max_height": null,
            "align_content": null,
            "visibility": null,
            "align_self": null,
            "height": null,
            "min_height": null,
            "padding": null,
            "grid_auto_rows": null,
            "grid_gap": null,
            "max_width": null,
            "order": null,
            "_view_module_version": "1.2.0",
            "grid_template_areas": null,
            "object_position": null,
            "object_fit": null,
            "grid_auto_columns": null,
            "margin": null,
            "display": null,
            "left": null
          }
        },
        "69dc4cf743114d738180d6b0b036a3e0": {
          "model_module": "@jupyter-widgets/controls",
          "model_name": "HTMLModel",
          "model_module_version": "1.5.0",
          "state": {
            "_view_name": "HTMLView",
            "style": "IPY_MODEL_0dc8d3728b3648c9ac6d78dcec7e9800",
            "_dom_classes": [],
            "description": "",
            "_model_name": "HTMLModel",
            "placeholder": "​",
            "_view_module": "@jupyter-widgets/controls",
            "_model_module_version": "1.5.0",
            "value": "",
            "_view_count": null,
            "_view_module_version": "1.5.0",
            "description_tooltip": null,
            "_model_module": "@jupyter-widgets/controls",
            "layout": "IPY_MODEL_0483f00262d34fa2b6f94d5136497b80"
          }
        },
        "94b04be3ff384fdbb924050e989a289d": {
          "model_module": "@jupyter-widgets/controls",
          "model_name": "FloatProgressModel",
          "model_module_version": "1.5.0",
          "state": {
            "_view_name": "ProgressView",
            "style": "IPY_MODEL_75598057004a418ba541028e1258d5bb",
            "_dom_classes": [],
            "description": "",
            "_model_name": "FloatProgressModel",
            "bar_style": "success",
            "max": 170498071,
            "_view_module": "@jupyter-widgets/controls",
            "_model_module_version": "1.5.0",
            "value": 170498071,
            "_view_count": null,
            "_view_module_version": "1.5.0",
            "orientation": "horizontal",
            "min": 0,
            "description_tooltip": null,
            "_model_module": "@jupyter-widgets/controls",
            "layout": "IPY_MODEL_2c54439d7f63469bafa076f46c0ef82a"
          }
        },
        "400cd06ac3fa4c43ae44c630ee9dad0f": {
          "model_module": "@jupyter-widgets/controls",
          "model_name": "HTMLModel",
          "model_module_version": "1.5.0",
          "state": {
            "_view_name": "HTMLView",
            "style": "IPY_MODEL_1d4a3a1d74c14d8fa216d23648eae33e",
            "_dom_classes": [],
            "description": "",
            "_model_name": "HTMLModel",
            "placeholder": "​",
            "_view_module": "@jupyter-widgets/controls",
            "_model_module_version": "1.5.0",
            "value": " 170499072/? [00:12&lt;00:00, 16697081.16it/s]",
            "_view_count": null,
            "_view_module_version": "1.5.0",
            "description_tooltip": null,
            "_model_module": "@jupyter-widgets/controls",
            "layout": "IPY_MODEL_5fa132fdfdd446d1964dc7b5ff325730"
          }
        },
        "0dc8d3728b3648c9ac6d78dcec7e9800": {
          "model_module": "@jupyter-widgets/controls",
          "model_name": "DescriptionStyleModel",
          "model_module_version": "1.5.0",
          "state": {
            "_view_name": "StyleView",
            "_model_name": "DescriptionStyleModel",
            "description_width": "",
            "_view_module": "@jupyter-widgets/base",
            "_model_module_version": "1.5.0",
            "_view_count": null,
            "_view_module_version": "1.2.0",
            "_model_module": "@jupyter-widgets/controls"
          }
        },
        "0483f00262d34fa2b6f94d5136497b80": {
          "model_module": "@jupyter-widgets/base",
          "model_name": "LayoutModel",
          "model_module_version": "1.2.0",
          "state": {
            "_view_name": "LayoutView",
            "grid_template_rows": null,
            "right": null,
            "justify_content": null,
            "_view_module": "@jupyter-widgets/base",
            "overflow": null,
            "_model_module_version": "1.2.0",
            "_view_count": null,
            "flex_flow": null,
            "width": null,
            "min_width": null,
            "border": null,
            "align_items": null,
            "bottom": null,
            "_model_module": "@jupyter-widgets/base",
            "top": null,
            "grid_column": null,
            "overflow_y": null,
            "overflow_x": null,
            "grid_auto_flow": null,
            "grid_area": null,
            "grid_template_columns": null,
            "flex": null,
            "_model_name": "LayoutModel",
            "justify_items": null,
            "grid_row": null,
            "max_height": null,
            "align_content": null,
            "visibility": null,
            "align_self": null,
            "height": null,
            "min_height": null,
            "padding": null,
            "grid_auto_rows": null,
            "grid_gap": null,
            "max_width": null,
            "order": null,
            "_view_module_version": "1.2.0",
            "grid_template_areas": null,
            "object_position": null,
            "object_fit": null,
            "grid_auto_columns": null,
            "margin": null,
            "display": null,
            "left": null
          }
        },
        "75598057004a418ba541028e1258d5bb": {
          "model_module": "@jupyter-widgets/controls",
          "model_name": "ProgressStyleModel",
          "model_module_version": "1.5.0",
          "state": {
            "_view_name": "StyleView",
            "_model_name": "ProgressStyleModel",
            "description_width": "",
            "_view_module": "@jupyter-widgets/base",
            "_model_module_version": "1.5.0",
            "_view_count": null,
            "_view_module_version": "1.2.0",
            "bar_color": null,
            "_model_module": "@jupyter-widgets/controls"
          }
        },
        "2c54439d7f63469bafa076f46c0ef82a": {
          "model_module": "@jupyter-widgets/base",
          "model_name": "LayoutModel",
          "model_module_version": "1.2.0",
          "state": {
            "_view_name": "LayoutView",
            "grid_template_rows": null,
            "right": null,
            "justify_content": null,
            "_view_module": "@jupyter-widgets/base",
            "overflow": null,
            "_model_module_version": "1.2.0",
            "_view_count": null,
            "flex_flow": null,
            "width": null,
            "min_width": null,
            "border": null,
            "align_items": null,
            "bottom": null,
            "_model_module": "@jupyter-widgets/base",
            "top": null,
            "grid_column": null,
            "overflow_y": null,
            "overflow_x": null,
            "grid_auto_flow": null,
            "grid_area": null,
            "grid_template_columns": null,
            "flex": null,
            "_model_name": "LayoutModel",
            "justify_items": null,
            "grid_row": null,
            "max_height": null,
            "align_content": null,
            "visibility": null,
            "align_self": null,
            "height": null,
            "min_height": null,
            "padding": null,
            "grid_auto_rows": null,
            "grid_gap": null,
            "max_width": null,
            "order": null,
            "_view_module_version": "1.2.0",
            "grid_template_areas": null,
            "object_position": null,
            "object_fit": null,
            "grid_auto_columns": null,
            "margin": null,
            "display": null,
            "left": null
          }
        },
        "1d4a3a1d74c14d8fa216d23648eae33e": {
          "model_module": "@jupyter-widgets/controls",
          "model_name": "DescriptionStyleModel",
          "model_module_version": "1.5.0",
          "state": {
            "_view_name": "StyleView",
            "_model_name": "DescriptionStyleModel",
            "description_width": "",
            "_view_module": "@jupyter-widgets/base",
            "_model_module_version": "1.5.0",
            "_view_count": null,
            "_view_module_version": "1.2.0",
            "_model_module": "@jupyter-widgets/controls"
          }
        },
        "5fa132fdfdd446d1964dc7b5ff325730": {
          "model_module": "@jupyter-widgets/base",
          "model_name": "LayoutModel",
          "model_module_version": "1.2.0",
          "state": {
            "_view_name": "LayoutView",
            "grid_template_rows": null,
            "right": null,
            "justify_content": null,
            "_view_module": "@jupyter-widgets/base",
            "overflow": null,
            "_model_module_version": "1.2.0",
            "_view_count": null,
            "flex_flow": null,
            "width": null,
            "min_width": null,
            "border": null,
            "align_items": null,
            "bottom": null,
            "_model_module": "@jupyter-widgets/base",
            "top": null,
            "grid_column": null,
            "overflow_y": null,
            "overflow_x": null,
            "grid_auto_flow": null,
            "grid_area": null,
            "grid_template_columns": null,
            "flex": null,
            "_model_name": "LayoutModel",
            "justify_items": null,
            "grid_row": null,
            "max_height": null,
            "align_content": null,
            "visibility": null,
            "align_self": null,
            "height": null,
            "min_height": null,
            "padding": null,
            "grid_auto_rows": null,
            "grid_gap": null,
            "max_width": null,
            "order": null,
            "_view_module_version": "1.2.0",
            "grid_template_areas": null,
            "object_position": null,
            "object_fit": null,
            "grid_auto_columns": null,
            "margin": null,
            "display": null,
            "left": null
          }
        }
      }
    }
  },
  "cells": [
    {
      "cell_type": "markdown",
      "metadata": {
        "id": "view-in-github",
        "colab_type": "text"
      },
      "source": [
        "<a href=\"https://colab.research.google.com/github/kocurvik/BCS_results/blob/master/HUPV/notebooks/solutions/cv05_solution.ipynb\" target=\"_parent\"><img src=\"https://colab.research.google.com/assets/colab-badge.svg\" alt=\"Open In Colab\"/></a>"
      ]
    },
    {
      "cell_type": "markdown",
      "metadata": {
        "id": "i6Qt0DQsm097"
      },
      "source": [
        "# Trénovanie II.\n",
        "\n",
        "Dnes si prejdeme konvolučné neurónové siete. Teda kovnolučné a poolingové vrstvy a k nim ďalšie vrstvy ako BatchNorm a Dropout. Prejdeme si tiež aj augmentáciu vstupného obrazu. Pozrieme sa aj na rôzne optimalizačné algoritmy\n",
        "\n"
      ]
    },
    {
      "cell_type": "code",
      "metadata": {
        "id": "lHhxJ2QNmVtd"
      },
      "source": [
        "import torch\n",
        "import torchvision\n",
        "import torchvision.transforms as transforms\n",
        "\n",
        "import numpy as np\n",
        "from matplotlib import pyplot as plt"
      ],
      "execution_count": null,
      "outputs": []
    },
    {
      "cell_type": "markdown",
      "metadata": {
        "id": "BjFHrHEdnJef"
      },
      "source": [
        "## Cifar-10\n",
        "\n",
        "Dnes si načítame dataset cifar-10. Tento dataset obsahuje malé obrázky, ktoré su rozdelené na 10 kategórií.\n"
      ]
    },
    {
      "cell_type": "code",
      "metadata": {
        "colab": {
          "base_uri": "https://localhost:8080/",
          "height": 1000,
          "referenced_widgets": [
            "2df4ba5fdc37413b8e5564b46e12a056",
            "d12b8bf27e8549fb9430062deedc2435",
            "69dc4cf743114d738180d6b0b036a3e0",
            "94b04be3ff384fdbb924050e989a289d",
            "400cd06ac3fa4c43ae44c630ee9dad0f",
            "0dc8d3728b3648c9ac6d78dcec7e9800",
            "0483f00262d34fa2b6f94d5136497b80",
            "75598057004a418ba541028e1258d5bb",
            "2c54439d7f63469bafa076f46c0ef82a",
            "1d4a3a1d74c14d8fa216d23648eae33e",
            "5fa132fdfdd446d1964dc7b5ff325730"
          ]
        },
        "id": "6nf99uj1naMC",
        "outputId": "8f85d889-8897-46f4-a1d6-8c86d629af2d"
      },
      "source": [
        "classes = ('plane', 'car', 'bird', 'cat', 'deer', 'dog', 'frog', 'horse', 'ship', 'truck')\n",
        "\n",
        "transform = transforms.ToTensor()\n",
        "\n",
        "dataset = torchvision.datasets.CIFAR10(root='./data', train=True, download=True, transform=transform)\n",
        "testset = torchvision.datasets.CIFAR10(root='./data', train=False, download=True, transform=transform)\n",
        "\n",
        "# for reproducibility\n",
        "trainset, valset = torch.utils.data.random_split(dataset, [45000, 5000], generator=torch.Generator().manual_seed(42))\n",
        "\n",
        "previewloader = torch.utils.data.DataLoader(testset, batch_size=1, shuffle=True)\n",
        "\n",
        "for i, sample in enumerate(previewloader):\n",
        "  if i > 10:\n",
        "    break\n",
        "  x, y = sample\n",
        "  print(x.shape)\n",
        "  img = np.moveaxis(x.numpy()[0], 0, -1)\n",
        "  plt.imshow(img)\n",
        "  plt.show()\n",
        "  print(y)\n",
        "  print(classes[y.item()])\n",
        "\n"
      ],
      "execution_count": null,
      "outputs": [
        {
          "output_type": "stream",
          "name": "stdout",
          "text": [
            "Downloading https://www.cs.toronto.edu/~kriz/cifar-10-python.tar.gz to ./data/cifar-10-python.tar.gz\n"
          ]
        },
        {
          "output_type": "display_data",
          "data": {
            "application/vnd.jupyter.widget-view+json": {
              "model_id": "2df4ba5fdc37413b8e5564b46e12a056",
              "version_minor": 0,
              "version_major": 2
            },
            "text/plain": [
              "  0%|          | 0/170498071 [00:00<?, ?it/s]"
            ]
          },
          "metadata": {}
        },
        {
          "output_type": "stream",
          "name": "stdout",
          "text": [
            "Extracting ./data/cifar-10-python.tar.gz to ./data\n",
            "Files already downloaded and verified\n",
            "torch.Size([1, 3, 32, 32])\n"
          ]
        },
        {
          "output_type": "display_data",
          "data": {
            "image/png": "[encoded data removed]",
            "text/plain": [
              "<Figure size 432x288 with 1 Axes>"
            ]
          },
          "metadata": {
            "needs_background": "light"
          }
        },
        {
          "output_type": "stream",
          "name": "stdout",
          "text": [
            "tensor([5])\n",
            "dog\n",
            "torch.Size([1, 3, 32, 32])\n"
          ]
        },
        {
          "output_type": "display_data",
          "data": {
            "image/png": "[encoded data removed]",
            "text/plain": [
              "<Figure size 432x288 with 1 Axes>"
            ]
          },
          "metadata": {
            "needs_background": "light"
          }
        },
        {
          "output_type": "stream",
          "name": "stdout",
          "text": [
            "tensor([8])\n",
            "ship\n",
            "torch.Size([1, 3, 32, 32])\n"
          ]
        },
        {
          "output_type": "display_data",
          "data": {
            "image/png": "[encoded data removed]",
            "text/plain": [
              "<Figure size 432x288 with 1 Axes>"
            ]
          },
          "metadata": {
            "needs_background": "light"
          }
        },
        {
          "output_type": "stream",
          "name": "stdout",
          "text": [
            "tensor([5])\n",
            "dog\n",
            "torch.Size([1, 3, 32, 32])\n"
          ]
        },
        {
          "output_type": "display_data",
          "data": {
            "image/png": "[encoded data removed]",
            "text/plain": [
              "<Figure size 432x288 with 1 Axes>"
            ]
          },
          "metadata": {
            "needs_background": "light"
          }
        },
        {
          "output_type": "stream",
          "name": "stdout",
          "text": [
            "tensor([8])\n",
            "ship\n",
            "torch.Size([1, 3, 32, 32])\n"
          ]
        },
        {
          "output_type": "display_data",
          "data": {
            "image/png": "[encoded data removed]",
            "text/plain": [
              "<Figure size 432x288 with 1 Axes>"
            ]
          },
          "metadata": {
            "needs_background": "light"
          }
        },
        {
          "output_type": "stream",
          "name": "stdout",
          "text": [
            "tensor([9])\n",
            "truck\n",
            "torch.Size([1, 3, 32, 32])\n"
          ]
        },
        {
          "output_type": "display_data",
          "data": {
            "image/png": "[encoded data removed]",
            "text/plain": [
              "<Figure size 432x288 with 1 Axes>"
            ]
          },
          "metadata": {
            "needs_background": "light"
          }
        },
        {
          "output_type": "stream",
          "name": "stdout",
          "text": [
            "tensor([1])\n",
            "car\n",
            "torch.Size([1, 3, 32, 32])\n"
          ]
        },
        {
          "output_type": "display_data",
          "data": {
            "image/png": "[encoded data removed]",
            "text/plain": [
              "<Figure size 432x288 with 1 Axes>"
            ]
          },
          "metadata": {
            "needs_background": "light"
          }
        },
        {
          "output_type": "stream",
          "name": "stdout",
          "text": [
            "tensor([1])\n",
            "car\n",
            "torch.Size([1, 3, 32, 32])\n"
          ]
        },
        {
          "output_type": "display_data",
          "data": {
            "image/png": "[encoded data removed]",
            "text/plain": [
              "<Figure size 432x288 with 1 Axes>"
            ]
          },
          "metadata": {
            "needs_background": "light"
          }
        },
        {
          "output_type": "stream",
          "name": "stdout",
          "text": [
            "tensor([6])\n",
            "frog\n",
            "torch.Size([1, 3, 32, 32])\n"
          ]
        },
        {
          "output_type": "display_data",
          "data": {
            "image/png": "[encoded data removed]",
            "text/plain": [
              "<Figure size 432x288 with 1 Axes>"
            ]
          },
          "metadata": {
            "needs_background": "light"
          }
        },
        {
          "output_type": "stream",
          "name": "stdout",
          "text": [
            "tensor([5])\n",
            "dog\n",
            "torch.Size([1, 3, 32, 32])\n"
          ]
        },
        {
          "output_type": "display_data",
          "data": {
            "image/png": "[encoded data removed]",
            "text/plain": [
              "<Figure size 432x288 with 1 Axes>"
            ]
          },
          "metadata": {
            "needs_background": "light"
          }
        },
        {
          "output_type": "stream",
          "name": "stdout",
          "text": [
            "tensor([5])\n",
            "dog\n",
            "torch.Size([1, 3, 32, 32])\n"
          ]
        },
        {
          "output_type": "display_data",
          "data": {
            "image/png": "[encoded data removed]",
            "text/plain": [
              "<Figure size 432x288 with 1 Axes>"
            ]
          },
          "metadata": {
            "needs_background": "light"
          }
        },
        {
          "output_type": "stream",
          "name": "stdout",
          "text": [
            "tensor([4])\n",
            "deer\n"
          ]
        }
      ]
    },
    {
      "cell_type": "markdown",
      "metadata": {
        "id": "0rSVzbhIqV0w"
      },
      "source": [
        "## Konvolúcia\n",
        "\n",
        "Ak by sme chceli používať pre počítačové videnie plne prepojené vrstvy, tak by sme narazili na problém s rýchlo narastajúcim množstvom parametrov. Veľké množstvo parametrov komplikuje trénovanie z hľadiska zložitosti priestoru nad ktorým optimalizujeme a taktiež vo výpočtovej náročnosti takejto optimalizácie.\n",
        "\n",
        "Z tohto dôvodu sa najčastiejšie používajú tzv. konvolučné neurónové siete. Ich základom je konvolúcia. Tá je obecne definovaná na pre dve funkcie $f$ a $g$:\n",
        "\n",
        "$$ (f \\ast g)(t)  = \\int_{-\\infty}^{\\infty} f(x) g(t - x) dx$$\n",
        "\n",
        "Väčšinou sa používa ak je nosič jednej z funkcií obmedzený. V diskrétnom prípade pre \"postupnosti\" $a_i$ a $b_i$ pre $ i \\in \\mathbb{Z}$. Definujeme ako:\n",
        "\n",
        "$$ (a \\ast b)_j = \\sum_{i \\in \\mathbb{Z}} a_i \\cdot b_{j-i}$$.\n",
        "\n",
        "V obraze však bežne však využívame dvojrozmernú verziu s veľmi malým jadrom o rozmeroch napr. $3 \\times 3$, $5 \\times 5$ atď. Keďže tieto jadrá sú pre bežné úlohy spracovania obrazu často symetrické, tak je bežne zamienaný pojem korelácie s konvolúciou (rozdiel je v znamienku vo výraze). Aplikáciu konvolúcie si tak môžeme predstaviť ako prenásobenie okolia nejakého bodu maskou a následné sčítanie daných hodnôt. Na obrázku znázornené ako:\n",
        "\n",
        "![alt text](https://i.stack.imgur.com/YDusp.png)\n",
        "\n",
        "Takýto postup sa bežne používa pri detekcii hrán, alebo iných zaujímavých bodov v obraze. Konvolúcia je preto vhodná na využitie v neurónových sieťach. To realizujeme tak, že daná vrsvta siete aplikuje na jej vstup konvolúciu s jadrom ktorého váhy sa sieť učí pri tréningu.\n",
        "\n",
        "Aby to nebolo moc jednoduché, tak tieto jadrá niesu len dvojrozmerné (napr. $3 \\times 3$), ale trojrozmerné, kde tretí rozmer korešponduje s počtom kanálov na vstupe do vrstvy. Každá vrstva má týchto jadier viacero a výstupom z nej tak bude obraz, alebo mapa príznakov s počtom kanálov rovným počtu jadier.\n",
        "\n",
        "Pri konvolúcii ešte musíme myslieť na to čo robiť na okrajoch. Prístupy sú rôzne. Niekedy jadro prikladáme tak, že nikdy neprekočíme okraj. To ale spôsobí, že výstupný obraz bude mať iné rozmery ako vstupný. Ak nám to nevyhovuje, tak môžeme časti za okrajom obrazu považivať za nuly, prípadne brať hodnoty z opačnej strany obrazu. Pridanie núl sa označuje ako padding. Ďalšou modifikáciou je tzv. stride, teda, že jadro neprikladáme vždy o jedno políčko vedľa, ale nejaké preskočíme.\n",
        "\n",
        "Pre jeden rozmer výstupného obrazu (samostatne šírka alebo výška) potom platí:\n",
        "\n",
        "$$ N_{out} = \\frac{N_{in} - F + 2P}{S} + 1,$$\n",
        "\n",
        "kde $N_{out}$ je výstupná veľkosť, $N_{out}$ je vstupná veľkosť, $F$ je veľkosť jadra a $P$ je padding.\n",
        "\n",
        "*Pozn.:* Keďže v sieti máme viacero kanálov, tak je uplne možné brať do úvahy aj $1 \\times 1$ konvolúciu. Tá nam totiž len redukuje počet kanálov."
      ]
    },
    {
      "cell_type": "markdown",
      "metadata": {
        "id": "sv9xhXq0qcLX"
      },
      "source": [
        "## Pooling\n",
        "\n",
        "Konvolúcia sa často používa s tzv. poolingovými vrstvami. Tie slúžia na to, aby sa veľkosť obrazu postupne zmenšovala, čo vedie na menšie pamäťové nároky a možnosť používania viacero kanálov v hlbších vrstvách siete. Táto vrstva rozdelí obraz na zopár oblastí napr. $2 \\times 2$ štvorčeky zredukuje hodnoty v nich na jedno číslo. To sa robí veľmi často pomocou operácie maxima, alebo menej často priemeru.\n",
        "\n",
        "![alt text](https://qph.fs.quoracdn.net/main-qimg-cf2833a40f946faf04163bc28517959c)"
      ]
    },
    {
      "cell_type": "markdown",
      "metadata": {
        "id": "vR9KduhJVOfC"
      },
      "source": [
        "## Flatten a Globálny Pooling\n",
        "\n",
        "Na konci sieťe je veľmi bežné použiť zopár plne prepojených vrstiev. Na to je však potrebné redukovať počet dimenzií (rád tenzoru). K tomu slúži vrstva Flatten, ktorá príznaky zoradí z obrazovej reprezentácie do vektoru.\n",
        "\n",
        "Nie vždy je vhodné využiť takýto prístup keďže veľkosť vektoru potom môže byť strašne veľká. Namiesto toho sa tak často používa tzv. globálny pooling, ktorý funguje ako bežný pooling ale redukuje celý obraz prináležiaci jednému kanálu na jedno číslo. Tu sa narozdiel od bežného Poolingu používa často priemerovací pooling."
      ]
    },
    {
      "cell_type": "markdown",
      "metadata": {
        "id": "uQYw27pIQzOq"
      },
      "source": [
        "## Aktivačné funkcie\n",
        "\n",
        "Výber aktivačnej funkcie je dôležitý pri konštrukcii architektúr hlbokých neurónových sietí. Viac sa s nimi zoznámite počas domácej úlohy. Dnes budeme používať aktivačnú funkciu ReLU (rectified linear unit), ktorá ma nazrozdiel od sigmoidu výhodu v tom, že sa veľmi rýchlo počíta a jej derivácia je buď jedna, alebo nula, čo pomáha riešiť problém tzv. miznúcich gradientov, ktorý nastáva pri využití sigmoidu. Preto budeme v dnešnom notebooku používať ReLU.\n",
        "\n",
        "ReLU je síce populárna, ale má niektoré nie uplne vhodné vlastnosti. Tie riešia rôznymi spôsobmi jej variácie PReLU, ELU a Leaky ReLU s ktorými sa zoznámite v rámci domácej úlohy. "
      ]
    },
    {
      "cell_type": "markdown",
      "metadata": {
        "id": "OLI8_XRYaybA"
      },
      "source": [
        "## Optimalizácia\n",
        "\n",
        "Zatiaľ sme používali na optimalizáciu SGD. To je ale veľmi senzitívne na nastavenie trénovacieho kroku. V dnešnom cvičení použiejeme metódu Adam. Rôzne metódy optimalizácie aj to ako reagujú na hyperparametre si takisto overíte v rámci domácej úlohy."
      ]
    },
    {
      "cell_type": "markdown",
      "metadata": {
        "id": "zdytbsXJraPq"
      },
      "source": [
        "## Jednoduchý model CNN\n",
        "\n",
        "Navrhneme si jednoduchý model pre konvolučnú neurónovú sieť.\n",
        "\n",
        "Pre konvolučné vrstvy je prvý parameter počet vstupných kanálov, počet výstupných kanálov, a veľkosť konvolučných jadier. Ďalšie parametre sú stride, padding atď pre viac info konzultujte dokumentáciu.\n",
        "\n",
        "Pre poolingové vrsvy je to veľkosť poolingového okna."
      ]
    },
    {
      "cell_type": "code",
      "metadata": {
        "colab": {
          "base_uri": "https://localhost:8080/"
        },
        "id": "0wpawKOqqZmF",
        "outputId": "47f37715-9aa1-42fa-b1ae-66063550e404"
      },
      "source": [
        "from torch.nn import Sequential, Linear, ReLU, Softmax, Conv2d, MaxPool2d, Flatten, AvgPool2d\n",
        "\n",
        "def build_model():\n",
        "  # Na vstupe budu tri kanaly lebo mame RGB vstup\n",
        "  model = Sequential(Conv2d(3, 32, 3), MaxPool2d(2), ReLU(), \n",
        "                    Conv2d(32, 64, 3), MaxPool2d(2), ReLU(),\n",
        "                    Conv2d(64, 128, 3), MaxPool2d(2), ReLU(),\n",
        "                    AvgPool2d(), \n",
        "                    Linear(512, 256), ReLU(), Linear(256, 128), ReLU(),\n",
        "                    Linear(128, 10))\n",
        "\n",
        "  model_inference = Sequential(model, Softmax())\n",
        "  return model, model_inference\n",
        "\n",
        "\n",
        "# overime ze model funguje - ak by sme napriklad za flatten dali zle cislo nefungovalo by to\n",
        "model, model_inference = build_model()\n",
        "\n",
        "model_inference(torch.from_numpy(np.zeros([1, 3, 32, 32], dtype=np.float32)))"
      ],
      "execution_count": null,
      "outputs": [
        {
          "output_type": "stream",
          "name": "stderr",
          "text": [
            "/usr/local/lib/python3.7/dist-packages/torch/nn/functional.py:718: UserWarning: Named tensors and all their associated APIs are an experimental feature and subject to change. Please do not use them for anything important until they are released as stable. (Triggered internally at  /pytorch/c10/core/TensorImpl.h:1156.)\n",
            "  return torch.max_pool2d(input, kernel_size, stride, padding, dilation, ceil_mode)\n",
            "/usr/local/lib/python3.7/dist-packages/torch/nn/modules/container.py:139: UserWarning: Implicit dimension choice for softmax has been deprecated. Change the call to include dim=X as an argument.\n",
            "  input = module(input)\n"
          ]
        },
        {
          "output_type": "execute_result",
          "data": {
            "text/plain": [
              "tensor([[0.1054, 0.1029, 0.1045, 0.0932, 0.1047, 0.0931, 0.0969, 0.1063, 0.0977,\n",
              "         0.0954]], grad_fn=<SoftmaxBackward>)"
            ]
          },
          "metadata": {},
          "execution_count": 3
        }
      ]
    },
    {
      "cell_type": "markdown",
      "metadata": {
        "id": "OkPdHqVi2K2Z"
      },
      "source": [
        "Model si natrénujeme. Aby sme nečakali tak dlho na zlepšenie presnosti, tak použijeme optimalizátor Adam."
      ]
    },
    {
      "cell_type": "code",
      "metadata": {
        "colab": {
          "base_uri": "https://localhost:8080/"
        },
        "id": "4fHbhiYOsSCe",
        "outputId": "de3832cb-ac12-4fc8-de72-a13882cb2a17"
      },
      "source": [
        "batch_size = 32\n",
        "\n",
        "dataloader_train = torch.utils.data.DataLoader(trainset, batch_size=batch_size, shuffle=True)\n",
        "dataloader_val = torch.utils.data.DataLoader(valset, batch_size=batch_size, shuffle=True)\n",
        "\n",
        "model, model_inference = build_model()\n",
        "ce_loss = torch.nn.CrossEntropyLoss()\n",
        "\n",
        "optimizer = torch.optim.Adam(model.parameters(), lr=1e-3)\n",
        "\n",
        "for e in range(2):\n",
        "  model.train()\n",
        "  for i, batch in enumerate(dataloader_train):  \n",
        "    x, y = batch  \n",
        "    optimizer.zero_grad()\n",
        "\n",
        "    out = model(x)\n",
        "    loss = ce_loss(out, y)\n",
        "    loss.backward()\n",
        "    optimizer.step()\n",
        "    if i % 100 == 0:\n",
        "      print(\"Loss at epoch: {} step {}: {}\".format(e, i, loss.item()))\n",
        "\n",
        "  model.eval()\n",
        "  with torch.no_grad():\n",
        "    val_losses = []\n",
        "    correct = 0\n",
        "    for i, batch in enumerate(dataloader_val):  \n",
        "      x, y = batch  \n",
        "\n",
        "      out = model(x)\n",
        "      loss = ce_loss(out, y)\n",
        "      acc = torch.sum(torch.argmax(out, dim=-1) == y)\n",
        "      correct += acc.item()\n",
        "      val_losses.append(loss.item())\n",
        "\n",
        "    print(\"Val loss at epoch {}: {}\".format(e, np.mean(val_losses)))\n",
        "    print(\"Val acc at epoch {}: {}\".format(e, correct / 10000))"
      ],
      "execution_count": null,
      "outputs": [
        {
          "output_type": "stream",
          "name": "stdout",
          "text": [
            "Loss at epoch: 0 step 0: 2.3105556964874268\n",
            "Loss at epoch: 0 step 100: 2.0304081439971924\n",
            "Loss at epoch: 0 step 200: 1.9934464693069458\n",
            "Loss at epoch: 0 step 300: 1.7349417209625244\n",
            "Loss at epoch: 0 step 400: 1.6496598720550537\n",
            "Loss at epoch: 0 step 500: 1.529030442237854\n",
            "Loss at epoch: 0 step 600: 1.6301723718643188\n",
            "Loss at epoch: 0 step 700: 1.8648654222488403\n",
            "Loss at epoch: 0 step 800: 1.489243507385254\n",
            "Loss at epoch: 0 step 900: 1.3946133852005005\n",
            "Loss at epoch: 0 step 1000: 0.9908679723739624\n",
            "Loss at epoch: 0 step 1100: 1.266024112701416\n",
            "Loss at epoch: 0 step 1200: 1.1910135746002197\n",
            "Loss at epoch: 0 step 1300: 1.290026307106018\n",
            "Loss at epoch: 0 step 1400: 1.360695242881775\n",
            "Val loss at epoch 0: 1.3308798982079622\n",
            "Val acc at epoch 0: 0.2574\n",
            "Loss at epoch: 1 step 0: 1.3743178844451904\n",
            "Loss at epoch: 1 step 100: 1.4737783670425415\n",
            "Loss at epoch: 1 step 200: 1.1118364334106445\n",
            "Loss at epoch: 1 step 300: 1.661976933479309\n",
            "Loss at epoch: 1 step 400: 1.2639858722686768\n",
            "Loss at epoch: 1 step 500: 1.360190749168396\n",
            "Loss at epoch: 1 step 600: 1.2804449796676636\n",
            "Loss at epoch: 1 step 700: 1.227897047996521\n",
            "Loss at epoch: 1 step 800: 1.321842908859253\n",
            "Loss at epoch: 1 step 900: 0.9019925594329834\n",
            "Loss at epoch: 1 step 1000: 1.458786964416504\n",
            "Loss at epoch: 1 step 1100: 1.3125555515289307\n",
            "Loss at epoch: 1 step 1200: 1.1212941408157349\n",
            "Loss at epoch: 1 step 1300: 1.0892075300216675\n",
            "Loss at epoch: 1 step 1400: 0.8992040157318115\n",
            "Val loss at epoch 1: 1.1259920460403345\n",
            "Val acc at epoch 1: 0.2922\n"
          ]
        }
      ]
    },
    {
      "cell_type": "markdown",
      "metadata": {
        "id": "XsllczcQykRq"
      },
      "source": [
        "## Výpočet na GPU\n",
        "\n",
        "Počítanie na CPU je pomalé preto si budeme sieť púšťať na GPU. Najprv sa musíme uistiť, že naša inštancia má GPU pridelené. To si spravíte Menu Runtime -> Change runtime type v hornom menu (File Edit etc.).\n",
        "\n",
        "Aké gpu sme dostali môžeme zistiť pomocou príkazu nvidia-smi"
      ]
    },
    {
      "cell_type": "code",
      "metadata": {
        "colab": {
          "base_uri": "https://localhost:8080/"
        },
        "id": "brp9SwNKzHMn",
        "outputId": "11d7c212-2d2c-4970-adef-e1d6d642aa86"
      },
      "source": [
        "!nvidia-smi"
      ],
      "execution_count": null,
      "outputs": [
        {
          "output_type": "stream",
          "name": "stdout",
          "text": [
            "Tue Oct 26 16:04:48 2021       \n",
            "+-----------------------------------------------------------------------------+\n",
            "| NVIDIA-SMI 470.74       Driver Version: 460.32.03    CUDA Version: 11.2     |\n",
            "|-------------------------------+----------------------+----------------------+\n",
            "| GPU  Name        Persistence-M| Bus-Id        Disp.A | Volatile Uncorr. ECC |\n",
            "| Fan  Temp  Perf  Pwr:Usage/Cap|         Memory-Usage | GPU-Util  Compute M. |\n",
            "|                               |                      |               MIG M. |\n",
            "|===============================+======================+======================|\n",
            "|   0  Tesla K80           Off  | 00000000:00:04.0 Off |                    0 |\n",
            "| N/A   73C    P8    34W / 149W |      3MiB / 11441MiB |      0%      Default |\n",
            "|                               |                      |                  N/A |\n",
            "+-------------------------------+----------------------+----------------------+\n",
            "                                                                               \n",
            "+-----------------------------------------------------------------------------+\n",
            "| Processes:                                                                  |\n",
            "|  GPU   GI   CI        PID   Type   Process name                  GPU Memory |\n",
            "|        ID   ID                                                   Usage      |\n",
            "|=============================================================================|\n",
            "|  No running processes found                                                 |\n",
            "+-----------------------------------------------------------------------------+\n"
          ]
        }
      ]
    },
    {
      "cell_type": "markdown",
      "metadata": {
        "id": "wmKKsnfTzNYV"
      },
      "source": [
        "Potom ak cheme aby výpočet prebehol na GPU, tak musím všetky vstupy a aj model samotný prehodiť na gpu pomocou metódy to."
      ]
    },
    {
      "cell_type": "code",
      "metadata": {
        "id": "6WvTs5fJ3kak"
      },
      "source": [
        "def one_epoch(model, loss, optimizer, dataloader_train, dataloader_val, verbose=True):\n",
        "  train_losses = []\n",
        "  val_losses = []\n",
        "\n",
        "  model.train()\n",
        "  for i, batch in enumerate(dataloader_train):  \n",
        "    x, y = batch[0].to(device), batch[1].to(device) \n",
        "    optimizer.zero_grad()\n",
        "\n",
        "    out = model(x)\n",
        "    loss = ce_loss(out, y)\n",
        "    loss.backward()\n",
        "    train_losses.append(loss.item())\n",
        "    optimizer.step()\n",
        "    if i % 100 == 0 and verbose:\n",
        "      print(\"Training loss at step {}: {}\".format(i, loss.item()))\n",
        "\n",
        "  model.eval()\n",
        "  with torch.no_grad():\n",
        "    correct = 0\n",
        "    total = 0\n",
        "    for i, batch in enumerate(dataloader_val):  \n",
        "      x, y = batch[0].to(device), batch[1].to(device)  \n",
        "\n",
        "      out = model(x)\n",
        "      loss = ce_loss(out, y)\n",
        "      acc = torch.sum(torch.argmax(out, dim=-1) == y)\n",
        "      correct += acc.item()\n",
        "      total += len(batch[1])\n",
        "      val_losses.append(loss.item())\n",
        "\n",
        "  val_acc = correct / total\n",
        "\n",
        "  return np.mean(train_losses), np.mean(val_losses), val_acc"
      ],
      "execution_count": null,
      "outputs": []
    },
    {
      "cell_type": "code",
      "metadata": {
        "colab": {
          "base_uri": "https://localhost:8080/",
          "height": 1000
        },
        "id": "uSh28OxszX6o",
        "outputId": "0c5e1f4a-c799-4cac-ed0e-1a6de087637e"
      },
      "source": [
        "batch_size = 32\n",
        "\n",
        "dataloader_train = torch.utils.data.DataLoader(trainset, batch_size=batch_size, shuffle=True)\n",
        "dataloader_val = torch.utils.data.DataLoader(valset, batch_size=batch_size, shuffle=False)\n",
        "\n",
        "device = torch.device(\"cuda:0\" if torch.cuda.is_available() else \"cpu\")\n",
        "print(\"Using device: \", device)\n",
        "\n",
        "ce_loss = torch.nn.CrossEntropyLoss().to(device)\n",
        "\n",
        "model, model_inference = build_model()\n",
        "\n",
        "model.to(device)\n",
        "model_inference.to(device)\n",
        "\n",
        "optimizer = torch.optim.Adam(model.parameters(), lr=1e-3)\n",
        "\n",
        "epoch_train_losses = []\n",
        "epoch_val_losses = []\n",
        "epoch_val_accs = []\n",
        "\n",
        "for e in range(20):\n",
        "  train_loss, val_loss, val_acc = one_epoch(model, loss, optimizer, dataloader_train, dataloader_val)\n",
        "\n",
        "  print(\"Val loss at epoch {}: {}\".format(e, val_loss))\n",
        "  print(\"Val acc at epoch {}: {}\".format(e, val_acc))\n",
        "\n",
        "  epoch_train_losses.append(train_loss)\n",
        "  epoch_val_losses.append(val_loss)\n",
        "  epoch_val_accs.append(val_acc)\n",
        "  \n",
        "plt.plot(epoch_train_losses, c='r')\n",
        "plt.plot(epoch_val_losses, c='b')\n",
        "plt.show()"
      ],
      "execution_count": null,
      "outputs": [
        {
          "output_type": "stream",
          "name": "stdout",
          "text": [
            "Using device:  cuda:0\n",
            "Training loss at step 0: 2.3006389141082764\n",
            "Training loss at step 100: 2.105759382247925\n",
            "Training loss at step 200: 2.170393705368042\n",
            "Training loss at step 300: 1.7547180652618408\n",
            "Training loss at step 400: 1.8165494203567505\n",
            "Training loss at step 500: 1.5162479877471924\n",
            "Training loss at step 600: 1.7999006509780884\n",
            "Training loss at step 700: 1.7247014045715332\n",
            "Training loss at step 800: 1.5285903215408325\n",
            "Training loss at step 900: 1.5547125339508057\n",
            "Training loss at step 1000: 1.673585057258606\n",
            "Training loss at step 1100: 1.4037493467330933\n",
            "Training loss at step 1200: 1.8075687885284424\n",
            "Training loss at step 1300: 1.2890002727508545\n",
            "Training loss at step 1400: 1.1505088806152344\n",
            "Val loss at epoch 0: 1.3998719051385382\n",
            "Val acc at epoch 0: 0.4938\n",
            "Training loss at step 0: 1.2495524883270264\n",
            "Training loss at step 100: 1.3292871713638306\n",
            "Training loss at step 200: 1.29820716381073\n",
            "Training loss at step 300: 1.4730982780456543\n",
            "Training loss at step 400: 1.206950068473816\n",
            "Training loss at step 500: 1.1522570848464966\n",
            "Training loss at step 600: 1.1259924173355103\n",
            "Training loss at step 700: 1.2068562507629395\n",
            "Training loss at step 800: 1.4172974824905396\n",
            "Training loss at step 900: 1.4266014099121094\n",
            "Training loss at step 1000: 1.3554176092147827\n",
            "Training loss at step 1100: 1.197715163230896\n",
            "Training loss at step 1200: 1.0365500450134277\n",
            "Training loss at step 1300: 0.9616137742996216\n",
            "Training loss at step 1400: 1.3989161252975464\n",
            "Val loss at epoch 1: 1.1963880198776342\n",
            "Val acc at epoch 1: 0.5718\n",
            "Training loss at step 0: 0.9019559621810913\n",
            "Training loss at step 100: 1.1766756772994995\n",
            "Training loss at step 200: 1.2050868272781372\n",
            "Training loss at step 300: 1.4217969179153442\n",
            "Training loss at step 400: 1.1015896797180176\n",
            "Training loss at step 500: 1.0643516778945923\n",
            "Training loss at step 600: 1.23777437210083\n",
            "Training loss at step 700: 1.1329431533813477\n",
            "Training loss at step 800: 1.062678337097168\n",
            "Training loss at step 900: 1.3659348487854004\n",
            "Training loss at step 1000: 0.9624546766281128\n",
            "Training loss at step 1100: 0.8310590386390686\n",
            "Training loss at step 1200: 1.1267192363739014\n",
            "Training loss at step 1300: 1.1977484226226807\n",
            "Training loss at step 1400: 1.0993287563323975\n",
            "Val loss at epoch 2: 1.0777606607242753\n",
            "Val acc at epoch 2: 0.619\n",
            "Training loss at step 0: 0.9668244123458862\n",
            "Training loss at step 100: 0.7782132029533386\n",
            "Training loss at step 200: 1.0699394941329956\n",
            "Training loss at step 300: 1.0955559015274048\n",
            "Training loss at step 400: 0.9246267676353455\n",
            "Training loss at step 500: 1.179614782333374\n",
            "Training loss at step 600: 0.7757388949394226\n",
            "Training loss at step 700: 0.9042211174964905\n",
            "Training loss at step 800: 0.9229165315628052\n",
            "Training loss at step 900: 0.9815862774848938\n",
            "Training loss at step 1000: 1.224186658859253\n",
            "Training loss at step 1100: 0.8644192218780518\n",
            "Training loss at step 1200: 1.1298052072525024\n",
            "Training loss at step 1300: 1.2624125480651855\n",
            "Training loss at step 1400: 0.7048331499099731\n",
            "Val loss at epoch 3: 1.0572314805285945\n",
            "Val acc at epoch 3: 0.626\n",
            "Training loss at step 0: 0.8403180837631226\n",
            "Training loss at step 100: 1.210178256034851\n",
            "Training loss at step 200: 1.0364712476730347\n",
            "Training loss at step 300: 0.6696254014968872\n",
            "Training loss at step 400: 0.6247774958610535\n",
            "Training loss at step 500: 1.3703782558441162\n",
            "Training loss at step 600: 1.0883479118347168\n",
            "Training loss at step 700: 1.2042394876480103\n",
            "Training loss at step 800: 1.2576848268508911\n",
            "Training loss at step 900: 1.0873830318450928\n",
            "Training loss at step 1000: 0.7530876994132996\n",
            "Training loss at step 1100: 0.7416685223579407\n",
            "Training loss at step 1200: 1.071729063987732\n",
            "Training loss at step 1300: 0.6570888161659241\n",
            "Training loss at step 1400: 0.7339634299278259\n",
            "Val loss at epoch 4: 0.9531213755060912\n",
            "Val acc at epoch 4: 0.664\n",
            "Training loss at step 0: 0.8786735534667969\n",
            "Training loss at step 100: 0.9132170677185059\n",
            "Training loss at step 200: 1.001607060432434\n",
            "Training loss at step 300: 0.8382970094680786\n",
            "Training loss at step 400: 0.7591244578361511\n",
            "Training loss at step 500: 0.9676368236541748\n",
            "Training loss at step 600: 0.6515306830406189\n",
            "Training loss at step 700: 0.7658907175064087\n",
            "Training loss at step 800: 0.7297707200050354\n",
            "Training loss at step 900: 0.8941720128059387\n",
            "Training loss at step 1000: 0.7724215388298035\n",
            "Training loss at step 1100: 0.7394725680351257\n",
            "Training loss at step 1200: 0.8025935888290405\n",
            "Training loss at step 1300: 1.178425908088684\n",
            "Training loss at step 1400: 1.148965835571289\n",
            "Val loss at epoch 5: 1.0018683932009775\n",
            "Val acc at epoch 5: 0.6502\n",
            "Training loss at step 0: 0.9893238544464111\n",
            "Training loss at step 100: 0.4760679006576538\n",
            "Training loss at step 200: 0.514631450176239\n",
            "Training loss at step 300: 1.3430126905441284\n",
            "Training loss at step 400: 0.8865886330604553\n",
            "Training loss at step 500: 0.7522172927856445\n",
            "Training loss at step 600: 0.6838456392288208\n",
            "Training loss at step 700: 0.8501618504524231\n",
            "Training loss at step 800: 0.5899013876914978\n",
            "Training loss at step 900: 0.843191921710968\n",
            "Training loss at step 1000: 1.1277366876602173\n",
            "Training loss at step 1100: 0.9615979194641113\n",
            "Training loss at step 1200: 0.8222580552101135\n",
            "Training loss at step 1300: 0.6270233988761902\n",
            "Training loss at step 1400: 1.2647088766098022\n",
            "Val loss at epoch 6: 0.918078956140834\n",
            "Val acc at epoch 6: 0.6812\n",
            "Training loss at step 0: 0.5440946221351624\n",
            "Training loss at step 100: 0.6650381684303284\n",
            "Training loss at step 200: 1.050573468208313\n",
            "Training loss at step 300: 0.6424856781959534\n",
            "Training loss at step 400: 0.6992437243461609\n",
            "Training loss at step 500: 0.8343402743339539\n",
            "Training loss at step 600: 0.7115933299064636\n",
            "Training loss at step 700: 0.5799799561500549\n",
            "Training loss at step 800: 0.7708761692047119\n",
            "Training loss at step 900: 0.49799609184265137\n",
            "Training loss at step 1000: 0.5608521699905396\n",
            "Training loss at step 1100: 0.7258607745170593\n",
            "Training loss at step 1200: 0.8760839104652405\n",
            "Training loss at step 1300: 0.45025601983070374\n",
            "Training loss at step 1400: 0.7897619605064392\n",
            "Val loss at epoch 7: 0.9325130843812492\n",
            "Val acc at epoch 7: 0.6858\n",
            "Training loss at step 0: 0.4284977316856384\n",
            "Training loss at step 100: 0.9474688768386841\n",
            "Training loss at step 200: 0.6683977842330933\n",
            "Training loss at step 300: 0.5136981010437012\n",
            "Training loss at step 400: 0.582310140132904\n",
            "Training loss at step 500: 0.9442064762115479\n",
            "Training loss at step 600: 0.6816534996032715\n",
            "Training loss at step 700: 0.46090802550315857\n",
            "Training loss at step 800: 0.6300227642059326\n",
            "Training loss at step 900: 0.7650380730628967\n",
            "Training loss at step 1000: 0.9169600605964661\n",
            "Training loss at step 1100: 0.4678105413913727\n",
            "Training loss at step 1200: 0.5660802125930786\n",
            "Training loss at step 1300: 0.7874645590782166\n",
            "Training loss at step 1400: 1.2425622940063477\n",
            "Val loss at epoch 8: 0.9033869721327618\n",
            "Val acc at epoch 8: 0.6866\n",
            "Training loss at step 0: 0.6152975559234619\n",
            "Training loss at step 100: 0.5044587254524231\n",
            "Training loss at step 200: 0.8949612975120544\n",
            "Training loss at step 300: 0.6890596151351929\n",
            "Training loss at step 400: 0.7196635007858276\n",
            "Training loss at step 500: 0.5807991623878479\n",
            "Training loss at step 600: 0.48897936940193176\n",
            "Training loss at step 700: 0.6562917232513428\n",
            "Training loss at step 800: 0.41633909940719604\n",
            "Training loss at step 900: 0.5777498483657837\n",
            "Training loss at step 1000: 0.6242300271987915\n",
            "Training loss at step 1100: 0.7065354585647583\n",
            "Training loss at step 1200: 0.5132410526275635\n",
            "Training loss at step 1300: 0.902349591255188\n",
            "Training loss at step 1400: 0.5012657046318054\n",
            "Val loss at epoch 9: 0.8842180242204363\n",
            "Val acc at epoch 9: 0.705\n",
            "Training loss at step 0: 0.6447383165359497\n",
            "Training loss at step 100: 0.4929768443107605\n",
            "Training loss at step 200: 0.835847795009613\n",
            "Training loss at step 300: 0.6145519018173218\n",
            "Training loss at step 400: 0.455465167760849\n",
            "Training loss at step 500: 0.6673269867897034\n",
            "Training loss at step 600: 0.38216373324394226\n",
            "Training loss at step 700: 0.5602383017539978\n",
            "Training loss at step 800: 0.3017045557498932\n",
            "Training loss at step 900: 0.3902725577354431\n",
            "Training loss at step 1000: 0.5495665073394775\n",
            "Training loss at step 1100: 0.5497129559516907\n",
            "Training loss at step 1200: 0.43847987055778503\n",
            "Training loss at step 1300: 0.446969211101532\n",
            "Training loss at step 1400: 0.5216149091720581\n",
            "Val loss at epoch 10: 0.9528318884646058\n",
            "Val acc at epoch 10: 0.693\n",
            "Training loss at step 0: 0.5924777984619141\n",
            "Training loss at step 100: 0.4492506682872772\n",
            "Training loss at step 200: 0.30737900733947754\n",
            "Training loss at step 300: 0.48138427734375\n",
            "Training loss at step 400: 0.3673151731491089\n",
            "Training loss at step 500: 0.43648654222488403\n",
            "Training loss at step 600: 0.6820666193962097\n",
            "Training loss at step 700: 0.5486555695533752\n",
            "Training loss at step 800: 0.38086703419685364\n",
            "Training loss at step 900: 0.4036423861980438\n",
            "Training loss at step 1000: 0.45494356751441956\n",
            "Training loss at step 1100: 0.619724452495575\n",
            "Training loss at step 1200: 0.38768288493156433\n",
            "Training loss at step 1300: 0.5741994380950928\n",
            "Training loss at step 1400: 0.6804859042167664\n",
            "Val loss at epoch 11: 0.9332332952766661\n",
            "Val acc at epoch 11: 0.6996\n",
            "Training loss at step 0: 0.6682595610618591\n",
            "Training loss at step 100: 0.39085301756858826\n",
            "Training loss at step 200: 0.41179969906806946\n",
            "Training loss at step 300: 0.2928139269351959\n",
            "Training loss at step 400: 0.5189120173454285\n",
            "Training loss at step 500: 0.4613228142261505\n",
            "Training loss at step 600: 0.45673006772994995\n",
            "Training loss at step 700: 0.5567023158073425\n",
            "Training loss at step 800: 0.8061563968658447\n",
            "Training loss at step 900: 0.8593130707740784\n",
            "Training loss at step 1000: 0.4477001130580902\n",
            "Training loss at step 1100: 0.4224091172218323\n",
            "Training loss at step 1200: 0.6190996766090393\n",
            "Training loss at step 1300: 0.4608067274093628\n",
            "Training loss at step 1400: 0.4207864999771118\n",
            "Val loss at epoch 12: 0.9630259913244065\n",
            "Val acc at epoch 12: 0.6952\n",
            "Training loss at step 0: 0.5095004439353943\n",
            "Training loss at step 100: 0.4193575084209442\n",
            "Training loss at step 200: 0.5136683583259583\n",
            "Training loss at step 300: 0.6780774593353271\n",
            "Training loss at step 400: 0.45097169280052185\n",
            "Training loss at step 500: 0.46630528569221497\n",
            "Training loss at step 600: 0.34311938285827637\n",
            "Training loss at step 700: 0.5282968878746033\n",
            "Training loss at step 800: 0.6522722840309143\n",
            "Training loss at step 900: 0.7909606695175171\n",
            "Training loss at step 1000: 0.4064832031726837\n",
            "Training loss at step 1100: 0.2981334328651428\n",
            "Training loss at step 1200: 0.6211304664611816\n",
            "Training loss at step 1300: 0.4566597640514374\n",
            "Training loss at step 1400: 0.5105707049369812\n",
            "Val loss at epoch 13: 0.9476368057120378\n",
            "Val acc at epoch 13: 0.7032\n",
            "Training loss at step 0: 0.6036220192909241\n",
            "Training loss at step 100: 0.2909443974494934\n",
            "Training loss at step 200: 0.4378393590450287\n",
            "Training loss at step 300: 0.482657253742218\n",
            "Training loss at step 400: 0.3040873408317566\n",
            "Training loss at step 500: 0.3080624043941498\n",
            "Training loss at step 600: 0.4486671984195709\n",
            "Training loss at step 700: 0.1507224291563034\n",
            "Training loss at step 800: 0.3002116084098816\n",
            "Training loss at step 900: 0.6298922896385193\n",
            "Training loss at step 1000: 0.5410885810852051\n",
            "Training loss at step 1100: 0.6132305860519409\n",
            "Training loss at step 1200: 0.33987683057785034\n",
            "Training loss at step 1300: 0.772219181060791\n",
            "Training loss at step 1400: 0.3121059536933899\n",
            "Val loss at epoch 14: 0.9974128751997735\n",
            "Val acc at epoch 14: 0.7044\n",
            "Training loss at step 0: 0.4357839524745941\n",
            "Training loss at step 100: 0.49685972929000854\n",
            "Training loss at step 200: 0.3516685366630554\n",
            "Training loss at step 300: 0.13480974733829498\n",
            "Training loss at step 400: 0.5543441772460938\n",
            "Training loss at step 500: 0.30215930938720703\n",
            "Training loss at step 600: 0.42185381054878235\n",
            "Training loss at step 700: 0.3883896768093109\n",
            "Training loss at step 800: 0.671085000038147\n",
            "Training loss at step 900: 0.416202574968338\n",
            "Training loss at step 1000: 0.35576915740966797\n",
            "Training loss at step 1100: 0.38311049342155457\n",
            "Training loss at step 1200: 0.33054786920547485\n",
            "Training loss at step 1300: 0.5179619789123535\n",
            "Training loss at step 1400: 0.5772665739059448\n",
            "Val loss at epoch 15: 1.0176317636754102\n",
            "Val acc at epoch 15: 0.6972\n",
            "Training loss at step 0: 0.35715973377227783\n",
            "Training loss at step 100: 0.09336863458156586\n",
            "Training loss at step 200: 0.41390931606292725\n",
            "Training loss at step 300: 0.48842307925224304\n",
            "Training loss at step 400: 0.5161888003349304\n",
            "Training loss at step 500: 0.39688771963119507\n",
            "Training loss at step 600: 0.3149395287036896\n",
            "Training loss at step 700: 0.3882811665534973\n",
            "Training loss at step 800: 0.34790098667144775\n",
            "Training loss at step 900: 0.28873708844184875\n",
            "Training loss at step 1000: 0.19284439086914062\n",
            "Training loss at step 1100: 0.35058361291885376\n",
            "Training loss at step 1200: 0.36807361245155334\n",
            "Training loss at step 1300: 0.3701138198375702\n",
            "Training loss at step 1400: 0.5339393615722656\n",
            "Val loss at epoch 16: 1.0928176967961014\n",
            "Val acc at epoch 16: 0.6828\n",
            "Training loss at step 0: 0.5344700813293457\n",
            "Training loss at step 100: 0.16031065583229065\n",
            "Training loss at step 200: 0.3593684732913971\n",
            "Training loss at step 300: 0.4189687967300415\n",
            "Training loss at step 400: 0.5494368672370911\n",
            "Training loss at step 500: 0.4714594781398773\n",
            "Training loss at step 600: 0.4562394917011261\n",
            "Training loss at step 700: 0.23445411026477814\n",
            "Training loss at step 800: 0.3002264201641083\n",
            "Training loss at step 900: 0.43901166319847107\n",
            "Training loss at step 1000: 0.31837624311447144\n",
            "Training loss at step 1100: 0.3777327239513397\n",
            "Training loss at step 1200: 0.4333209991455078\n",
            "Training loss at step 1300: 0.3296118974685669\n",
            "Training loss at step 1400: 0.3106321394443512\n",
            "Val loss at epoch 17: 1.183223308461487\n",
            "Val acc at epoch 17: 0.679\n",
            "Training loss at step 0: 0.4641399085521698\n",
            "Training loss at step 100: 0.44228246808052063\n",
            "Training loss at step 200: 0.46164581179618835\n",
            "Training loss at step 300: 0.1947270631790161\n",
            "Training loss at step 400: 0.4457978904247284\n",
            "Training loss at step 500: 0.46291011571884155\n",
            "Training loss at step 600: 0.6151630282402039\n",
            "Training loss at step 700: 0.2677849531173706\n",
            "Training loss at step 800: 0.5014089941978455\n",
            "Training loss at step 900: 0.17100684344768524\n",
            "Training loss at step 1000: 0.43218427896499634\n",
            "Training loss at step 1100: 0.5784170031547546\n",
            "Training loss at step 1200: 0.4559745490550995\n",
            "Training loss at step 1300: 0.7618265151977539\n",
            "Training loss at step 1400: 0.26906201243400574\n",
            "Val loss at epoch 18: 1.1700111040074355\n",
            "Val acc at epoch 18: 0.6924\n",
            "Training loss at step 0: 0.15181319415569305\n",
            "Training loss at step 100: 0.23932500183582306\n",
            "Training loss at step 200: 0.4714214503765106\n",
            "Training loss at step 300: 0.29119452834129333\n",
            "Training loss at step 400: 0.23278899490833282\n",
            "Training loss at step 500: 0.43658021092414856\n",
            "Training loss at step 600: 0.711752712726593\n",
            "Training loss at step 700: 0.3458643853664398\n",
            "Training loss at step 800: 0.33674049377441406\n",
            "Training loss at step 900: 0.201475590467453\n",
            "Training loss at step 1000: 0.20394843816757202\n",
            "Training loss at step 1100: 0.28441375494003296\n",
            "Training loss at step 1200: 0.4748917520046234\n",
            "Training loss at step 1300: 0.2949792742729187\n",
            "Training loss at step 1400: 0.4290067255496979\n",
            "Val loss at epoch 19: 1.2030884554241872\n",
            "Val acc at epoch 19: 0.698\n"
          ]
        },
        {
          "output_type": "display_data",
          "data": {
            "image/png": "[encoded data removed]",
            "text/plain": [
              "<Figure size 432x288 with 1 Axes>"
            ]
          },
          "metadata": {
            "needs_background": "light"
          }
        }
      ]
    },
    {
      "cell_type": "markdown",
      "metadata": {
        "id": "YgS3l2He64B5"
      },
      "source": [
        "## Dropout\n",
        "\n",
        "Minule sme si ukazovali L1 a L2 regularizáciu. Dnes si ukážeme metódu Dropout. Tá spočíva v tom, že niektoré prepojenia (s pravedepodobnosťou $p$) sieť nastaví na nulu. To zabráni koadaptácii príznakov. Teda ak náhodou dva príznaky reprezentujú do isté, tak by sa nemali šancu naučiť každý niečo iné, lebo vždy budú ich gradienty a teda aj zmena po každom kroku rovnaká (aspoň približne). Ak však pridáme dropout majú tieto príznaky možnosť sa odlúčiť od seba, čo je pozitívne. Iný pohľad na vec je taký, že vlastne trénujeme viacero modelov naraz (tj. toľko modelov koľko existuje kombinácii kde sa niektore váhy ignorujú) a na konci ich spojíme a spriemerujeme ich výsledok."
      ]
    },
    {
      "cell_type": "markdown",
      "metadata": {
        "id": "Pu_VCy2567Ii"
      },
      "source": [
        "## BatchNormalization\n",
        "\n",
        "Normalizácia dávok rieši problém vnútorného kovariančného posunu (internal covarience shift) v rámci siete. Ten spôsobuje že príznaky nemajú vhodnú distribúciu v rámci siete. To je dôležité najmä pre hlbšie siete.\n",
        "\n",
        "BatchNorm funguje tak, že pre každý minibatch sa vypočíta stredná hodnota a štandardná odchylka príznakov na danej vrstve. Príznaky sa potom normalizujú odčítanim priemeru a podelením štd. odchylkou:\n",
        "\n",
        "$$\\hat{x} = \\frac{x - \\bar{x}}{\\sqrt{\\sigma^2(x) + \\epsilon}}.$$\n",
        "\n",
        "Keďže však normálna distribúcia nieje vždy žiadúca má táto vrstva ešte dva trénovateľné parametre $\\gamma$ a $\\beta$:\n",
        "\n",
        "$$y = \\gamma \\hat{x} + \\beta.$$\n",
        "\n",
        "To umožní naučiť sa iný tvar distribúcie, ktorý je pre sieť vhodnejší.\n",
        "\n",
        "Pri inferencii nedostávame dávku, resp. ju nedostávame náhodne. Preto si vrstva po trénovaní pamätá priemer a štd. odchylku.\n",
        "\n",
        "BatchNorm sa bežne aplikuje pred activačnou funkciou. Doteraz sme ju mali určenú v inej vrstve teraz ju spravíme samostatne.\n",
        "\n"
      ]
    },
    {
      "cell_type": "markdown",
      "metadata": {
        "id": "Fs_t84F57Ysq"
      },
      "source": [
        "Naimplementujeme si teda build model funkciu, ktorá dokáže model načítať ak zadáme cestu k uloženému checkpointu a zároveň vie pridať dropout a batchnorm"
      ]
    },
    {
      "cell_type": "code",
      "metadata": {
        "colab": {
          "base_uri": "https://localhost:8080/"
        },
        "id": "7kCAgMlR682O",
        "outputId": "5c3564a2-2aec-4277-cd2b-02ac3cd591a8"
      },
      "source": [
        "from torch.nn import Sequential, Linear, ReLU, Softmax, Conv2d, MaxPool2d, Flatten, BatchNorm2d, BatchNorm1d, Dropout\n",
        "\n",
        "def build_model(path=None, dropout_p=0.5, bn=True):\n",
        "  # Na vstupe budu tri kanaly lebo mame RGB vstup\n",
        "\n",
        "  modules = []\n",
        "  modules.append(Conv2d(3, 32, 3))\n",
        "  if bn:\n",
        "    modules.append(BatchNorm2d(32))\n",
        "  modules.append(MaxPool2d(2))\n",
        "  modules.append(ReLU())\n",
        "\n",
        "  modules.append(Conv2d(32, 64, 3))\n",
        "  if bn:\n",
        "    modules.append(BatchNorm2d(64))\n",
        "  modules.append(MaxPool2d(2))\n",
        "  modules.append(ReLU())\n",
        "\n",
        "  modules.append(Conv2d(64, 128, 3))\n",
        "  if bn:\n",
        "    modules.append(BatchNorm2d(128))\n",
        "  modules.append(MaxPool2d(2))\n",
        "  modules.append(ReLU())\n",
        "\n",
        "  modules.append(Flatten())\n",
        "\n",
        "  modules.append(Linear(512, 256))\n",
        "  if bn:\n",
        "    modules.append(BatchNorm1d(256))\n",
        "  modules.append(ReLU())\n",
        "  if dropout_p > 0.0:\n",
        "    modules.append(Dropout(dropout_p))\n",
        "\n",
        "  modules.append(Linear(256, 128))\n",
        "  if bn:\n",
        "    modules.append(BatchNorm1d(128))\n",
        "  modules.append(ReLU())\n",
        "  if dropout_p > 0.0:\n",
        "    modules.append(Dropout(dropout_p))\n",
        "\n",
        "  modules.append(Linear(128, 10))\n",
        "  \n",
        "  model = Sequential(*modules)\n",
        "\n",
        "  if path is not None:\n",
        "    model.load_state_dict(torch.load(path))\n",
        "\n",
        "  model_inference = Sequential(model, Softmax())\n",
        "  return model, model_inference\n",
        "\n",
        "\n",
        "# overime ze model funguje - ak by sme napriklad za flatten dali zle cislo nefungovalo by to\n",
        "model, model_inference = build_model()\n",
        "\n",
        "model_inference(torch.from_numpy(np.zeros([16, 3, 32, 32], dtype=np.float32)))"
      ],
      "execution_count": null,
      "outputs": [
        {
          "output_type": "stream",
          "name": "stderr",
          "text": [
            "/usr/local/lib/python3.7/dist-packages/torch/nn/modules/container.py:139: UserWarning: Implicit dimension choice for softmax has been deprecated. Change the call to include dim=X as an argument.\n",
            "  input = module(input)\n"
          ]
        },
        {
          "output_type": "execute_result",
          "data": {
            "text/plain": [
              "tensor([[0.0983, 0.1054, 0.1011, 0.0961, 0.0966, 0.1040, 0.1024, 0.0915, 0.1008,\n",
              "         0.1038],\n",
              "        [0.0983, 0.1055, 0.1011, 0.0961, 0.0966, 0.1040, 0.1024, 0.0915, 0.1008,\n",
              "         0.1038],\n",
              "        [0.0983, 0.1055, 0.1011, 0.0961, 0.0966, 0.1040, 0.1024, 0.0915, 0.1008,\n",
              "         0.1038],\n",
              "        [0.0983, 0.1055, 0.1011, 0.0961, 0.0966, 0.1040, 0.1024, 0.0915, 0.1008,\n",
              "         0.1038],\n",
              "        [0.0983, 0.1055, 0.1011, 0.0961, 0.0966, 0.1040, 0.1024, 0.0915, 0.1009,\n",
              "         0.1038],\n",
              "        [0.0983, 0.1055, 0.1011, 0.0961, 0.0966, 0.1040, 0.1024, 0.0915, 0.1008,\n",
              "         0.1038],\n",
              "        [0.0983, 0.1055, 0.1011, 0.0961, 0.0966, 0.1040, 0.1024, 0.0915, 0.1009,\n",
              "         0.1038],\n",
              "        [0.0983, 0.1055, 0.1011, 0.0961, 0.0966, 0.1039, 0.1024, 0.0915, 0.1008,\n",
              "         0.1038],\n",
              "        [0.0983, 0.1055, 0.1011, 0.0961, 0.0966, 0.1039, 0.1024, 0.0915, 0.1008,\n",
              "         0.1038],\n",
              "        [0.0983, 0.1055, 0.1011, 0.0961, 0.0966, 0.1040, 0.1024, 0.0915, 0.1009,\n",
              "         0.1038],\n",
              "        [0.0983, 0.1055, 0.1011, 0.0961, 0.0966, 0.1040, 0.1024, 0.0915, 0.1008,\n",
              "         0.1038],\n",
              "        [0.0983, 0.1055, 0.1011, 0.0961, 0.0966, 0.1040, 0.1024, 0.0915, 0.1009,\n",
              "         0.1038],\n",
              "        [0.0983, 0.1055, 0.1011, 0.0961, 0.0966, 0.1039, 0.1024, 0.0915, 0.1008,\n",
              "         0.1038],\n",
              "        [0.0983, 0.1055, 0.1011, 0.0961, 0.0966, 0.1040, 0.1024, 0.0915, 0.1008,\n",
              "         0.1038],\n",
              "        [0.0983, 0.1055, 0.1011, 0.0961, 0.0966, 0.1040, 0.1024, 0.0915, 0.1009,\n",
              "         0.1038],\n",
              "        [0.0983, 0.1055, 0.1011, 0.0961, 0.0966, 0.1040, 0.1024, 0.0915, 0.1008,\n",
              "         0.1038]], grad_fn=<SoftmaxBackward>)"
            ]
          },
          "metadata": {},
          "execution_count": 8
        }
      ]
    },
    {
      "cell_type": "markdown",
      "metadata": {
        "id": "GpIRtc3itkrg"
      },
      "source": [
        "## Augmentácia dát\n",
        "Na vylepšenie modelu by bolo dobré mať viac dát. Tie však len tak zohnať nevieme. Preto si pomôžeme augmentáciou. Tá spočíva v aplikácii transformácií, ktoré nemenia sémantický obsah obrazu. Augmentácia sa dá poňať aj tak, že chceme aby naša sieť bola invariantná voči týmto transformáciám.\n",
        "\n",
        "Prakticky využijeme augmentáciu tak, že modifujeme parameter transforms pri načítaní datasetu."
      ]
    },
    {
      "cell_type": "code",
      "metadata": {
        "colab": {
          "base_uri": "https://localhost:8080/",
          "height": 1000
        },
        "id": "OdVmmrcw7qs8",
        "outputId": "d774252d-6a66-445e-c60c-92c1fb1b6e9e"
      },
      "source": [
        "dataset = torchvision.datasets.CIFAR10(root='./data', train=True, download=True, transform=transform)\n",
        "\n",
        "\n",
        "trainset, valset = torch.utils.data.random_split(dataset, [45000, 5000], generator=torch.Generator().manual_seed(42))\n",
        "\n",
        "dataloader_preview_aug = torch.utils.data.DataLoader(trainset, batch_size=1, shuffle=False)\n",
        "\n",
        "for i, sample in enumerate(dataloader_preview_aug):\n",
        "  if i > 10:\n",
        "    break\n",
        "  x, y = sample\n",
        "  print(x.shape)\n",
        "  img = np.moveaxis(x.numpy()[0], 0, -1)\n",
        "  plt.imshow(img)\n",
        "  plt.show()\n",
        "  print(y)\n",
        "  print(classes[y.item()])\n",
        "\n",
        "\n",
        "aug_transforms = transforms.Compose([transforms.RandomHorizontalFlip(),\n",
        "                                     transforms.RandomRotation(20),\n",
        "                                     transforms.RandomResizedCrop(size=(32, 32)),\n",
        "                                     transforms.ToTensor()])\n",
        "\n",
        "dataset_aug = torchvision.datasets.CIFAR10(root='./data', train=True, download=True, transform=aug_transforms)\n",
        "\n",
        "# tu musime dat rovnaky seed aby sme mali val a train disjunktne\n",
        "trainset_aug, _ = torch.utils.data.random_split(dataset_aug, [45000, 5000], generator=torch.Generator().manual_seed(42))\n",
        "dataloader_preview_aug = torch.utils.data.DataLoader(trainset_aug, batch_size=1, shuffle=False)\n",
        "\n",
        "for i, sample in enumerate(dataloader_preview_aug):\n",
        "  if i > 10:\n",
        "    break\n",
        "  x, y = sample\n",
        "  print(x.shape)\n",
        "  img = np.moveaxis(x.numpy()[0], 0, -1)\n",
        "  plt.imshow(img)\n",
        "  plt.show()\n",
        "  print(y)\n",
        "  print(classes[y.item()])"
      ],
      "execution_count": null,
      "outputs": [
        {
          "output_type": "stream",
          "name": "stdout",
          "text": [
            "Files already downloaded and verified\n",
            "torch.Size([1, 3, 32, 32])\n"
          ]
        },
        {
          "output_type": "display_data",
          "data": {
            "image/png": "[encoded data removed]",
            "text/plain": [
              "<Figure size 432x288 with 1 Axes>"
            ]
          },
          "metadata": {
            "needs_background": "light"
          }
        },
        {
          "output_type": "stream",
          "name": "stdout",
          "text": [
            "tensor([6])\n",
            "frog\n",
            "torch.Size([1, 3, 32, 32])\n"
          ]
        },
        {
          "output_type": "display_data",
          "data": {
            "image/png": "[encoded data removed]",
            "text/plain": [
              "<Figure size 432x288 with 1 Axes>"
            ]
          },
          "metadata": {
            "needs_background": "light"
          }
        },
        {
          "output_type": "stream",
          "name": "stdout",
          "text": [
            "tensor([2])\n",
            "bird\n",
            "torch.Size([1, 3, 32, 32])\n"
          ]
        },
        {
          "output_type": "display_data",
          "data": {
            "image/png": "[encoded data removed]",
            "text/plain": [
              "<Figure size 432x288 with 1 Axes>"
            ]
          },
          "metadata": {
            "needs_background": "light"
          }
        },
        {
          "output_type": "stream",
          "name": "stdout",
          "text": [
            "tensor([8])\n",
            "ship\n",
            "torch.Size([1, 3, 32, 32])\n"
          ]
        },
        {
          "output_type": "display_data",
          "data": {
            "image/png": "[encoded data removed]",
            "text/plain": [
              "<Figure size 432x288 with 1 Axes>"
            ]
          },
          "metadata": {
            "needs_background": "light"
          }
        },
        {
          "output_type": "stream",
          "name": "stdout",
          "text": [
            "tensor([6])\n",
            "frog\n",
            "torch.Size([1, 3, 32, 32])\n"
          ]
        },
        {
          "output_type": "display_data",
          "data": {
            "image/png": "[encoded data removed]",
            "text/plain": [
              "<Figure size 432x288 with 1 Axes>"
            ]
          },
          "metadata": {
            "needs_background": "light"
          }
        },
        {
          "output_type": "stream",
          "name": "stdout",
          "text": [
            "tensor([6])\n",
            "frog\n",
            "torch.Size([1, 3, 32, 32])\n"
          ]
        },
        {
          "output_type": "display_data",
          "data": {
            "image/png": "[encoded data removed]",
            "text/plain": [
              "<Figure size 432x288 with 1 Axes>"
            ]
          },
          "metadata": {
            "needs_background": "light"
          }
        },
        {
          "output_type": "stream",
          "name": "stdout",
          "text": [
            "tensor([9])\n",
            "truck\n",
            "torch.Size([1, 3, 32, 32])\n"
          ]
        },
        {
          "output_type": "display_data",
          "data": {
            "image/png": "[encoded data removed]",
            "text/plain": [
              "<Figure size 432x288 with 1 Axes>"
            ]
          },
          "metadata": {
            "needs_background": "light"
          }
        },
        {
          "output_type": "stream",
          "name": "stdout",
          "text": [
            "tensor([4])\n",
            "deer\n",
            "torch.Size([1, 3, 32, 32])\n"
          ]
        },
        {
          "output_type": "display_data",
          "data": {
            "image/png": "[encoded data removed]",
            "text/plain": [
              "<Figure size 432x288 with 1 Axes>"
            ]
          },
          "metadata": {
            "needs_background": "light"
          }
        },
        {
          "output_type": "stream",
          "name": "stdout",
          "text": [
            "tensor([5])\n",
            "dog\n",
            "torch.Size([1, 3, 32, 32])\n"
          ]
        },
        {
          "output_type": "display_data",
          "data": {
            "image/png": "[encoded data removed]",
            "text/plain": [
              "<Figure size 432x288 with 1 Axes>"
            ]
          },
          "metadata": {
            "needs_background": "light"
          }
        },
        {
          "output_type": "stream",
          "name": "stdout",
          "text": [
            "tensor([4])\n",
            "deer\n",
            "torch.Size([1, 3, 32, 32])\n"
          ]
        },
        {
          "output_type": "display_data",
          "data": {
            "image/png": "[encoded data removed]",
            "text/plain": [
              "<Figure size 432x288 with 1 Axes>"
            ]
          },
          "metadata": {
            "needs_background": "light"
          }
        },
        {
          "output_type": "stream",
          "name": "stdout",
          "text": [
            "tensor([4])\n",
            "deer\n",
            "torch.Size([1, 3, 32, 32])\n"
          ]
        },
        {
          "output_type": "display_data",
          "data": {
            "image/png": "[encoded data removed]",
            "text/plain": [
              "<Figure size 432x288 with 1 Axes>"
            ]
          },
          "metadata": {
            "needs_background": "light"
          }
        },
        {
          "output_type": "stream",
          "name": "stdout",
          "text": [
            "tensor([5])\n",
            "dog\n",
            "Files already downloaded and verified\n",
            "torch.Size([1, 3, 32, 32])\n"
          ]
        },
        {
          "output_type": "display_data",
          "data": {
            "image/png": "[encoded data removed]",
            "text/plain": [
              "<Figure size 432x288 with 1 Axes>"
            ]
          },
          "metadata": {
            "needs_background": "light"
          }
        },
        {
          "output_type": "stream",
          "name": "stdout",
          "text": [
            "tensor([6])\n",
            "frog\n",
            "torch.Size([1, 3, 32, 32])\n"
          ]
        },
        {
          "output_type": "display_data",
          "data": {
            "image/png": "[encoded data removed]",
            "text/plain": [
              "<Figure size 432x288 with 1 Axes>"
            ]
          },
          "metadata": {
            "needs_background": "light"
          }
        },
        {
          "output_type": "stream",
          "name": "stdout",
          "text": [
            "tensor([2])\n",
            "bird\n",
            "torch.Size([1, 3, 32, 32])\n"
          ]
        },
        {
          "output_type": "display_data",
          "data": {
            "image/png": "[encoded data removed]",
            "text/plain": [
              "<Figure size 432x288 with 1 Axes>"
            ]
          },
          "metadata": {
            "needs_background": "light"
          }
        },
        {
          "output_type": "stream",
          "name": "stdout",
          "text": [
            "tensor([8])\n",
            "ship\n",
            "torch.Size([1, 3, 32, 32])\n"
          ]
        },
        {
          "output_type": "display_data",
          "data": {
            "image/png": "[encoded data removed]",
            "text/plain": [
              "<Figure size 432x288 with 1 Axes>"
            ]
          },
          "metadata": {
            "needs_background": "light"
          }
        },
        {
          "output_type": "stream",
          "name": "stdout",
          "text": [
            "tensor([6])\n",
            "frog\n",
            "torch.Size([1, 3, 32, 32])\n"
          ]
        },
        {
          "output_type": "display_data",
          "data": {
            "image/png": "[encoded data removed]",
            "text/plain": [
              "<Figure size 432x288 with 1 Axes>"
            ]
          },
          "metadata": {
            "needs_background": "light"
          }
        },
        {
          "output_type": "stream",
          "name": "stdout",
          "text": [
            "tensor([6])\n",
            "frog\n",
            "torch.Size([1, 3, 32, 32])\n"
          ]
        },
        {
          "output_type": "display_data",
          "data": {
            "image/png": "[encoded data removed]",
            "text/plain": [
              "<Figure size 432x288 with 1 Axes>"
            ]
          },
          "metadata": {
            "needs_background": "light"
          }
        },
        {
          "output_type": "stream",
          "name": "stdout",
          "text": [
            "tensor([9])\n",
            "truck\n",
            "torch.Size([1, 3, 32, 32])\n"
          ]
        },
        {
          "output_type": "display_data",
          "data": {
            "image/png": "[encoded data removed]",
            "text/plain": [
              "<Figure size 432x288 with 1 Axes>"
            ]
          },
          "metadata": {
            "needs_background": "light"
          }
        },
        {
          "output_type": "stream",
          "name": "stdout",
          "text": [
            "tensor([4])\n",
            "deer\n",
            "torch.Size([1, 3, 32, 32])\n"
          ]
        },
        {
          "output_type": "display_data",
          "data": {
            "image/png": "[encoded data removed]",
            "text/plain": [
              "<Figure size 432x288 with 1 Axes>"
            ]
          },
          "metadata": {
            "needs_background": "light"
          }
        },
        {
          "output_type": "stream",
          "name": "stdout",
          "text": [
            "tensor([5])\n",
            "dog\n",
            "torch.Size([1, 3, 32, 32])\n"
          ]
        },
        {
          "output_type": "display_data",
          "data": {
            "image/png": "[encoded data removed]",
            "text/plain": [
              "<Figure size 432x288 with 1 Axes>"
            ]
          },
          "metadata": {
            "needs_background": "light"
          }
        },
        {
          "output_type": "stream",
          "name": "stdout",
          "text": [
            "tensor([4])\n",
            "deer\n",
            "torch.Size([1, 3, 32, 32])\n"
          ]
        },
        {
          "output_type": "display_data",
          "data": {
            "image/png": "[encoded data removed]",
            "text/plain": [
              "<Figure size 432x288 with 1 Axes>"
            ]
          },
          "metadata": {
            "needs_background": "light"
          }
        },
        {
          "output_type": "stream",
          "name": "stdout",
          "text": [
            "tensor([4])\n",
            "deer\n",
            "torch.Size([1, 3, 32, 32])\n"
          ]
        },
        {
          "output_type": "display_data",
          "data": {
            "image/png": "[encoded data removed]",
            "text/plain": [
              "<Figure size 432x288 with 1 Axes>"
            ]
          },
          "metadata": {
            "needs_background": "light"
          }
        },
        {
          "output_type": "stream",
          "name": "stdout",
          "text": [
            "tensor([5])\n",
            "dog\n"
          ]
        }
      ]
    },
    {
      "cell_type": "markdown",
      "metadata": {
        "id": "4C3G3u3h92dj"
      },
      "source": [
        "Keď to dáme dokopy mali by sme predísť overfittingu."
      ]
    },
    {
      "cell_type": "code",
      "metadata": {
        "colab": {
          "base_uri": "https://localhost:8080/",
          "height": 1000
        },
        "id": "qM5HmINt9-W9",
        "outputId": "fdd960b5-0b52-4657-9ac6-7d51c26eae50"
      },
      "source": [
        "batch_size = 32\n",
        "\n",
        "dataloader_train = torch.utils.data.DataLoader(trainset_aug, batch_size=batch_size, shuffle=True)\n",
        "dataloader_val = torch.utils.data.DataLoader(valset, batch_size=batch_size, shuffle=False)\n",
        "\n",
        "device = torch.device(\"cuda:0\" if torch.cuda.is_available() else \"cpu\")\n",
        "print(\"Using device: \", device)\n",
        "\n",
        "ce_loss = torch.nn.CrossEntropyLoss().to(device)\n",
        "\n",
        "model, model_inference = build_model(dropout_p=0.5, bn=True)\n",
        "\n",
        "model.to(device)\n",
        "model_inference.to(device)\n",
        "\n",
        "optimizer = torch.optim.Adam(model.parameters(), lr=1e-3)\n",
        "\n",
        "epoch_train_losses = []\n",
        "epoch_val_losses = []\n",
        "epoch_val_accs = []\n",
        "\n",
        "for e in range(30):\n",
        "  train_loss, val_loss, val_acc = one_epoch(model, loss, optimizer, dataloader_train, dataloader_val)\n",
        "\n",
        "  print(\"Val loss at epoch {}: {}\".format(e, val_loss))\n",
        "  print(\"Val acc at epoch {}: {}\".format(e, val_acc))\n",
        "\n",
        "  torch.save(model.state_dict(), \"{:03d}.pth\".format(e))\n",
        "  epoch_train_losses.append(train_loss)\n",
        "  epoch_val_losses.append(val_loss)\n",
        "  epoch_val_accs.append(val_acc)\n",
        "  \n",
        "plt.plot(epoch_train_losses, c='r')\n",
        "plt.plot(epoch_val_losses, c='b')\n",
        "plt.show()"
      ],
      "execution_count": null,
      "outputs": [
        {
          "output_type": "stream",
          "name": "stdout",
          "text": [
            "Using device:  cuda:0\n",
            "Training loss at step 0: 2.5489416122436523\n",
            "Training loss at step 100: 2.1635637283325195\n",
            "Training loss at step 200: 1.9727193117141724\n",
            "Training loss at step 300: 1.9680272340774536\n",
            "Training loss at step 400: 1.8626214265823364\n",
            "Training loss at step 500: 1.9779037237167358\n",
            "Training loss at step 600: 1.701088786125183\n",
            "Training loss at step 700: 1.9179306030273438\n",
            "Training loss at step 800: 2.133100986480713\n",
            "Training loss at step 900: 1.8964042663574219\n",
            "Training loss at step 1000: 1.7266491651535034\n",
            "Training loss at step 1100: 1.915705680847168\n",
            "Training loss at step 1200: 1.8336598873138428\n",
            "Training loss at step 1300: 1.666725516319275\n",
            "Training loss at step 1400: 1.584696888923645\n",
            "Val loss at epoch 0: 1.532359515026117\n",
            "Val acc at epoch 0: 0.4596\n",
            "Training loss at step 0: 1.5195624828338623\n",
            "Training loss at step 100: 1.6918355226516724\n",
            "Training loss at step 200: 2.0371387004852295\n",
            "Training loss at step 300: 1.862838864326477\n",
            "Training loss at step 400: 1.5948773622512817\n",
            "Training loss at step 500: 1.9734452962875366\n",
            "Training loss at step 600: 1.6573237180709839\n",
            "Training loss at step 700: 1.5605850219726562\n",
            "Training loss at step 800: 1.7137033939361572\n",
            "Training loss at step 900: 1.4937182664871216\n",
            "Training loss at step 1000: 1.499525547027588\n",
            "Training loss at step 1100: 1.484104037284851\n",
            "Training loss at step 1200: 1.757313847541809\n",
            "Training loss at step 1300: 1.4960412979125977\n",
            "Training loss at step 1400: 1.714655876159668\n",
            "Val loss at epoch 1: 1.4295171400543991\n",
            "Val acc at epoch 1: 0.4946\n",
            "Training loss at step 0: 1.753595232963562\n",
            "Training loss at step 100: 1.7149972915649414\n",
            "Training loss at step 200: 1.881837248802185\n",
            "Training loss at step 300: 1.4315968751907349\n",
            "Training loss at step 400: 1.8385562896728516\n",
            "Training loss at step 500: 1.5620088577270508\n",
            "Training loss at step 600: 1.6081860065460205\n",
            "Training loss at step 700: 1.7661521434783936\n",
            "Training loss at step 800: 1.7333605289459229\n",
            "Training loss at step 900: 1.5973632335662842\n",
            "Training loss at step 1000: 1.5447466373443604\n",
            "Training loss at step 1100: 1.6385658979415894\n",
            "Training loss at step 1200: 1.9524494409561157\n",
            "Training loss at step 1300: 1.6614911556243896\n",
            "Training loss at step 1400: 1.5353572368621826\n",
            "Val loss at epoch 2: 1.3433969935793786\n",
            "Val acc at epoch 2: 0.536\n",
            "Training loss at step 0: 1.500331163406372\n",
            "Training loss at step 100: 1.586140751838684\n",
            "Training loss at step 200: 1.8275258541107178\n",
            "Training loss at step 300: 1.5359004735946655\n",
            "Training loss at step 400: 1.8565866947174072\n",
            "Training loss at step 500: 1.556466817855835\n",
            "Training loss at step 600: 1.6526620388031006\n",
            "Training loss at step 700: 1.5568647384643555\n",
            "Training loss at step 800: 1.5564652681350708\n",
            "Training loss at step 900: 1.5270804166793823\n",
            "Training loss at step 1000: 1.728877067565918\n",
            "Training loss at step 1100: 1.604491949081421\n",
            "Training loss at step 1200: 1.4895230531692505\n",
            "Training loss at step 1300: 1.3970966339111328\n",
            "Training loss at step 1400: 1.525787115097046\n",
            "Val loss at epoch 3: 1.285900868048334\n",
            "Val acc at epoch 3: 0.5642\n",
            "Training loss at step 0: 1.5108859539031982\n",
            "Training loss at step 100: 1.5920101404190063\n",
            "Training loss at step 200: 1.6187400817871094\n",
            "Training loss at step 300: 1.4371800422668457\n",
            "Training loss at step 400: 1.615177869796753\n",
            "Training loss at step 500: 1.4178236722946167\n",
            "Training loss at step 600: 1.2795021533966064\n",
            "Training loss at step 700: 1.3273735046386719\n",
            "Training loss at step 800: 1.4563192129135132\n",
            "Training loss at step 900: 1.5215001106262207\n",
            "Training loss at step 1000: 1.6581969261169434\n",
            "Training loss at step 1100: 1.4193775653839111\n",
            "Training loss at step 1200: 1.5506572723388672\n",
            "Training loss at step 1300: 1.626641869544983\n",
            "Training loss at step 1400: 1.327949047088623\n",
            "Val loss at epoch 4: 1.2263676467215179\n",
            "Val acc at epoch 4: 0.5836\n",
            "Training loss at step 0: 1.5835129022598267\n",
            "Training loss at step 100: 1.670098066329956\n",
            "Training loss at step 200: 1.5601015090942383\n",
            "Training loss at step 300: 1.6600511074066162\n",
            "Training loss at step 400: 1.4953572750091553\n",
            "Training loss at step 500: 1.3533334732055664\n",
            "Training loss at step 600: 1.3911315202713013\n",
            "Training loss at step 700: 1.4848181009292603\n",
            "Training loss at step 800: 1.469942569732666\n",
            "Training loss at step 900: 1.4119000434875488\n",
            "Training loss at step 1000: 1.26118803024292\n",
            "Training loss at step 1100: 1.428857684135437\n",
            "Training loss at step 1200: 1.425136923789978\n",
            "Training loss at step 1300: 1.6853234767913818\n",
            "Training loss at step 1400: 1.1827632188796997\n",
            "Val loss at epoch 5: 1.217316946026626\n",
            "Val acc at epoch 5: 0.5896\n",
            "Training loss at step 0: 1.3574692010879517\n",
            "Training loss at step 100: 1.4773328304290771\n",
            "Training loss at step 200: 1.4863433837890625\n",
            "Training loss at step 300: 1.281221866607666\n",
            "Training loss at step 400: 1.58711838722229\n",
            "Training loss at step 500: 1.4546071290969849\n",
            "Training loss at step 600: 1.2263069152832031\n",
            "Training loss at step 700: 1.5671420097351074\n",
            "Training loss at step 800: 2.0860202312469482\n",
            "Training loss at step 900: 1.5814143419265747\n",
            "Training loss at step 1000: 1.5016968250274658\n",
            "Training loss at step 1100: 1.5502926111221313\n",
            "Training loss at step 1200: 1.387893795967102\n",
            "Training loss at step 1300: 1.4609718322753906\n",
            "Training loss at step 1400: 1.7490767240524292\n",
            "Val loss at epoch 6: 1.1819478573313185\n",
            "Val acc at epoch 6: 0.6018\n",
            "Training loss at step 0: 1.2577133178710938\n",
            "Training loss at step 100: 1.2511895895004272\n",
            "Training loss at step 200: 1.5456784963607788\n",
            "Training loss at step 300: 1.5912114381790161\n",
            "Training loss at step 400: 1.4236414432525635\n",
            "Training loss at step 500: 1.5468300580978394\n",
            "Training loss at step 600: 1.2781524658203125\n",
            "Training loss at step 700: 1.757427453994751\n",
            "Training loss at step 800: 1.2887266874313354\n",
            "Training loss at step 900: 1.4564205408096313\n",
            "Training loss at step 1000: 1.2051117420196533\n",
            "Training loss at step 1100: 1.939210057258606\n",
            "Training loss at step 1200: 1.3065892457962036\n",
            "Training loss at step 1300: 1.4116714000701904\n",
            "Training loss at step 1400: 1.3572121858596802\n",
            "Val loss at epoch 7: 1.1688044295189486\n",
            "Val acc at epoch 7: 0.6066\n",
            "Training loss at step 0: 1.290723204612732\n",
            "Training loss at step 100: 1.2827154397964478\n",
            "Training loss at step 200: 2.2466351985931396\n",
            "Training loss at step 300: 1.4343653917312622\n",
            "Training loss at step 400: 1.6297731399536133\n",
            "Training loss at step 500: 1.5435922145843506\n",
            "Training loss at step 600: 1.7403030395507812\n",
            "Training loss at step 700: 1.2702915668487549\n",
            "Training loss at step 800: 1.517716884613037\n",
            "Training loss at step 900: 1.6493836641311646\n",
            "Training loss at step 1000: 1.5784050226211548\n",
            "Training loss at step 1100: 1.3290393352508545\n",
            "Training loss at step 1200: 1.4936081171035767\n",
            "Training loss at step 1300: 1.3493866920471191\n",
            "Training loss at step 1400: 1.3579505681991577\n",
            "Val loss at epoch 8: 1.1315217872334133\n",
            "Val acc at epoch 8: 0.6202\n",
            "Training loss at step 0: 1.5903253555297852\n",
            "Training loss at step 100: 1.326823353767395\n",
            "Training loss at step 200: 1.4631816148757935\n",
            "Training loss at step 300: 1.3362621068954468\n",
            "Training loss at step 400: 1.5274686813354492\n",
            "Training loss at step 500: 1.300408124923706\n",
            "Training loss at step 600: 1.6195987462997437\n",
            "Training loss at step 700: 1.4457300901412964\n",
            "Training loss at step 800: 1.3613752126693726\n",
            "Training loss at step 900: 1.5782829523086548\n",
            "Training loss at step 1000: 1.2936065196990967\n",
            "Training loss at step 1100: 1.632240653038025\n",
            "Training loss at step 1200: 1.6814687252044678\n",
            "Training loss at step 1300: 1.3418573141098022\n",
            "Training loss at step 1400: 1.4697598218917847\n",
            "Val loss at epoch 9: 1.1086224442834307\n",
            "Val acc at epoch 9: 0.6318\n",
            "Training loss at step 0: 1.5808156728744507\n",
            "Training loss at step 100: 1.2633843421936035\n",
            "Training loss at step 200: 1.7908177375793457\n",
            "Training loss at step 300: 1.5796884298324585\n",
            "Training loss at step 400: 1.3554764986038208\n",
            "Training loss at step 500: 1.2676050662994385\n",
            "Training loss at step 600: 1.4555797576904297\n",
            "Training loss at step 700: 1.2179224491119385\n",
            "Training loss at step 800: 1.9441306591033936\n",
            "Training loss at step 900: 1.5037602186203003\n",
            "Training loss at step 1000: 1.2063759565353394\n",
            "Training loss at step 1100: 1.3872032165527344\n",
            "Training loss at step 1200: 1.1707171201705933\n",
            "Training loss at step 1300: 1.565016269683838\n",
            "Training loss at step 1400: 1.4126569032669067\n",
            "Val loss at epoch 10: 1.0759148916621117\n",
            "Val acc at epoch 10: 0.6388\n",
            "Training loss at step 0: 1.1566946506500244\n",
            "Training loss at step 100: 1.4392600059509277\n",
            "Training loss at step 200: 1.2130427360534668\n",
            "Training loss at step 300: 1.0792255401611328\n",
            "Training loss at step 400: 1.6800384521484375\n",
            "Training loss at step 500: 1.1714786291122437\n",
            "Training loss at step 600: 1.4708037376403809\n",
            "Training loss at step 700: 1.3001184463500977\n",
            "Training loss at step 800: 1.2942824363708496\n",
            "Training loss at step 900: 1.594468355178833\n",
            "Training loss at step 1000: 1.5806666612625122\n",
            "Training loss at step 1100: 1.3504194021224976\n",
            "Training loss at step 1200: 1.22847318649292\n",
            "Training loss at step 1300: 1.4610013961791992\n",
            "Training loss at step 1400: 1.358833909034729\n",
            "Val loss at epoch 11: 1.082863186195398\n",
            "Val acc at epoch 11: 0.6396\n",
            "Training loss at step 0: 1.3415248394012451\n",
            "Training loss at step 100: 1.5359514951705933\n",
            "Training loss at step 200: 1.398887276649475\n",
            "Training loss at step 300: 1.460983395576477\n",
            "Training loss at step 400: 1.358445167541504\n",
            "Training loss at step 500: 1.4548543691635132\n",
            "Training loss at step 600: 1.5968079566955566\n",
            "Training loss at step 700: 1.3950130939483643\n",
            "Training loss at step 800: 1.024519443511963\n",
            "Training loss at step 900: 1.4135187864303589\n",
            "Training loss at step 1000: 1.2614290714263916\n",
            "Training loss at step 1100: 1.2883142232894897\n",
            "Training loss at step 1200: 1.280753493309021\n",
            "Training loss at step 1300: 1.4853577613830566\n",
            "Training loss at step 1400: 1.3840813636779785\n",
            "Val loss at epoch 12: 1.075680842445155\n",
            "Val acc at epoch 12: 0.6452\n",
            "Training loss at step 0: 1.4053326845169067\n",
            "Training loss at step 100: 1.6689302921295166\n",
            "Training loss at step 200: 1.4629617929458618\n",
            "Training loss at step 300: 1.502490520477295\n",
            "Training loss at step 400: 1.313820242881775\n",
            "Training loss at step 500: 1.2499116659164429\n",
            "Training loss at step 600: 1.4321374893188477\n",
            "Training loss at step 700: 1.3032997846603394\n",
            "Training loss at step 800: 1.5589466094970703\n",
            "Training loss at step 900: 1.3141248226165771\n",
            "Training loss at step 1000: 1.3978265523910522\n",
            "Training loss at step 1100: 1.3568662405014038\n",
            "Training loss at step 1200: 1.65431809425354\n",
            "Training loss at step 1300: 1.3272160291671753\n",
            "Training loss at step 1400: 1.5927035808563232\n",
            "Val loss at epoch 13: 1.0567012144501802\n",
            "Val acc at epoch 13: 0.6462\n",
            "Training loss at step 0: 1.1988927125930786\n",
            "Training loss at step 100: 1.6286741495132446\n",
            "Training loss at step 200: 1.2062203884124756\n",
            "Training loss at step 300: 1.451117992401123\n",
            "Training loss at step 400: 1.3619776964187622\n",
            "Training loss at step 500: 1.05879807472229\n",
            "Training loss at step 600: 1.6892815828323364\n",
            "Training loss at step 700: 1.2274587154388428\n",
            "Training loss at step 800: 1.504654884338379\n",
            "Training loss at step 900: 1.3480421304702759\n",
            "Training loss at step 1000: 1.26768159866333\n",
            "Training loss at step 1100: 1.6782102584838867\n",
            "Training loss at step 1200: 1.3466870784759521\n",
            "Training loss at step 1300: 1.4261059761047363\n",
            "Training loss at step 1400: 1.2713837623596191\n",
            "Val loss at epoch 14: 1.0460735597428243\n",
            "Val acc at epoch 14: 0.655\n",
            "Training loss at step 0: 1.206395149230957\n",
            "Training loss at step 100: 1.3798705339431763\n",
            "Training loss at step 200: 1.379894495010376\n",
            "Training loss at step 300: 1.6586508750915527\n",
            "Training loss at step 400: 1.284585952758789\n",
            "Training loss at step 500: 0.9909753799438477\n",
            "Training loss at step 600: 0.9469240307807922\n",
            "Training loss at step 700: 1.5168343782424927\n",
            "Training loss at step 800: 1.9307186603546143\n",
            "Training loss at step 900: 1.7001476287841797\n",
            "Training loss at step 1000: 1.9601994752883911\n",
            "Training loss at step 1100: 1.1389741897583008\n",
            "Training loss at step 1200: 1.282024621963501\n",
            "Training loss at step 1300: 1.2039440870285034\n",
            "Training loss at step 1400: 1.4301483631134033\n",
            "Val loss at epoch 15: 1.0463981142469272\n",
            "Val acc at epoch 15: 0.6498\n",
            "Training loss at step 0: 1.5744454860687256\n",
            "Training loss at step 100: 1.2656209468841553\n",
            "Training loss at step 200: 1.1803722381591797\n",
            "Training loss at step 300: 1.4814629554748535\n",
            "Training loss at step 400: 1.3365696668624878\n",
            "Training loss at step 500: 1.1345512866973877\n",
            "Training loss at step 600: 1.4915720224380493\n",
            "Training loss at step 700: 1.669517159461975\n",
            "Training loss at step 800: 1.311389684677124\n",
            "Training loss at step 900: 1.2122935056686401\n",
            "Training loss at step 1000: 1.1726256608963013\n",
            "Training loss at step 1100: 1.2507344484329224\n",
            "Training loss at step 1200: 1.2054392099380493\n",
            "Training loss at step 1300: 1.2598185539245605\n",
            "Training loss at step 1400: 1.4857224225997925\n",
            "Val loss at epoch 16: 1.0106296653200866\n",
            "Val acc at epoch 16: 0.6612\n",
            "Training loss at step 0: 1.5226489305496216\n",
            "Training loss at step 100: 1.159576654434204\n",
            "Training loss at step 200: 1.5804510116577148\n",
            "Training loss at step 300: 1.271933913230896\n",
            "Training loss at step 400: 1.2786554098129272\n",
            "Training loss at step 500: 1.5414170026779175\n",
            "Training loss at step 600: 1.4893121719360352\n",
            "Training loss at step 700: 1.278499960899353\n",
            "Training loss at step 800: 1.2978644371032715\n",
            "Training loss at step 900: 1.2146577835083008\n",
            "Training loss at step 1000: 1.499609112739563\n",
            "Training loss at step 1100: 1.625807762145996\n",
            "Training loss at step 1200: 1.1484572887420654\n",
            "Training loss at step 1300: 1.4055476188659668\n",
            "Training loss at step 1400: 1.6967341899871826\n",
            "Val loss at epoch 17: 1.0069380956850233\n",
            "Val acc at epoch 17: 0.668\n",
            "Training loss at step 0: 1.1111457347869873\n",
            "Training loss at step 100: 1.5417858362197876\n",
            "Training loss at step 200: 1.190194010734558\n",
            "Training loss at step 300: 1.5807933807373047\n",
            "Training loss at step 400: 1.1200679540634155\n",
            "Training loss at step 500: 1.168461799621582\n",
            "Training loss at step 600: 1.3111845254898071\n",
            "Training loss at step 700: 1.3409175872802734\n",
            "Training loss at step 800: 1.4408460855484009\n",
            "Training loss at step 900: 1.3197543621063232\n",
            "Training loss at step 1000: 1.4805923700332642\n",
            "Training loss at step 1100: 1.2210233211517334\n",
            "Training loss at step 1200: 1.1471877098083496\n",
            "Training loss at step 1300: 1.5961625576019287\n",
            "Training loss at step 1400: 1.1513363122940063\n",
            "Val loss at epoch 18: 0.9948460417947952\n",
            "Val acc at epoch 18: 0.674\n",
            "Training loss at step 0: 1.2924458980560303\n",
            "Training loss at step 100: 1.4487744569778442\n",
            "Training loss at step 200: 1.2877957820892334\n",
            "Training loss at step 300: 1.0866785049438477\n",
            "Training loss at step 400: 1.1461565494537354\n",
            "Training loss at step 500: 1.5701274871826172\n",
            "Training loss at step 600: 1.4111812114715576\n",
            "Training loss at step 700: 1.3836272954940796\n",
            "Training loss at step 800: 0.9034765362739563\n",
            "Training loss at step 900: 1.4015547037124634\n",
            "Training loss at step 1000: 1.574844241142273\n",
            "Training loss at step 1100: 1.2301857471466064\n",
            "Training loss at step 1200: 1.0687806606292725\n",
            "Training loss at step 1300: 1.4257984161376953\n",
            "Training loss at step 1400: 1.448202133178711\n",
            "Val loss at epoch 19: 0.9997273391219461\n",
            "Val acc at epoch 19: 0.6644\n",
            "Training loss at step 0: 1.397093653678894\n",
            "Training loss at step 100: 1.7179405689239502\n",
            "Training loss at step 200: 1.5912009477615356\n",
            "Training loss at step 300: 1.265434980392456\n",
            "Training loss at step 400: 1.4617615938186646\n",
            "Training loss at step 500: 1.4346176385879517\n",
            "Training loss at step 600: 1.1239498853683472\n",
            "Training loss at step 700: 1.5236207246780396\n",
            "Training loss at step 800: 1.3110305070877075\n",
            "Training loss at step 900: 1.5578877925872803\n",
            "Training loss at step 1000: 1.1502654552459717\n",
            "Training loss at step 1100: 1.6789251565933228\n",
            "Training loss at step 1200: 1.452062964439392\n",
            "Training loss at step 1300: 1.2192920446395874\n",
            "Training loss at step 1400: 0.900265634059906\n",
            "Val loss at epoch 20: 0.9865943601556645\n",
            "Val acc at epoch 20: 0.6704\n",
            "Training loss at step 0: 1.3491382598876953\n",
            "Training loss at step 100: 1.604339838027954\n",
            "Training loss at step 200: 1.627278447151184\n",
            "Training loss at step 300: 1.3854622840881348\n",
            "Training loss at step 400: 1.0197341442108154\n",
            "Training loss at step 500: 1.5735470056533813\n",
            "Training loss at step 600: 1.3435683250427246\n",
            "Training loss at step 700: 1.2246856689453125\n",
            "Training loss at step 800: 1.5158907175064087\n",
            "Training loss at step 900: 1.2117887735366821\n",
            "Training loss at step 1000: 1.021325945854187\n",
            "Training loss at step 1100: 1.5823553800582886\n",
            "Training loss at step 1200: 1.5407110452651978\n",
            "Training loss at step 1300: 1.058264136314392\n",
            "Training loss at step 1400: 1.3997716903686523\n",
            "Val loss at epoch 21: 0.9912730362384942\n",
            "Val acc at epoch 21: 0.6756\n",
            "Training loss at step 0: 1.108771562576294\n",
            "Training loss at step 100: 1.5700246095657349\n",
            "Training loss at step 200: 1.6987944841384888\n",
            "Training loss at step 300: 1.4294641017913818\n",
            "Training loss at step 400: 1.6417269706726074\n",
            "Training loss at step 500: 1.1754391193389893\n",
            "Training loss at step 600: 1.1398169994354248\n",
            "Training loss at step 700: 1.103091835975647\n",
            "Training loss at step 800: 1.2360121011734009\n",
            "Training loss at step 900: 1.0806772708892822\n",
            "Training loss at step 1000: 1.3418686389923096\n",
            "Training loss at step 1100: 1.3301243782043457\n",
            "Training loss at step 1200: 1.2490960359573364\n",
            "Training loss at step 1300: 1.3179816007614136\n",
            "Training loss at step 1400: 1.4160840511322021\n",
            "Val loss at epoch 22: 0.9832895830938011\n",
            "Val acc at epoch 22: 0.6784\n",
            "Training loss at step 0: 1.420090675354004\n",
            "Training loss at step 100: 1.4747090339660645\n",
            "Training loss at step 200: 1.0350807905197144\n",
            "Training loss at step 300: 1.177911639213562\n",
            "Training loss at step 400: 1.2019431591033936\n",
            "Training loss at step 500: 1.2554082870483398\n",
            "Training loss at step 600: 1.4822912216186523\n",
            "Training loss at step 700: 1.3794835805892944\n",
            "Training loss at step 800: 1.035623550415039\n",
            "Training loss at step 900: 1.2832354307174683\n",
            "Training loss at step 1000: 1.412934422492981\n",
            "Training loss at step 1100: 1.4581971168518066\n",
            "Training loss at step 1200: 1.7632607221603394\n",
            "Training loss at step 1300: 0.985196053981781\n",
            "Training loss at step 1400: 1.1638164520263672\n",
            "Val loss at epoch 23: 0.9793135098590973\n",
            "Val acc at epoch 23: 0.6768\n",
            "Training loss at step 0: 1.4117705821990967\n",
            "Training loss at step 100: 1.1596720218658447\n",
            "Training loss at step 200: 1.1434043645858765\n",
            "Training loss at step 300: 1.1152244806289673\n",
            "Training loss at step 400: 0.9652199149131775\n",
            "Training loss at step 500: 1.1204633712768555\n",
            "Training loss at step 600: 1.1937016248703003\n",
            "Training loss at step 700: 1.3889321088790894\n",
            "Training loss at step 800: 1.2193100452423096\n",
            "Training loss at step 900: 1.7765510082244873\n",
            "Training loss at step 1000: 1.4393067359924316\n",
            "Training loss at step 1100: 1.2140178680419922\n",
            "Training loss at step 1200: 1.1702265739440918\n",
            "Training loss at step 1300: 1.3591055870056152\n",
            "Training loss at step 1400: 1.1319315433502197\n",
            "Val loss at epoch 24: 0.9700561321465073\n",
            "Val acc at epoch 24: 0.6796\n",
            "Training loss at step 0: 0.9550250172615051\n",
            "Training loss at step 100: 1.8154374361038208\n",
            "Training loss at step 200: 1.2285970449447632\n",
            "Training loss at step 300: 1.4468437433242798\n",
            "Training loss at step 400: 1.360647201538086\n",
            "Training loss at step 500: 1.479844093322754\n",
            "Training loss at step 600: 1.2936733961105347\n",
            "Training loss at step 700: 1.4528839588165283\n",
            "Training loss at step 800: 1.3871614933013916\n",
            "Training loss at step 900: 1.2259855270385742\n",
            "Training loss at step 1000: 0.9529753923416138\n",
            "Training loss at step 1100: 1.2350256443023682\n",
            "Training loss at step 1200: 1.1525535583496094\n",
            "Training loss at step 1300: 1.596981406211853\n",
            "Training loss at step 1400: 1.307076096534729\n",
            "Val loss at epoch 25: 0.9608556400438782\n",
            "Val acc at epoch 25: 0.6886\n",
            "Training loss at step 0: 1.3072099685668945\n",
            "Training loss at step 100: 0.8371447920799255\n",
            "Training loss at step 200: 1.2502764463424683\n",
            "Training loss at step 300: 1.5644463300704956\n",
            "Training loss at step 400: 1.4025602340698242\n",
            "Training loss at step 500: 1.230555772781372\n",
            "Training loss at step 600: 1.2475183010101318\n",
            "Training loss at step 700: 1.2334868907928467\n",
            "Training loss at step 800: 1.069365382194519\n",
            "Training loss at step 900: 1.3369057178497314\n",
            "Training loss at step 1000: 1.3901728391647339\n",
            "Training loss at step 1100: 1.5680662393569946\n",
            "Training loss at step 1200: 1.341759443283081\n",
            "Training loss at step 1300: 1.1883718967437744\n",
            "Training loss at step 1400: 1.219643235206604\n",
            "Val loss at epoch 26: 0.951260458132264\n",
            "Val acc at epoch 26: 0.6898\n",
            "Training loss at step 0: 0.9831233024597168\n",
            "Training loss at step 100: 1.311629056930542\n",
            "Training loss at step 200: 1.3823186159133911\n",
            "Training loss at step 300: 1.0459985733032227\n",
            "Training loss at step 400: 1.7166491746902466\n",
            "Training loss at step 500: 1.4024667739868164\n",
            "Training loss at step 600: 1.2686641216278076\n",
            "Training loss at step 700: 0.9438155293464661\n",
            "Training loss at step 800: 1.1814374923706055\n",
            "Training loss at step 900: 1.5199252367019653\n",
            "Training loss at step 1000: 1.2254787683486938\n",
            "Training loss at step 1100: 1.415107011795044\n",
            "Training loss at step 1200: 1.2284351587295532\n",
            "Training loss at step 1300: 1.4565691947937012\n",
            "Training loss at step 1400: 1.4188576936721802\n",
            "Val loss at epoch 27: 0.9501948759054683\n",
            "Val acc at epoch 27: 0.6854\n",
            "Training loss at step 0: 1.0658146142959595\n",
            "Training loss at step 100: 1.149502158164978\n",
            "Training loss at step 200: 1.1898362636566162\n",
            "Training loss at step 300: 1.0558308362960815\n",
            "Training loss at step 400: 1.2345002889633179\n",
            "Training loss at step 500: 1.4170960187911987\n",
            "Training loss at step 600: 1.2109659910202026\n",
            "Training loss at step 700: 1.1393446922302246\n",
            "Training loss at step 800: 1.2262308597564697\n",
            "Training loss at step 900: 1.4785335063934326\n",
            "Training loss at step 1000: 1.4016551971435547\n",
            "Training loss at step 1100: 1.3788825273513794\n",
            "Training loss at step 1200: 0.8655329346656799\n",
            "Training loss at step 1300: 1.3089406490325928\n",
            "Training loss at step 1400: 1.3009068965911865\n",
            "Val loss at epoch 28: 0.9483144735075106\n",
            "Val acc at epoch 28: 0.6904\n",
            "Training loss at step 0: 1.0833832025527954\n",
            "Training loss at step 100: 1.3006457090377808\n",
            "Training loss at step 200: 0.8583975434303284\n",
            "Training loss at step 300: 1.3346483707427979\n",
            "Training loss at step 400: 0.8115396499633789\n",
            "Training loss at step 500: 1.1086724996566772\n",
            "Training loss at step 600: 1.1607929468154907\n",
            "Training loss at step 700: 1.386245846748352\n",
            "Training loss at step 800: 1.6466875076293945\n",
            "Training loss at step 900: 1.281874179840088\n",
            "Training loss at step 1000: 0.9452563524246216\n",
            "Training loss at step 1100: 1.11153244972229\n",
            "Training loss at step 1200: 1.0445727109909058\n",
            "Training loss at step 1300: 1.893900990486145\n",
            "Training loss at step 1400: 1.1297004222869873\n",
            "Val loss at epoch 29: 0.9450949130544237\n",
            "Val acc at epoch 29: 0.6896\n"
          ]
        },
        {
          "output_type": "display_data",
          "data": {
            "image/png": "[encoded data removed]",
            "text/plain": [
              "<Figure size 432x288 with 1 Axes>"
            ]
          },
          "metadata": {
            "needs_background": "light"
          }
        }
      ]
    },
    {
      "cell_type": "markdown",
      "metadata": {
        "id": "T2vhJcNS_fK1"
      },
      "source": [
        "## Načítanie uloženého modelu\n",
        "\n",
        "Keďže sme si model aj uložili môžeme si ho načítať a napríklad spustiť na trénovacích dátach. Stačí nám do funkcie build model pridať cestu k uloženému modelu."
      ]
    },
    {
      "cell_type": "code",
      "metadata": {
        "colab": {
          "base_uri": "https://localhost:8080/"
        },
        "id": "2ebNs2GS_uaV",
        "outputId": "3cef0fac-651c-495e-e48e-bc5789964007"
      },
      "source": [
        "batch_size = 32\n",
        "\n",
        "device = torch.device(\"cuda:0\" if torch.cuda.is_available() else \"cpu\")\n",
        "print(\"Using device: \", device)\n",
        "\n",
        "dataloader_test = torch.utils.data.DataLoader(testset, batch_size=batch_size, shuffle=False)\n",
        "\n",
        "model, model_inference = build_model('005.pth', dropout_p=0.5, bn=True)\n",
        "model_inference.to(device)\n",
        "\n",
        "# Potrebujeme aby sme zmenili formu batchnorm\n",
        "model_inference.eval()\n",
        "\n",
        "with torch.no_grad():\n",
        "  correct = 0\n",
        "  total = 0\n",
        "  for i, batch in enumerate(dataloader_val):  \n",
        "    x, y = batch[0].to(device), batch[1].to(device)  \n",
        "\n",
        "    out = model(x)\n",
        "    loss = ce_loss(out, y)\n",
        "    acc = torch.sum(torch.argmax(out, dim=-1) == y)\n",
        "    correct += acc.item()\n",
        "    total += len(batch[1])\n",
        "  \n",
        "acc = correct / total\n",
        "print(\"Test set accuracy: \", acc)\n"
      ],
      "execution_count": null,
      "outputs": [
        {
          "output_type": "stream",
          "name": "stdout",
          "text": [
            "Using device:  cuda:0\n",
            "Test set accuracy:  0.637\n"
          ]
        }
      ]
    },
    {
      "cell_type": "markdown",
      "metadata": {
        "id": "k8oFOPRtApS5"
      },
      "source": [
        "# Domáca úloha\n",
        "\n",
        "Prvá domáca úloha bude spočívať v praktickom testovaní vecí, ktoré sme si práve spomínali. Je rozložená na viaceré časti. Výstupom z úlohy môže byť buď viacero notebookov, alebo python skriptov, ktorými ste spúštali experimenty. Výstupom má byť takisto pdf súbor s výsledkami a grafmi, ktoré budú demonštrovať vaše tvrdenia.\n",
        "\n",
        "Jadrom domácej úlohy bude trénovanie siete na datasete Cifar-10. Vždy potom budete porovnávať ako rôzne modifikácie siete fungujú voči iným prípadne voči nejakému baselinu. Úloha sa bude skladať z viacerých častí.\n",
        "\n",
        "*Pozn.:*  Úlohu môžete riešiť aj v Kerase.\n",
        "\n",
        "### Základný model (1b)\n",
        "\n",
        "Cieľ je navrhnúť idálne čo najrýchlejší model, ktorý bude dosahovať cca. 70 percentnú presnosť na datasete Cifar-10. Tento model bude slúžiť ako baseline pre ďalšie modifikácie. V rámci modelu použite optimalizátor Adam a aktivácie ReLU. Začiatok modelu by mal pozostávať zo zopár konvolučných a poolingových vrstiev. Na konci by mala byť plne prepojená časť.\n",
        "\n",
        "V naselujúcich podúlohách je nutné zmeniť vždy nejakú časť modelu a porovnať ich navzájom pomocou grafov, ktoré ukazujú vývoj validačnej presnosti a chyby. Namiesto grafov je možné použiť tabuľku, ale v nej je zmysluplné uvádzať len hodnoty na konci trénovania.\n",
        "\n",
        "### Aktivácie (3b)\n",
        "\n",
        "Vyskúšajte vymeniť aktivačné funkcie. Otestujte tri z nasledovných aktivačných funkcií sigmoid, tanh, ELU, LeakyReLU a PReLU. LeakyReLU môžete otestovať aj pre rôzne hodnoty parametru alpha (napr. 0.3, 0.1, 0,03). \n",
        "\n",
        "### Optimalizácia (6b)\n",
        "\n",
        "Otestujte trénovanie pomocou optimalizátorov Adam, SGD alebo RMSProp. Spustite aspoň 4 rôzne konfigurácie (rôzne kroky, rôzne alpha, beta atď). Pre túto úlohu je vhodné využiť v pdfku grafy. \n",
        "\n",
        "Jednu metódu si vyberte a otestujte pre ňu navyše ďalšie tri veľkosti minibatchov.\n",
        "\n",
        "### Dropout a Augmentácia (6b)\n",
        "\n",
        "Dropout otestujte tak, že bude najprv len v plne prepojenej vrstve (p = 0.5) a potom aj po konvolučných vrstvách (p = 0.2). A ešte jednu možnosť navyše. Pri použití v konvolučných vrstvách nezabudnite, že treba použiť Dropout2d namiesto Dropout1d.\n",
        "\n",
        "Augmentáciu testujte pre 3 rôzne nastavania. Môžte byť aj kreatívny, ale malo by to mať aspoň nejaký zmysel. Dokumentáciu nájdete [tu](https://pytorch.org/vision/stable/transforms.html). Dávajte si pritom pozor aby ste to spravili správne.\n",
        "\n",
        "Obe veci testujte pre dva prípady v jednom použijete bežný split na train/val a v druhom nechajte v trénovacej množine iba prvých 1000 príkladov. Uvedomte si, že počet trénovacích krokov je pre druhý prípad menší použite preto úmerne viac epôch.\n",
        "\n",
        "### Hlboká sieť (5b)\n",
        "\n",
        "Navrhnite hlbokú (stačí aj úzku, ale nech má aspoň 11 vrstiev) sieť. Otestujte ju najprv bez BatchNorm, reziduálnych alebo dense prepojení, alebo prídavných trenovacích vrstiev. Nakoniec otestujte aspoň dva z týchto prístupov, tak aby ste mali aspoň 3 rôzne modely (tj. rôzne rozmiestnenie týchto prvkov).\n",
        "\n",
        "Pozn.: Ak chcete testovať reziduálne, alebo dense prepojenia, tak navrhnite sieť tak, aby ich bolo kam dať.\n",
        "\n",
        "### Najlepší model (3b)\n",
        "\n",
        "Vytvorte model, ktorý dosiahne najlepší vylsedok, aký len viete. Tieto body sú navyše a nerátajú sa do celkového počtu bodov. Bude sa prihliadať na to aké modely odovzdali ostatní. Model zašlite vo formáte ako .pth torchovský state dict spolu s jedným skriptom, ktorý model načíta a spočíta presnosť na testovacej množine Cifar-10. Váš postup pre tvorbu modelu popíšte. Môžete sa inšpirovať internetom, ale nesťahujte ani nepoužívajte predtrénované modely. Ak už sa inšpirijete niečim až príliš, tak aspoň popíšte prečo by práve ten model mal fungovať dobre (tu prosím nepíšte, že preto že blog to tvrdí).\n",
        "\n",
        "## Hodnotenie\n",
        "\n",
        "Úloha je relatívne priamočiara, keďže jej cieľ je skôr nadobudnutie skúseností. Problém bude skôr s časom. Pri úlohách si môžete väčšinou vybrať viacere parametre. Preto nevadí ak niektoré z nich budú nezmyselné ako napr. veľmi veľký krok učenia, keďže vedieť co nefunguje je tiež dôležité. Budem však strhávať body ak v nejakej sekcii nebudú skoro žiadne nastavenia, ktoré dávaju zmysel/dobré výsledky. Ideálne by bolo ak by ste sa snažili napr. po prvých troch nastaveniach snažili nájsť to \"najlepšie\". Súčasťou pdfka, ktoré odovzdáte bude aj komentár, ak sa v ňom vyskytne nejaký nezmysel, tak tiež budem strhávať.\n",
        "\n",
        "## Odovzdávanie\n",
        "\n",
        "Úlohu odovzdajte v zipe s notebookmi/skriptami, pdfkom s výsledkami a vašim modelom na mailovú adresu kocurvik@gmail.com Pdfko rozdelte na sekcie ako tu a ideálne aj do podeskcií kde to dáva zmysel. K výsledkom vždy vypíšte komentár ako dopadli.\n",
        "\n",
        "Deadline je do **12.11. 23:59**. Pri neskoršom odovzdaní budem strhávať body.\n",
        "\n",
        "\n",
        "## Domáca úloha č. 1 (20b) - Alternatíva\n",
        "\n",
        "Ako alternatívu prvej domácej úlohy je možné jeden z notebookov z cvičení prepísať do iného frameworku. Cieľové frameworky môžu byť JAX a PyTorch. Ak máte záujem o túto formu prvej domácej úlohy, tak je nutné tento postup prekonzultovať aspoň týždeň týždeň pred deadlinom originálneho zadania."
      ]
    },
    {
      "cell_type": "markdown",
      "metadata": {
        "id": "m1LlhKzC-l1O"
      },
      "source": [
        "# Zložitejšie modely\n",
        "\n",
        "Ukážeme si napríklad ako z modelu vyhodiť dva výstupy a ako prijať dva vstupy a podobne. Najprv teda príklad ak by sme chceli klasifikovať jednak aké číslo sme dostali a potom to, či je párne, alebo nie."
      ]
    },
    {
      "cell_type": "code",
      "metadata": {
        "id": "lsMj2xVk_D6u"
      },
      "source": [
        "from sklearn.datasets import fetch_openml\n",
        "mnist = fetch_openml('mnist_784')\n",
        "\n",
        "x_np = mnist.data.astype('float32')/255\n",
        "labels_np = mnist.target.astype('int64')\n",
        "\n",
        "images = torch.from_numpy(x_np)\n",
        "labels = torch.from_numpy(labels_np)"
      ],
      "execution_count": null,
      "outputs": []
    },
    {
      "cell_type": "markdown",
      "metadata": {
        "id": "h8ByRaWF_VrU"
      },
      "source": [
        "## torch.nn.Module\n",
        "\n",
        "Komplikovanejšiu sieť nemôžeme vyrobiť pomocou konštruktora Sequential, ale musíme si subclassnúť torch.nn.Module a implementovať konštruktor, kde si definujeme vrstvya metódu forward kde definujeme výpočet."
      ]
    },
    {
      "cell_type": "code",
      "metadata": {
        "colab": {
          "base_uri": "https://localhost:8080/"
        },
        "id": "2P0iROI7_YI8",
        "outputId": "68ebdc54-1ba5-4e4b-b2c8-f49d6f104fa8"
      },
      "source": [
        "from torch.nn import Module, Linear\n",
        "from torch.nn.functional import relu, sigmoid\n",
        "\n",
        "class TwoOutputNet(Module):\n",
        "    def __init__(self):\n",
        "        super(TwoOutputNet, self).__init__()\n",
        "        self.fc1 = Linear(28 * 28, 30)\n",
        "        self.fc2 = Linear(30, 20)\n",
        "        self.fc_classes = Linear(20, 10)\n",
        "        self.fc_odd_even = Linear(20, 1)\n",
        "        \n",
        "    def forward(self, x):\n",
        "        x = self.fc1(x)\n",
        "        x = relu(x)\n",
        "        x = self.fc2(x)\n",
        "        x = relu(x)\n",
        "        x_class = self.fc_classes(x)\n",
        "        x_odd_even = self.fc_odd_even(x)\n",
        "        x_odd_even = sigmoid(x_odd_even)\n",
        "\n",
        "        return [x_class, x_odd_even]\n",
        "\n",
        "model = TwoOutputNet()\n",
        "\n",
        "out = model(torch.ones([4, 28*28]))\n",
        "\n",
        "print(out)"
      ],
      "execution_count": null,
      "outputs": [
        {
          "output_type": "stream",
          "name": "stdout",
          "text": [
            "[tensor([[-0.0023,  0.1268,  0.3411,  0.1393,  0.1961,  0.1488,  0.1650,  0.0517,\n",
            "         -0.1738, -0.2913],\n",
            "        [-0.0023,  0.1268,  0.3411,  0.1393,  0.1961,  0.1488,  0.1650,  0.0517,\n",
            "         -0.1738, -0.2913],\n",
            "        [-0.0023,  0.1268,  0.3411,  0.1393,  0.1961,  0.1488,  0.1650,  0.0517,\n",
            "         -0.1738, -0.2913],\n",
            "        [-0.0023,  0.1268,  0.3411,  0.1393,  0.1961,  0.1488,  0.1650,  0.0517,\n",
            "         -0.1738, -0.2913]], grad_fn=<AddmmBackward>), tensor([[0.4839],\n",
            "        [0.4839],\n",
            "        [0.4839],\n",
            "        [0.4839]], grad_fn=<SigmoidBackward>)]\n"
          ]
        },
        {
          "output_type": "stream",
          "name": "stderr",
          "text": [
            "/usr/local/lib/python3.7/dist-packages/torch/nn/functional.py:1805: UserWarning: nn.functional.sigmoid is deprecated. Use torch.sigmoid instead.\n",
            "  warnings.warn(\"nn.functional.sigmoid is deprecated. Use torch.sigmoid instead.\")\n"
          ]
        }
      ]
    },
    {
      "cell_type": "markdown",
      "metadata": {
        "id": "NmpPrpQkq92D"
      },
      "source": [
        "## Zobrazenie architektúry\n",
        "\n",
        "Ak chceme vidieť ako vyzerá celá architektúra, tak môžeme jednoducho printnúť model."
      ]
    },
    {
      "cell_type": "code",
      "metadata": {
        "colab": {
          "base_uri": "https://localhost:8080/"
        },
        "id": "na5o5Gn3rzf6",
        "outputId": "f70862d4-14c7-4a82-a46b-b02685915172"
      },
      "source": [
        "print(model)"
      ],
      "execution_count": null,
      "outputs": [
        {
          "output_type": "stream",
          "name": "stdout",
          "text": [
            "TwoOutputNet(\n",
            "  (fc1): Linear(in_features=784, out_features=30, bias=True)\n",
            "  (fc2): Linear(in_features=30, out_features=20, bias=True)\n",
            "  (fc_classes): Linear(in_features=20, out_features=10, bias=True)\n",
            "  (fc_odd_even): Linear(in_features=20, out_features=1, bias=True)\n",
            ")\n"
          ]
        }
      ]
    },
    {
      "cell_type": "markdown",
      "metadata": {
        "id": "U0sM187Sr5Hz"
      },
      "source": [
        "To však neuvidíme prepojenia. Preto môžeme použiť tensorboard. Najprv si vytvoríme TensorBoard SummaryWriter a potom do neho dáme našu sieť aj so vstupom."
      ]
    },
    {
      "cell_type": "code",
      "metadata": {
        "colab": {
          "base_uri": "https://localhost:8080/"
        },
        "id": "LLdhQ9p1rRMC",
        "outputId": "3e255983-f244-45b9-f7b5-326711769f83"
      },
      "source": [
        "from torch.utils.tensorboard import SummaryWriter\n",
        "\n",
        "model = TwoOutputNet()\n",
        "writer = SummaryWriter('tb/run')\n",
        "writer.add_graph(model, torch.ones([1, 28*28]))\n",
        "writer.close()"
      ],
      "execution_count": null,
      "outputs": [
        {
          "output_type": "stream",
          "name": "stderr",
          "text": [
            "/usr/local/lib/python3.7/dist-packages/torch/nn/functional.py:1805: UserWarning: nn.functional.sigmoid is deprecated. Use torch.sigmoid instead.\n",
            "  warnings.warn(\"nn.functional.sigmoid is deprecated. Use torch.sigmoid instead.\")\n",
            "/usr/local/lib/python3.7/dist-packages/torch/jit/_trace.py:959: TracerWarning: Encountering a list at the output of the tracer might cause the trace to be incorrect, this is only valid if the container structure does not change based on the module's inputs. Consider using a constant container instead (e.g. for `list`, use a `tuple` instead. for `dict`, use a `NamedTuple` instead). If you absolutely need this and know the side effects, pass strict=False to trace() to allow this behavior.\n",
            "  argument_names,\n"
          ]
        }
      ]
    },
    {
      "cell_type": "markdown",
      "metadata": {
        "id": "fjXM_4NEu1hV"
      },
      "source": [
        "Potom si môžeme loadnúť tzv. magic v notebooku, ktorý nám umožní zobraziť tensorboard."
      ]
    },
    {
      "cell_type": "code",
      "metadata": {
        "id": "ytnBmOhUt73t"
      },
      "source": [
        "%load_ext tensorboard\n",
        "%tensorboard --logdir tb"
      ],
      "execution_count": null,
      "outputs": []
    },
    {
      "cell_type": "code",
      "metadata": {
        "colab": {
          "base_uri": "https://localhost:8080/"
        },
        "id": "zQ-SMZRVEUzC",
        "outputId": "e766ab6c-141a-43f6-acc1-0ad503aa7ac3"
      },
      "source": [
        "from torch.utils.data import TensorDataset, DataLoader\n",
        "\n",
        "data_train = TensorDataset(images[:50000], labels[:50000])\n",
        "dataloader_train = DataLoader(data_train, batch_size=32, shuffle=True)\n",
        "\n",
        "data_val = TensorDataset(images[50000:60000], labels[50000:60000])\n",
        "dataloader_val = DataLoader(data_val, batch_size=32)\n",
        "\n",
        "model = TwoOutputNet()\n",
        "\n",
        "ce_loss = torch.nn.CrossEntropyLoss()\n",
        "binary_loss = torch.nn.BCELoss()\n",
        "\n",
        "optimizer = torch.optim.Adam(model.parameters(), lr=1e-3)\n",
        "\n",
        "for e in range(10):\n",
        "  model.train()\n",
        "  for i, batch in enumerate(dataloader_train):  \n",
        "    x, y = batch  \n",
        "    optimizer.zero_grad()\n",
        "\n",
        "    out_classes, out_odd_even = model(x)\n",
        "    loss = ce_loss(out_classes, y) + binary_loss(torch.squeeze(out_odd_even), (y % 2).float())\n",
        "    loss.backward()\n",
        "    optimizer.step()\n",
        "    if i % 100 == 0:\n",
        "      print(\"Loss at epoch: {} step {}: {}\".format(e, i, loss.item()))\n",
        "\n",
        "  model.eval()\n",
        "  with torch.no_grad():\n",
        "    val_losses = []\n",
        "    correct_classes = 0\n",
        "    correct_odd_even = 0\n",
        "    for i, batch in enumerate(dataloader_val):  \n",
        "      x, y = batch  \n",
        "\n",
        "      out_classes, out_odd_even = model(x)\n",
        "      loss = ce_loss(out_classes, y) + binary_loss(torch.squeeze(out_odd_even), (y % 2).float())\n",
        "      acc_classes = torch.sum(torch.argmax(out_classes, dim=-1) == y)  \n",
        "      acc_odd_even = torch.sum(torch.where(torch.squeeze(out_odd_even) > 0.5, 1, 0) == (y % 2).float())\n",
        "      correct_classes += acc_classes.item()\n",
        "      correct_odd_even += acc_odd_even.item()\n",
        "      val_losses.append(loss.item())\n",
        "\n",
        "    print(\"Val loss at epoch {}: {}\".format(e, np.mean(val_losses)))\n",
        "    print(\"Val acc classes at epoch {}: {}\".format(e, correct_classes / 10000))\n",
        "    print(\"Val acc odd-even at epoch {}: {}\".format(e, correct_odd_even / 10000))"
      ],
      "execution_count": null,
      "outputs": [
        {
          "output_type": "stream",
          "name": "stderr",
          "text": [
            "/usr/local/lib/python3.7/dist-packages/torch/nn/functional.py:1805: UserWarning: nn.functional.sigmoid is deprecated. Use torch.sigmoid instead.\n",
            "  warnings.warn(\"nn.functional.sigmoid is deprecated. Use torch.sigmoid instead.\")\n"
          ]
        },
        {
          "output_type": "stream",
          "name": "stdout",
          "text": [
            "Loss at epoch: 0 step 0: 3.0136687755584717\n",
            "Loss at epoch: 0 step 100: 1.5439887046813965\n",
            "Loss at epoch: 0 step 200: 1.0723457336425781\n",
            "Loss at epoch: 0 step 300: 0.9225047826766968\n",
            "Loss at epoch: 0 step 400: 1.0625216960906982\n",
            "Loss at epoch: 0 step 500: 0.6877797842025757\n",
            "Loss at epoch: 0 step 600: 0.6816473007202148\n",
            "Loss at epoch: 0 step 700: 0.5729663372039795\n",
            "Loss at epoch: 0 step 800: 0.6154147386550903\n",
            "Loss at epoch: 0 step 900: 0.6204397678375244\n",
            "Loss at epoch: 0 step 1000: 0.37178343534469604\n",
            "Loss at epoch: 0 step 1100: 0.519706130027771\n",
            "Loss at epoch: 0 step 1200: 0.2374235987663269\n",
            "Loss at epoch: 0 step 1300: 0.3027026057243347\n",
            "Loss at epoch: 0 step 1400: 0.1877288520336151\n",
            "Loss at epoch: 0 step 1500: 0.34767037630081177\n",
            "Val loss at epoch 0: 0.34920006156110533\n",
            "Val acc classes at epoch 0: 0.934\n",
            "Val acc odd-even at epoch 0: 0.959\n",
            "Loss at epoch: 1 step 0: 0.5225335955619812\n",
            "Loss at epoch: 1 step 100: 0.3285427689552307\n",
            "Loss at epoch: 1 step 200: 0.2670252323150635\n",
            "Loss at epoch: 1 step 300: 0.48755893111228943\n",
            "Loss at epoch: 1 step 400: 0.846068263053894\n",
            "Loss at epoch: 1 step 500: 0.5502994656562805\n",
            "Loss at epoch: 1 step 600: 0.18452896177768707\n",
            "Loss at epoch: 1 step 700: 0.3407019376754761\n",
            "Loss at epoch: 1 step 800: 0.2697157859802246\n",
            "Loss at epoch: 1 step 900: 0.1692451685667038\n",
            "Loss at epoch: 1 step 1000: 0.36356839537620544\n",
            "Loss at epoch: 1 step 1100: 0.46489405632019043\n",
            "Loss at epoch: 1 step 1200: 0.11028635501861572\n",
            "Loss at epoch: 1 step 1300: 0.18278883397579193\n",
            "Loss at epoch: 1 step 1400: 0.3845095634460449\n",
            "Loss at epoch: 1 step 1500: 0.27028030157089233\n",
            "Val loss at epoch 1: 0.28969972317342085\n",
            "Val acc classes at epoch 1: 0.9464\n",
            "Val acc odd-even at epoch 1: 0.9667\n",
            "Loss at epoch: 2 step 0: 0.7140570878982544\n",
            "Loss at epoch: 2 step 100: 0.2713419795036316\n",
            "Loss at epoch: 2 step 200: 0.16219176352024078\n",
            "Loss at epoch: 2 step 300: 0.1332482248544693\n",
            "Loss at epoch: 2 step 400: 0.3031441569328308\n",
            "Loss at epoch: 2 step 500: 0.08827829360961914\n",
            "Loss at epoch: 2 step 600: 0.19473019242286682\n",
            "Loss at epoch: 2 step 700: 0.4120897352695465\n",
            "Loss at epoch: 2 step 800: 0.2767271101474762\n",
            "Loss at epoch: 2 step 900: 0.2567933201789856\n",
            "Loss at epoch: 2 step 1000: 0.0849432498216629\n",
            "Loss at epoch: 2 step 1100: 0.18763573467731476\n",
            "Loss at epoch: 2 step 1200: 0.16057194769382477\n",
            "Loss at epoch: 2 step 1300: 0.10498353838920593\n",
            "Loss at epoch: 2 step 1400: 0.2726680636405945\n",
            "Loss at epoch: 2 step 1500: 0.255300372838974\n",
            "Val loss at epoch 2: 0.24817650902349822\n",
            "Val acc classes at epoch 2: 0.9524\n",
            "Val acc odd-even at epoch 2: 0.9725\n",
            "Loss at epoch: 3 step 0: 0.26170942187309265\n",
            "Loss at epoch: 3 step 100: 0.15833327174186707\n",
            "Loss at epoch: 3 step 200: 0.05838969722390175\n",
            "Loss at epoch: 3 step 300: 0.29022422432899475\n",
            "Loss at epoch: 3 step 400: 0.2101862132549286\n",
            "Loss at epoch: 3 step 500: 0.05479380488395691\n",
            "Loss at epoch: 3 step 600: 0.10301695764064789\n",
            "Loss at epoch: 3 step 700: 0.4492231607437134\n",
            "Loss at epoch: 3 step 800: 0.2207755744457245\n",
            "Loss at epoch: 3 step 900: 0.18663683533668518\n",
            "Loss at epoch: 3 step 1000: 0.42383548617362976\n",
            "Loss at epoch: 3 step 1100: 0.35530978441238403\n",
            "Loss at epoch: 3 step 1200: 0.16376742720603943\n",
            "Loss at epoch: 3 step 1300: 0.02230985462665558\n",
            "Loss at epoch: 3 step 1400: 0.3504030704498291\n",
            "Loss at epoch: 3 step 1500: 0.3572627007961273\n",
            "Val loss at epoch 3: 0.2512256021480472\n",
            "Val acc classes at epoch 3: 0.9566\n",
            "Val acc odd-even at epoch 3: 0.9713\n",
            "Loss at epoch: 4 step 0: 0.22425168752670288\n",
            "Loss at epoch: 4 step 100: 0.12960387766361237\n",
            "Loss at epoch: 4 step 200: 0.575524091720581\n",
            "Loss at epoch: 4 step 300: 0.4628834128379822\n",
            "Loss at epoch: 4 step 400: 0.10614953935146332\n",
            "Loss at epoch: 4 step 500: 0.11631712317466736\n",
            "Loss at epoch: 4 step 600: 0.41957443952560425\n",
            "Loss at epoch: 4 step 700: 0.4150654673576355\n",
            "Loss at epoch: 4 step 800: 0.31512176990509033\n",
            "Loss at epoch: 4 step 900: 0.05962524563074112\n",
            "Loss at epoch: 4 step 1000: 0.14544843137264252\n",
            "Loss at epoch: 4 step 1100: 0.01617368496954441\n",
            "Loss at epoch: 4 step 1200: 0.07700219005346298\n",
            "Loss at epoch: 4 step 1300: 0.07110446691513062\n",
            "Loss at epoch: 4 step 1400: 0.31522977352142334\n",
            "Loss at epoch: 4 step 1500: 0.02245749533176422\n",
            "Val loss at epoch 4: 0.22897480056284905\n",
            "Val acc classes at epoch 4: 0.9577\n",
            "Val acc odd-even at epoch 4: 0.9749\n",
            "Loss at epoch: 5 step 0: 0.2565925717353821\n",
            "Loss at epoch: 5 step 100: 0.4205728769302368\n",
            "Loss at epoch: 5 step 200: 0.052236609160900116\n",
            "Loss at epoch: 5 step 300: 0.015601163730025291\n",
            "Loss at epoch: 5 step 400: 0.33919718861579895\n",
            "Loss at epoch: 5 step 500: 0.05435863882303238\n",
            "Loss at epoch: 5 step 600: 0.13162745535373688\n",
            "Loss at epoch: 5 step 700: 0.053688257932662964\n",
            "Loss at epoch: 5 step 800: 0.08241724967956543\n",
            "Loss at epoch: 5 step 900: 0.0955101028084755\n",
            "Loss at epoch: 5 step 1000: 0.040013931691646576\n",
            "Loss at epoch: 5 step 1100: 0.10047151148319244\n",
            "Loss at epoch: 5 step 1200: 0.13119499385356903\n",
            "Loss at epoch: 5 step 1300: 0.09201381355524063\n",
            "Loss at epoch: 5 step 1400: 0.37840890884399414\n",
            "Loss at epoch: 5 step 1500: 0.08451564610004425\n",
            "Val loss at epoch 5: 0.22235044212520907\n",
            "Val acc classes at epoch 5: 0.9572\n",
            "Val acc odd-even at epoch 5: 0.9751\n",
            "Loss at epoch: 6 step 0: 0.30550438165664673\n",
            "Loss at epoch: 6 step 100: 0.1832994520664215\n",
            "Loss at epoch: 6 step 200: 0.02921357750892639\n",
            "Loss at epoch: 6 step 300: 0.028691735118627548\n",
            "Loss at epoch: 6 step 400: 0.11221645027399063\n",
            "Loss at epoch: 6 step 500: 0.17075088620185852\n",
            "Loss at epoch: 6 step 600: 0.107460156083107\n",
            "Loss at epoch: 6 step 700: 0.11259850859642029\n",
            "Loss at epoch: 6 step 800: 0.24252283573150635\n",
            "Loss at epoch: 6 step 900: 0.05394524708390236\n",
            "Loss at epoch: 6 step 1000: 0.062473710626363754\n",
            "Loss at epoch: 6 step 1100: 0.1144905611872673\n",
            "Loss at epoch: 6 step 1200: 0.1163925975561142\n",
            "Loss at epoch: 6 step 1300: 0.1168232411146164\n",
            "Loss at epoch: 6 step 1400: 0.4095282554626465\n",
            "Loss at epoch: 6 step 1500: 0.26795488595962524\n",
            "Val loss at epoch 6: 0.23302055364058089\n",
            "Val acc classes at epoch 6: 0.9573\n",
            "Val acc odd-even at epoch 6: 0.9695\n",
            "Loss at epoch: 7 step 0: 0.09559667110443115\n",
            "Loss at epoch: 7 step 100: 0.38581371307373047\n",
            "Loss at epoch: 7 step 200: 0.023280411958694458\n",
            "Loss at epoch: 7 step 300: 0.7394778728485107\n",
            "Loss at epoch: 7 step 400: 0.10927878320217133\n",
            "Loss at epoch: 7 step 500: 0.12282171845436096\n",
            "Loss at epoch: 7 step 600: 0.0586305633187294\n",
            "Loss at epoch: 7 step 700: 0.06475462019443512\n",
            "Loss at epoch: 7 step 800: 0.3432037830352783\n",
            "Loss at epoch: 7 step 900: 0.062252070754766464\n",
            "Loss at epoch: 7 step 1000: 0.136067733168602\n",
            "Loss at epoch: 7 step 1100: 0.07617596536874771\n",
            "Loss at epoch: 7 step 1200: 0.04334183782339096\n",
            "Loss at epoch: 7 step 1300: 0.07118524610996246\n",
            "Loss at epoch: 7 step 1400: 0.4357713460922241\n",
            "Loss at epoch: 7 step 1500: 0.047155894339084625\n",
            "Val loss at epoch 7: 0.21878023500578067\n",
            "Val acc classes at epoch 7: 0.9601\n",
            "Val acc odd-even at epoch 7: 0.9744\n",
            "Loss at epoch: 8 step 0: 0.6303451061248779\n",
            "Loss at epoch: 8 step 100: 0.3199723958969116\n",
            "Loss at epoch: 8 step 200: 0.08313138782978058\n",
            "Loss at epoch: 8 step 300: 0.17123165726661682\n",
            "Loss at epoch: 8 step 400: 0.08244388550519943\n",
            "Loss at epoch: 8 step 500: 0.36104530096054077\n",
            "Loss at epoch: 8 step 600: 0.15854862332344055\n",
            "Loss at epoch: 8 step 700: 0.37833723425865173\n",
            "Loss at epoch: 8 step 800: 0.03534739464521408\n",
            "Loss at epoch: 8 step 900: 0.0645587295293808\n",
            "Loss at epoch: 8 step 1000: 0.8748779296875\n",
            "Loss at epoch: 8 step 1100: 0.3734195828437805\n",
            "Loss at epoch: 8 step 1200: 0.15952540934085846\n",
            "Loss at epoch: 8 step 1300: 0.2516394257545471\n",
            "Loss at epoch: 8 step 1400: 0.020419076085090637\n",
            "Loss at epoch: 8 step 1500: 0.4302597641944885\n",
            "Val loss at epoch 8: 0.21274290570153143\n",
            "Val acc classes at epoch 8: 0.961\n",
            "Val acc odd-even at epoch 8: 0.9752\n",
            "Loss at epoch: 9 step 0: 0.017677482217550278\n",
            "Loss at epoch: 9 step 100: 0.12922190129756927\n",
            "Loss at epoch: 9 step 200: 0.6153907775878906\n",
            "Loss at epoch: 9 step 300: 0.05182332545518875\n",
            "Loss at epoch: 9 step 400: 0.07220568507909775\n",
            "Loss at epoch: 9 step 500: 0.7155600786209106\n",
            "Loss at epoch: 9 step 600: 0.1464545875787735\n",
            "Loss at epoch: 9 step 700: 0.16619394719600677\n",
            "Loss at epoch: 9 step 800: 0.22961875796318054\n",
            "Loss at epoch: 9 step 900: 0.05142393335700035\n",
            "Loss at epoch: 9 step 1000: 0.14205311238765717\n",
            "Loss at epoch: 9 step 1100: 0.2794401943683624\n",
            "Loss at epoch: 9 step 1200: 0.02518109418451786\n",
            "Loss at epoch: 9 step 1300: 0.07029305398464203\n",
            "Loss at epoch: 9 step 1400: 0.06751766800880432\n",
            "Loss at epoch: 9 step 1500: 0.15069830417633057\n",
            "Val loss at epoch 9: 0.22161444171685904\n",
            "Val acc classes at epoch 9: 0.9595\n",
            "Val acc odd-even at epoch 9: 0.9762\n"
          ]
        }
      ]
    },
    {
      "cell_type": "markdown",
      "metadata": {
        "id": "SaPKmNrDIjsN"
      },
      "source": [
        "## Úloha 1\n",
        "\n",
        "Napíšte kód ktorý natrénuje sieť, ktorá naopak bude mať na vstupe dva obrázky a z nich spočíta či je ich súčet párny alebo nepárny. Implementujte sieť tak aby mala dve samostatné vetvy na výpočet. Môžete sa pritom rozhodnúť, či chcete aby napríklad obe vetvy mali zdieľané, alebo samostatné váhy.\n",
        "\n",
        "Potom vetvy spojíte a aplikujete aspoň jednu ďalšiu skrytú vrstvu. Na spojenie vetiev môžete použiť napríklad torch.cat\n"
      ]
    },
    {
      "cell_type": "code",
      "metadata": {
        "id": "egiYjRxZI850"
      },
      "source": [
        "class TwoInputNet(Module):\n",
        "  def __init__(self):\n",
        "    super(TwoInputNet, self).__init__()\n",
        "    self.fc1 = Linear(28 * 28, 30)\n",
        "    self.fc2 = Linear(30, 20)\n",
        "    self.fc3 = Linear(40, 10)\n",
        "    self.fc_odd_even = Linear(10, 1)\n",
        "        \n",
        "  def forward(self, input):\n",
        "    x_1, x_2 = input\n",
        "    x_1 = self.fc1(x_1)\n",
        "    x_1 = relu(x_1)\n",
        "    x_1 = self.fc2(x_1)\n",
        "    x_1 = relu(x_1)\n",
        "    \n",
        "    x_2 = self.fc1(x_2)\n",
        "    x_2 = relu(x_2)\n",
        "    x_2 = self.fc2(x_2)\n",
        "    x_2 = relu(x_2)\n",
        "\n",
        "    x = torch.cat([x_1, x_2], dim=-1)\n",
        "    x = self.fc3(x)\n",
        "    x = relu(x)\n",
        "\n",
        "    x_odd_even = self.fc_odd_even(x)\n",
        "    x_odd_even = torch.sigmoid(x_odd_even)\n",
        "\n",
        "    return x_odd_even"
      ],
      "execution_count": null,
      "outputs": []
    },
    {
      "cell_type": "markdown",
      "metadata": {
        "id": "DCxIQ1NfKDzj"
      },
      "source": [
        "V rámci trénovania vám trocha pomôžem s tým ako generovať páry dát. Spravíme si dva generátory a oba budú vždy vyhadzovať náhodné čísla. V tomto prípade budeme náhodne premiešavať aj validačnú množinu aby sme nemali len rovnaké páry.\n",
        "\n"
      ]
    },
    {
      "cell_type": "code",
      "metadata": {
        "colab": {
          "base_uri": "https://localhost:8080/"
        },
        "id": "8vRMWSh2KLsd",
        "outputId": "7c5c46bc-7c98-4eaf-b06d-ef0c36177c08"
      },
      "source": [
        "data_train = TensorDataset(images[:50000], labels[:50000])\n",
        "dataloader_train_1 = DataLoader(data_train, batch_size=32, shuffle=True)\n",
        "dataloader_train_2 = DataLoader(data_train, batch_size=32, shuffle=True)\n",
        "\n",
        "data_val = TensorDataset(images[50000:60000], labels[50000:60000])\n",
        "dataloader_val_1 = DataLoader(data_val, batch_size=32, shuffle=True)\n",
        "dataloader_val_2 = DataLoader(data_val, batch_size=32, shuffle=True)\n",
        "\n",
        "model = TwoInputNet()\n",
        "\n",
        "binary_loss = torch.nn.BCELoss()\n",
        "\n",
        "optimizer = torch.optim.SGD(model.parameters(), lr=1e-1)\n",
        "\n",
        "for e in range(10):\n",
        "  model.train()\n",
        "  for i, batch in enumerate(zip(dataloader_train_1, dataloader_train_2)):  \n",
        "    x_1, y_1 = batch[0]\n",
        "    x_2, y_2 = batch[1]\n",
        "    optimizer.zero_grad()\n",
        "\n",
        "    # print((y_1 + y_2) % 2)\n",
        "\n",
        "    out_odd_even = model([x_1, x_2])\n",
        "\n",
        "    # print(out_odd_even)\n",
        "    # print(((y_1 + y_2) % 2).float())\n",
        "\n",
        "    loss = binary_loss(torch.squeeze(out_odd_even), ((y_1 + y_2) % 2).float())\n",
        "    loss.backward()    \n",
        "    optimizer.step()\n",
        "    if i % 100 == 0:\n",
        "      print(\"Loss at epoch: {} step {}: {}\".format(e, i, loss.item()))\n",
        "\n",
        "  model.eval()\n",
        "  with torch.no_grad():\n",
        "    val_losses = []\n",
        "    correct_odd_even = 0\n",
        "    for i, batch in enumerate(zip(dataloader_val_1, dataloader_val_2)):  \n",
        "      x_1, y_1 = batch[0]\n",
        "      x_2, y_2 = batch[1]\n",
        "\n",
        "      out_odd_even = model([x_1, x_2])\n",
        "      loss = binary_loss(torch.squeeze(out_odd_even), ((y_1 + y_2) % 2).float())\n",
        "      acc_odd_even = torch.sum(torch.where(torch.squeeze(out_odd_even) > 0.5, 1, 0) == ((y_1 + y_2) % 2).float())\n",
        "      correct_odd_even += acc_odd_even.item()\n",
        "      val_losses.append(loss.item())\n",
        "\n",
        "    print(\"Val loss at epoch {}: {}\".format(e, np.mean(val_losses)))\n",
        "    print(\"Val acc odd-even at epoch {}: {}\".format(e, correct_odd_even / 10000))"
      ],
      "execution_count": null,
      "outputs": [
        {
          "output_type": "stream",
          "name": "stdout",
          "text": [
            "Loss at epoch: 0 step 0: 0.7096297740936279\n",
            "Loss at epoch: 0 step 100: 0.690952718257904\n",
            "Loss at epoch: 0 step 200: 0.6962766647338867\n",
            "Loss at epoch: 0 step 300: 0.6897329092025757\n",
            "Loss at epoch: 0 step 400: 0.6894941329956055\n",
            "Loss at epoch: 0 step 500: 0.6921901106834412\n",
            "Loss at epoch: 0 step 600: 0.6822152137756348\n",
            "Loss at epoch: 0 step 700: 0.6679292917251587\n",
            "Loss at epoch: 0 step 800: 0.5897372961044312\n",
            "Loss at epoch: 0 step 900: 0.764074981212616\n",
            "Loss at epoch: 0 step 1000: 0.5931951999664307\n",
            "Loss at epoch: 0 step 1100: 0.4647563397884369\n",
            "Loss at epoch: 0 step 1200: 0.23349106311798096\n",
            "Loss at epoch: 0 step 1300: 0.24495461583137512\n",
            "Loss at epoch: 0 step 1400: 0.41935476660728455\n",
            "Loss at epoch: 0 step 1500: 0.28387704491615295\n",
            "Val loss at epoch 0: 0.2206892087912788\n",
            "Val acc odd-even at epoch 0: 0.9163\n",
            "Loss at epoch: 1 step 0: 0.22499622404575348\n",
            "Loss at epoch: 1 step 100: 0.11958836019039154\n",
            "Loss at epoch: 1 step 200: 0.273111492395401\n",
            "Loss at epoch: 1 step 300: 0.10906597226858139\n",
            "Loss at epoch: 1 step 400: 0.23113895952701569\n",
            "Loss at epoch: 1 step 500: 0.32810917496681213\n",
            "Loss at epoch: 1 step 600: 0.27493786811828613\n",
            "Loss at epoch: 1 step 700: 0.1655968725681305\n",
            "Loss at epoch: 1 step 800: 0.21540500223636627\n",
            "Loss at epoch: 1 step 900: 0.16913649439811707\n",
            "Loss at epoch: 1 step 1000: 0.17988497018814087\n",
            "Loss at epoch: 1 step 1100: 0.03503362834453583\n",
            "Loss at epoch: 1 step 1200: 0.19802089035511017\n",
            "Loss at epoch: 1 step 1300: 0.23307158052921295\n",
            "Loss at epoch: 1 step 1400: 0.2603113353252411\n",
            "Loss at epoch: 1 step 1500: 0.05843907594680786\n",
            "Val loss at epoch 1: 0.1668020416491519\n",
            "Val acc odd-even at epoch 1: 0.9375\n",
            "Loss at epoch: 2 step 0: 0.19914114475250244\n",
            "Loss at epoch: 2 step 100: 0.036143459379673004\n",
            "Loss at epoch: 2 step 200: 0.22447112202644348\n",
            "Loss at epoch: 2 step 300: 0.041251908987760544\n",
            "Loss at epoch: 2 step 400: 0.1865898221731186\n",
            "Loss at epoch: 2 step 500: 0.04306716471910477\n",
            "Loss at epoch: 2 step 600: 0.06805476546287537\n",
            "Loss at epoch: 2 step 700: 0.2756041884422302\n",
            "Loss at epoch: 2 step 800: 0.041949883103370667\n",
            "Loss at epoch: 2 step 900: 0.04241123050451279\n",
            "Loss at epoch: 2 step 1000: 0.059379030019044876\n",
            "Loss at epoch: 2 step 1100: 0.10137602686882019\n",
            "Loss at epoch: 2 step 1200: 0.24593830108642578\n",
            "Loss at epoch: 2 step 1300: 0.09359152615070343\n",
            "Loss at epoch: 2 step 1400: 0.054934337735176086\n",
            "Loss at epoch: 2 step 1500: 0.03276051580905914\n",
            "Val loss at epoch 2: 0.1326249689310075\n",
            "Val acc odd-even at epoch 2: 0.9526\n",
            "Loss at epoch: 3 step 0: 0.22447176277637482\n",
            "Loss at epoch: 3 step 100: 0.11832662671804428\n",
            "Loss at epoch: 3 step 200: 0.02068897895514965\n",
            "Loss at epoch: 3 step 300: 0.022476254031062126\n",
            "Loss at epoch: 3 step 400: 0.12948890030384064\n",
            "Loss at epoch: 3 step 500: 0.0750286802649498\n",
            "Loss at epoch: 3 step 600: 0.04086989536881447\n",
            "Loss at epoch: 3 step 700: 0.02138957940042019\n",
            "Loss at epoch: 3 step 800: 0.2303965538740158\n",
            "Loss at epoch: 3 step 900: 0.04148482531309128\n",
            "Loss at epoch: 3 step 1000: 0.016014764085412025\n",
            "Loss at epoch: 3 step 1100: 0.010737976990640163\n",
            "Loss at epoch: 3 step 1200: 0.1702800989151001\n",
            "Loss at epoch: 3 step 1300: 0.04124348610639572\n",
            "Loss at epoch: 3 step 1400: 0.02507028914988041\n",
            "Loss at epoch: 3 step 1500: 0.023433972150087357\n",
            "Val loss at epoch 3: 0.1276488381068999\n",
            "Val acc odd-even at epoch 3: 0.9581\n",
            "Loss at epoch: 4 step 0: 0.05473819375038147\n",
            "Loss at epoch: 4 step 100: 0.2896585166454315\n",
            "Loss at epoch: 4 step 200: 0.09176137298345566\n",
            "Loss at epoch: 4 step 300: 0.01510364469140768\n",
            "Loss at epoch: 4 step 400: 0.07899918407201767\n",
            "Loss at epoch: 4 step 500: 0.0068443696945905685\n",
            "Loss at epoch: 4 step 600: 0.054933592677116394\n",
            "Loss at epoch: 4 step 700: 0.029293105006217957\n",
            "Loss at epoch: 4 step 800: 0.012540940195322037\n",
            "Loss at epoch: 4 step 900: 0.015249637886881828\n",
            "Loss at epoch: 4 step 1000: 0.015398269519209862\n",
            "Loss at epoch: 4 step 1100: 0.03839287534356117\n",
            "Loss at epoch: 4 step 1200: 0.04242921248078346\n",
            "Loss at epoch: 4 step 1300: 0.06153380870819092\n",
            "Loss at epoch: 4 step 1400: 0.013406366109848022\n",
            "Loss at epoch: 4 step 1500: 0.01976710371673107\n",
            "Val loss at epoch 4: 0.11619725553824688\n",
            "Val acc odd-even at epoch 4: 0.9627\n",
            "Loss at epoch: 5 step 0: 0.09937168657779694\n",
            "Loss at epoch: 5 step 100: 0.010136929340660572\n",
            "Loss at epoch: 5 step 200: 0.03027578815817833\n",
            "Loss at epoch: 5 step 300: 0.08407575637102127\n",
            "Loss at epoch: 5 step 400: 0.04241199046373367\n",
            "Loss at epoch: 5 step 500: 0.07243353128433228\n",
            "Loss at epoch: 5 step 600: 0.027740946039557457\n",
            "Loss at epoch: 5 step 700: 0.018085287883877754\n",
            "Loss at epoch: 5 step 800: 0.024711597710847855\n",
            "Loss at epoch: 5 step 900: 0.02172411046922207\n",
            "Loss at epoch: 5 step 1000: 0.08210000395774841\n",
            "Loss at epoch: 5 step 1100: 0.06970237195491791\n",
            "Loss at epoch: 5 step 1200: 0.10840541869401932\n",
            "Loss at epoch: 5 step 1300: 0.1377980262041092\n",
            "Loss at epoch: 5 step 1400: 0.027636317536234856\n",
            "Loss at epoch: 5 step 1500: 0.011494865640997887\n",
            "Val loss at epoch 5: 0.11854734594752185\n",
            "Val acc odd-even at epoch 5: 0.9618\n",
            "Loss at epoch: 6 step 0: 0.16572533547878265\n",
            "Loss at epoch: 6 step 100: 0.004203422926366329\n",
            "Loss at epoch: 6 step 200: 0.07511759549379349\n",
            "Loss at epoch: 6 step 300: 0.03766601160168648\n",
            "Loss at epoch: 6 step 400: 0.02765783481299877\n",
            "Loss at epoch: 6 step 500: 0.043275319039821625\n",
            "Loss at epoch: 6 step 600: 0.026421280577778816\n",
            "Loss at epoch: 6 step 700: 0.16089065372943878\n",
            "Loss at epoch: 6 step 800: 0.1364138275384903\n",
            "Loss at epoch: 6 step 900: 0.09484957903623581\n",
            "Loss at epoch: 6 step 1000: 0.0066339182667434216\n",
            "Loss at epoch: 6 step 1100: 0.048676032572984695\n",
            "Loss at epoch: 6 step 1200: 0.12287785857915878\n",
            "Loss at epoch: 6 step 1300: 0.07308182865381241\n",
            "Loss at epoch: 6 step 1400: 0.0896686315536499\n",
            "Loss at epoch: 6 step 1500: 0.09768527746200562\n",
            "Val loss at epoch 6: 0.13625276594544752\n",
            "Val acc odd-even at epoch 6: 0.9614\n",
            "Loss at epoch: 7 step 0: 0.11185853183269501\n",
            "Loss at epoch: 7 step 100: 0.008817916736006737\n",
            "Loss at epoch: 7 step 200: 0.14689470827579498\n",
            "Loss at epoch: 7 step 300: 0.01815301738679409\n",
            "Loss at epoch: 7 step 400: 0.025350484997034073\n",
            "Loss at epoch: 7 step 500: 0.11965366452932358\n",
            "Loss at epoch: 7 step 600: 0.006058178376406431\n",
            "Loss at epoch: 7 step 700: 0.04114418104290962\n",
            "Loss at epoch: 7 step 800: 0.04847816377878189\n",
            "Loss at epoch: 7 step 900: 0.13945937156677246\n",
            "Loss at epoch: 7 step 1000: 0.011007897555828094\n",
            "Loss at epoch: 7 step 1100: 0.0064957463182508945\n",
            "Loss at epoch: 7 step 1200: 0.02723577246069908\n",
            "Loss at epoch: 7 step 1300: 0.001623931690119207\n",
            "Loss at epoch: 7 step 1400: 0.10883929580450058\n",
            "Loss at epoch: 7 step 1500: 0.026971226558089256\n",
            "Val loss at epoch 7: 0.12505855535256702\n",
            "Val acc odd-even at epoch 7: 0.964\n",
            "Loss at epoch: 8 step 0: 0.0303708054125309\n",
            "Loss at epoch: 8 step 100: 0.12016773223876953\n",
            "Loss at epoch: 8 step 200: 0.03138722851872444\n",
            "Loss at epoch: 8 step 300: 0.039121612906455994\n",
            "Loss at epoch: 8 step 400: 0.0697997659444809\n",
            "Loss at epoch: 8 step 500: 0.004427499137818813\n",
            "Loss at epoch: 8 step 600: 0.04428093880414963\n",
            "Loss at epoch: 8 step 700: 0.004132668953388929\n",
            "Loss at epoch: 8 step 800: 0.03079443797469139\n",
            "Loss at epoch: 8 step 900: 0.036374520510435104\n",
            "Loss at epoch: 8 step 1000: 0.01143575832247734\n",
            "Loss at epoch: 8 step 1100: 0.06846168637275696\n",
            "Loss at epoch: 8 step 1200: 0.021737100556492805\n",
            "Loss at epoch: 8 step 1300: 0.007880950346589088\n",
            "Loss at epoch: 8 step 1400: 0.08887435495853424\n",
            "Loss at epoch: 8 step 1500: 0.02473462000489235\n",
            "Val loss at epoch 8: 0.1412165758182137\n",
            "Val acc odd-even at epoch 8: 0.9599\n",
            "Loss at epoch: 9 step 0: 0.04545106738805771\n",
            "Loss at epoch: 9 step 100: 0.010066131129860878\n",
            "Loss at epoch: 9 step 200: 0.00337526248767972\n",
            "Loss at epoch: 9 step 300: 0.01021191943436861\n",
            "Loss at epoch: 9 step 400: 0.008906903676688671\n",
            "Loss at epoch: 9 step 500: 0.027013693004846573\n",
            "Loss at epoch: 9 step 600: 0.03714077174663544\n",
            "Loss at epoch: 9 step 700: 0.017354663461446762\n",
            "Loss at epoch: 9 step 800: 0.033547330647706985\n",
            "Loss at epoch: 9 step 900: 0.013181183487176895\n",
            "Loss at epoch: 9 step 1000: 0.03389526903629303\n",
            "Loss at epoch: 9 step 1100: 0.023535119369626045\n",
            "Loss at epoch: 9 step 1200: 0.09646473824977875\n",
            "Loss at epoch: 9 step 1300: 0.003051438368856907\n",
            "Loss at epoch: 9 step 1400: 0.0039611998945474625\n",
            "Loss at epoch: 9 step 1500: 0.05495617166161537\n",
            "Val loss at epoch 9: 0.14071204986281174\n",
            "Val acc odd-even at epoch 9: 0.963\n"
          ]
        }
      ]
    },
    {
      "cell_type": "markdown",
      "metadata": {
        "id": "eVFX_cUFa2Ly"
      },
      "source": [
        "## Úloha 2\n",
        "\n",
        "Pre túto aj ďalšie úlohy budeme modifikovať kód siete uvedený nižšie. Takisto sa vrátime k datasetu Cifar-10\n",
        "\n",
        "V tejto úlohe bude cieľom vytvoriť tzv. reziduálne prepojenie. To je charakterizované ako sčítanie výstupu jednej vrstvy s nejakou vrstvou ktorá je v modeli neskôr. Na to aby to šlo samozrejme musia mať rovnaké rozmery. Pri konvolúciach potom používame padding='same'. Ak chceme mať rôzny počet kanálov, tak použijeme $1 \\times 1$ konvolúciu.\n",
        "\n",
        "![alt text](https://miro.medium.com/max/1226/1*zS2ChIMwAqC5DQbL5yD9iQ.png)\n",
        "\n",
        "Ako Bonus si môžete napísať vlastný modul, ktorý bude reprezentovať len jeden reziduálny blok. Ten potom budete volať vrámci modulu siete.\n"
      ]
    },
    {
      "cell_type": "code",
      "metadata": {
        "id": "eVpQub0YbHV8",
        "colab": {
          "base_uri": "https://localhost:8080/"
        },
        "outputId": "b3c7e3ec-8ee4-476f-e524-e6afc2dd4a4b"
      },
      "source": [
        "classes = ('plane', 'car', 'bird', 'cat', 'deer', 'dog', 'frog', 'horse', 'ship', 'truck')\n",
        "\n",
        "transform = transforms.ToTensor()\n",
        "\n",
        "dataset = torchvision.datasets.CIFAR10(root='./data', train=True, download=True, transform=transform)\n",
        "testset = torchvision.datasets.CIFAR10(root='./data', train=False, download=True, transform=transform)\n",
        "\n",
        "trainset, valset = torch.utils.data.random_split(dataset, [45000, 5000], generator=torch.Generator().manual_seed(42))"
      ],
      "execution_count": null,
      "outputs": [
        {
          "output_type": "stream",
          "name": "stdout",
          "text": [
            "Files already downloaded and verified\n",
            "Files already downloaded and verified\n"
          ]
        }
      ]
    },
    {
      "cell_type": "code",
      "metadata": {
        "colab": {
          "base_uri": "https://localhost:8080/"
        },
        "id": "exFw3F4IcCiE",
        "outputId": "c30e9e1c-234b-4b0f-913f-f2b089f813ae"
      },
      "source": [
        "from torch.nn import Module, Conv2d, Linear\n",
        "from torch.nn.functional import relu, max_pool2d\n",
        "\n",
        "class MyResidualNet(Module):\n",
        "  def __init__(self):\n",
        "    super(MyResidualNet, self).__init__()\n",
        "\n",
        "    self.init_conv = Conv2d(3, 64, 5, stride=2)\n",
        "\n",
        "    self.conv_1 = Conv2d(64, 64, 3, padding='same')\n",
        "    self.conv_2 = Conv2d(64, 64, 3, padding='same')\n",
        "\n",
        "\n",
        "    self.conv_3 = Conv2d(64, 64, 3, padding='same')\n",
        "    self.conv_4 = Conv2d(64, 64, 3, padding='same')\n",
        "\n",
        "    self.conv_5 = Conv2d(64, 64, 3, padding='same')\n",
        "    self.conv_6 = Conv2d(64, 64, 3, padding='same')\n",
        "\n",
        "    self.fc1 = Linear(64, 32)\n",
        "    self.fc2 = Linear(32, 10)\n",
        "\n",
        "  def forward(self, x):\n",
        "    x = self.init_conv(x)\n",
        "    x = relu(x)\n",
        "\n",
        "    x_in = self.conv_1(x)\n",
        "    x_in = relu(x_in)\n",
        "    x_in = self.conv_2(x_in)\n",
        "\n",
        "    x = x_in + x\n",
        "    x = max_pool2d(x, 2)\n",
        "    x = relu(x)\n",
        "\n",
        "    x_in = self.conv_3(x)\n",
        "    x_in = relu(x_in)\n",
        "    x_in = self.conv_4(x_in)\n",
        "\n",
        "    x = x_in + x\n",
        "    x = max_pool2d(x, 2)\n",
        "    x = relu(x)\n",
        "\n",
        "    x_in = self.conv_5(x)\n",
        "    x_in = relu(x_in)\n",
        "    x_in = self.conv_6(x_in)\n",
        "\n",
        "    x = x_in + x\n",
        "    x = torch.mean(x, dim=-1)    \n",
        "    x = torch.mean(x, dim=-1)\n",
        "\n",
        "    x = self.fc1(x)\n",
        "    x = relu(x)\n",
        "    x = self.fc2(x)\n",
        "\n",
        "    return x\n",
        "\n",
        "model = MyResidualNet().float()\n",
        "model(torch.ones([1, 3, 32, 32]))"
      ],
      "execution_count": null,
      "outputs": [
        {
          "output_type": "execute_result",
          "data": {
            "text/plain": [
              "tensor([[ 0.1925,  0.3073,  0.0763, -0.0048, -0.0365,  0.1906,  0.1274, -0.1787,\n",
              "         -0.0661,  0.2457]], grad_fn=<AddmmBackward>)"
            ]
          },
          "metadata": {},
          "execution_count": 21
        }
      ]
    },
    {
      "cell_type": "code",
      "metadata": {
        "colab": {
          "base_uri": "https://localhost:8080/"
        },
        "id": "sbdNPJ7DnNRy",
        "outputId": "ead1a446-7b72-4418-ce95-6cfa451cda9a"
      },
      "source": [
        "from torch.nn import Module, Conv2d, Linear\n",
        "from torch.nn.functional import relu, max_pool2d\n",
        "\n",
        "class ResidualBlock(Module):\n",
        "  def __init__(self, in_channels, h_channels, reduce_vol=False):\n",
        "    super(ResidualBlock, self).__init__()\n",
        "    self.reduce_vol = reduce_vol\n",
        "\n",
        "\n",
        "    if reduce_vol:\n",
        "      self.conv_1 = Conv2d(in_channels, h_channels, 3, stride=2)\n",
        "    else:\n",
        "      self.conv_1 = Conv2d(in_channels, h_channels, 3, padding='same')\n",
        "    self.conv_2 = Conv2d(h_channels, h_channels, 3, padding='same')\n",
        "    self.conv_3 = Conv2d(h_channels, in_channels, 1)\n",
        "\n",
        "    if reduce_vol:\n",
        "      self.conv_connect = Conv2d(in_channels, in_channels, 3, stride=2)\n",
        "\n",
        "  def forward(self, x):\n",
        "    y = self.conv_1(x)\n",
        "    y = relu(y)\n",
        "    y = self.conv_2(y)\n",
        "    y = relu(y)\n",
        "    y = self.conv_3(y)\n",
        "\n",
        "    if self.reduce_vol:\n",
        "      x = y + self.conv_connect(x)\n",
        "    else:\n",
        "      x = y + x\n",
        "    \n",
        "    return relu(x)\n",
        "\n",
        "\n",
        "class MyResidualNet(Module):\n",
        "  def __init__(self):\n",
        "    super(MyResidualNet, self).__init__()\n",
        "\n",
        "    self.init_conv = Conv2d(3, 64, 3)\n",
        "\n",
        "    self.block_1 = ResidualBlock(64, 32)\n",
        "    self.block_2 = ResidualBlock(64, 32, reduce_vol=True)\n",
        "    self.block_3 = ResidualBlock(64, 64)\n",
        "    self.block_4 = ResidualBlock(64, 64, reduce_vol=True)\n",
        "    self.block_5 = ResidualBlock(64, 128)\n",
        "    self.block_6 = ResidualBlock(64, 128, reduce_vol=True)\n",
        "    self.fc1 = Linear(64, 32)\n",
        "    self.fc2 = Linear(32, 10)\n",
        "\n",
        "  def forward(self, x):\n",
        "    x = self.init_conv(x)\n",
        "    x = self.block_1(x)\n",
        "    x = self.block_2(x)\n",
        "    x = self.block_3(x)\n",
        "    x = self.block_4(x)\n",
        "    x = self.block_5(x)\n",
        "    x = self.block_6(x)\n",
        "\n",
        "    x = torch.mean(x, dim=-1)    \n",
        "    x = torch.mean(x, dim=-1)\n",
        "\n",
        "    x = self.fc1(x)\n",
        "    x = relu(x)\n",
        "    x = self.fc2(x)\n",
        "\n",
        "    return x\n",
        "\n",
        "model = MyResidualNet().float()\n",
        "model(torch.ones([1, 3, 32, 32]))"
      ],
      "execution_count": null,
      "outputs": [
        {
          "output_type": "execute_result",
          "data": {
            "text/plain": [
              "tensor([[ 0.0456,  0.1635, -0.1084, -0.1269,  0.1298, -0.0676, -0.1986,  0.1255,\n",
              "         -0.0218,  0.0832]], grad_fn=<AddmmBackward>)"
            ]
          },
          "metadata": {},
          "execution_count": 22
        }
      ]
    },
    {
      "cell_type": "code",
      "metadata": {
        "id": "v8-4rDg_vAXi"
      },
      "source": [
        "from torch.utils.tensorboard import SummaryWriter\n",
        "\n",
        "model = MyResidualNet()\n",
        "writer = SummaryWriter('tb/residual')\n",
        "writer.add_graph(model, torch.ones([1, 3, 32, 32]))\n",
        "writer.close()"
      ],
      "execution_count": null,
      "outputs": []
    },
    {
      "cell_type": "code",
      "metadata": {
        "id": "AbIHq3V_vF3R"
      },
      "source": [
        "!kill 2173\n",
        "%tensorboard --logdir tb"
      ],
      "execution_count": null,
      "outputs": []
    },
    {
      "cell_type": "code",
      "metadata": {
        "colab": {
          "base_uri": "https://localhost:8080/",
          "height": 1000
        },
        "id": "cjs1oPwKlPUu",
        "outputId": "a6361daf-5ced-477a-8e4e-3e5e7dcf6a99"
      },
      "source": [
        "batch_size = 32\n",
        "\n",
        "dataloader_train = torch.utils.data.DataLoader(trainset, batch_size=batch_size, shuffle=True)\n",
        "dataloader_val = torch.utils.data.DataLoader(valset, batch_size=batch_size, shuffle=False)\n",
        "\n",
        "device = torch.device(\"cuda:0\" if torch.cuda.is_available() else \"cpu\")\n",
        "print(\"Using device: \", device)\n",
        "\n",
        "ce_loss = torch.nn.CrossEntropyLoss().to(device)\n",
        "\n",
        "model = MyResidualNet()\n",
        "\n",
        "model.to(device)\n",
        "\n",
        "optimizer = torch.optim.Adam(model.parameters(), lr=1e-3)\n",
        "\n",
        "epoch_train_losses = []\n",
        "epoch_val_losses = []\n",
        "epoch_val_accs = []\n",
        "\n",
        "for e in range(5):\n",
        "  train_loss, val_loss, val_acc = one_epoch(model, loss, optimizer, dataloader_train, dataloader_val)\n",
        "\n",
        "  print(\"Val loss at epoch {}: {}\".format(e, val_loss))\n",
        "  print(\"Val acc at epoch {}: {}\".format(e, val_acc))\n",
        "\n",
        "  epoch_train_losses.append(train_loss)\n",
        "  epoch_val_losses.append(val_loss)\n",
        "  epoch_val_accs.append(val_acc)\n",
        "  \n",
        "plt.plot(epoch_train_losses, c='r')\n",
        "plt.plot(epoch_val_losses, c='b')\n",
        "plt.show()"
      ],
      "execution_count": null,
      "outputs": [
        {
          "output_type": "stream",
          "name": "stdout",
          "text": [
            "Using device:  cuda:0\n",
            "Training loss at step 0: 2.3186142444610596\n",
            "Training loss at step 100: 2.1517090797424316\n",
            "Training loss at step 200: 2.1696412563323975\n",
            "Training loss at step 300: 2.0168328285217285\n",
            "Training loss at step 400: 1.8944581747055054\n",
            "Training loss at step 500: 1.955549955368042\n",
            "Training loss at step 600: 1.7275630235671997\n",
            "Training loss at step 700: 2.016761302947998\n",
            "Training loss at step 800: 1.7216674089431763\n",
            "Training loss at step 900: 1.4549651145935059\n",
            "Training loss at step 1000: 1.4999443292617798\n",
            "Training loss at step 1100: 1.7027264833450317\n",
            "Training loss at step 1200: 1.5132019519805908\n",
            "Training loss at step 1300: 1.5316795110702515\n",
            "Training loss at step 1400: 1.613239049911499\n",
            "Val loss at epoch 0: 1.5176005082525266\n",
            "Val acc at epoch 0: 0.4314\n",
            "Training loss at step 0: 1.504668116569519\n",
            "Training loss at step 100: 1.2654619216918945\n",
            "Training loss at step 200: 1.2909421920776367\n",
            "Training loss at step 300: 1.7109636068344116\n",
            "Training loss at step 400: 1.4420477151870728\n",
            "Training loss at step 500: 1.382997751235962\n",
            "Training loss at step 600: 1.2786823511123657\n",
            "Training loss at step 700: 1.2670925855636597\n",
            "Training loss at step 800: 1.3990293741226196\n",
            "Training loss at step 900: 1.0608786344528198\n",
            "Training loss at step 1000: 1.1877284049987793\n",
            "Training loss at step 1100: 1.3210281133651733\n",
            "Training loss at step 1200: 1.181842565536499\n",
            "Training loss at step 1300: 1.3175249099731445\n",
            "Training loss at step 1400: 1.0890655517578125\n",
            "Val loss at epoch 1: 1.2145983295835507\n",
            "Val acc at epoch 1: 0.5504\n",
            "Training loss at step 0: 1.1364363431930542\n",
            "Training loss at step 100: 0.895139753818512\n",
            "Training loss at step 200: 1.1632905006408691\n",
            "Training loss at step 300: 0.8444422483444214\n",
            "Training loss at step 400: 1.1215834617614746\n",
            "Training loss at step 500: 0.5782034993171692\n",
            "Training loss at step 600: 1.0265341997146606\n",
            "Training loss at step 700: 1.4446616172790527\n",
            "Training loss at step 800: 1.0993298292160034\n",
            "Training loss at step 900: 1.0569393634796143\n",
            "Training loss at step 1000: 1.2273236513137817\n",
            "Training loss at step 1100: 0.9934115409851074\n",
            "Training loss at step 1200: 1.0313377380371094\n",
            "Training loss at step 1300: 0.8883426189422607\n",
            "Training loss at step 1400: 1.1664071083068848\n",
            "Val loss at epoch 2: 1.0328061284532972\n",
            "Val acc at epoch 2: 0.6294\n",
            "Training loss at step 0: 0.9793376922607422\n",
            "Training loss at step 100: 1.064704418182373\n",
            "Training loss at step 200: 1.2060552835464478\n",
            "Training loss at step 300: 0.6063884496688843\n",
            "Training loss at step 400: 0.8354182839393616\n",
            "Training loss at step 500: 0.7009984254837036\n",
            "Training loss at step 600: 0.8982594609260559\n",
            "Training loss at step 700: 0.8648231625556946\n",
            "Training loss at step 800: 0.8582100868225098\n",
            "Training loss at step 900: 0.8698133826255798\n",
            "Training loss at step 1000: 0.6918774843215942\n",
            "Training loss at step 1100: 0.9631494283676147\n",
            "Training loss at step 1200: 0.8886836767196655\n",
            "Training loss at step 1300: 0.8888985514640808\n",
            "Training loss at step 1400: 1.0769705772399902\n",
            "Val loss at epoch 3: 0.9242901168051799\n",
            "Val acc at epoch 3: 0.6724\n",
            "Training loss at step 0: 0.8563225269317627\n",
            "Training loss at step 100: 0.9232783913612366\n",
            "Training loss at step 200: 1.0874409675598145\n",
            "Training loss at step 300: 0.8863593935966492\n",
            "Training loss at step 400: 0.6282710433006287\n",
            "Training loss at step 500: 1.1761820316314697\n",
            "Training loss at step 600: 0.7814184427261353\n",
            "Training loss at step 700: 0.8545185923576355\n",
            "Training loss at step 800: 0.7243956923484802\n",
            "Training loss at step 900: 0.9778610467910767\n",
            "Training loss at step 1000: 0.8068710565567017\n",
            "Training loss at step 1100: 0.6752998232841492\n",
            "Training loss at step 1200: 0.8417128920555115\n",
            "Training loss at step 1300: 0.9727779030799866\n",
            "Training loss at step 1400: 0.8552549481391907\n",
            "Val loss at epoch 4: 0.9610391889408136\n",
            "Val acc at epoch 4: 0.669\n"
          ]
        },
        {
          "output_type": "display_data",
          "data": {
            "image/png": "[encoded data removed]",
            "text/plain": [
              "<Figure size 432x288 with 1 Axes>"
            ]
          },
          "metadata": {
            "needs_background": "light"
          }
        }
      ]
    }
  ]
}