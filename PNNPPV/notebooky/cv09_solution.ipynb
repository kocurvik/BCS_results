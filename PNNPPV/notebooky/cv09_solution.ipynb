{
  "nbformat": 4,
  "nbformat_minor": 0,
  "metadata": {
    "colab": {
      "name": "cv09-solution.ipynb",
      "provenance": [],
      "collapsed_sections": [],
      "toc_visible": true,
      "include_colab_link": true
    },
    "kernelspec": {
      "name": "python3",
      "display_name": "Python 3"
    },
    "accelerator": "GPU"
  },
  "cells": [
    {
      "cell_type": "markdown",
      "metadata": {
        "id": "view-in-github",
        "colab_type": "text"
      },
      "source": [
        "<a href=\"https://colab.research.google.com/github/kocurvik/BCS_results/blob/master/PNNPPV/notebooky/cv09_solution.ipynb\" target=\"_parent\"><img src=\"https://colab.research.google.com/assets/colab-badge.svg\" alt=\"Open In Colab\"/></a>"
      ]
    },
    {
      "cell_type": "markdown",
      "metadata": {
        "id": "ZeMUn91mTYUB"
      },
      "source": [
        "# 9. Cvičenie - Rekurentné siete\n",
        "\n",
        "Na dnešnom cvičení si precvičíme prácu s rekurentnými sieťami. Vytvoríme si mierne umelý príklad, v ktorom skonštruujeme veľké číslo zo sekvencie MNIST čísel a vrátime honotu po aplikácii modula nejakým číslom (ideálne prvočíslo nad 10). "
      ]
    },
    {
      "cell_type": "code",
      "metadata": {
        "id": "iLAJA1b1Va7S"
      },
      "source": [
        "import keras\n",
        "from keras.datasets import mnist\n",
        "from keras.layers import TimeDistributed, Conv2D, Dense, Flatten, MaxPool2D, ConvLSTM2D, GlobalAveragePooling2D, LSTM, GRU\n",
        "from keras.models import Sequential\n",
        "from keras.optimizers import Adam\n",
        "import numpy as np\n",
        "import matplotlib.pyplot as plt"
      ],
      "execution_count": 1,
      "outputs": []
    },
    {
      "cell_type": "code",
      "metadata": {
        "id": "XiMg-TH8TDTa",
        "colab": {
          "base_uri": "https://localhost:8080/"
        },
        "outputId": "f3cca7d9-0ed3-4795-bb9c-4a909d3b0ae6"
      },
      "source": [
        "(x, y), (x_test, y_test) = mnist.load_data()\n",
        "x = x / 255\n",
        "x_test = x_test / 255"
      ],
      "execution_count": 2,
      "outputs": [
        {
          "output_type": "stream",
          "text": [
            "Downloading data from https://storage.googleapis.com/tensorflow/tf-keras-datasets/mnist.npz\n",
            "11493376/11490434 [==============================] - 0s 0us/step\n"
          ],
          "name": "stdout"
        }
      ]
    },
    {
      "cell_type": "markdown",
      "metadata": {
        "id": "prKQrtIrLoPc"
      },
      "source": [
        "## Fixná sekvencia - priebežná chyba\n",
        "\n",
        "Navrhneme si model, ktorý na začiatku bude mať konvolučné vrstvy. Potom bude mať Globálny Pooling nasledovaný GRU (gated recurrent unit) vrstvou. Tá je prepojená aj s predchádzajúcimi vrstvami v sekvencii. Nasleduje plne prepojená vrstva so softmaxom. Známejšia je vrstva LSTM, ale GRU používame pretože sa jednoduchšie trénuje. Teoreticky by LSTM malo mať dlhodobejšiu pamäť. To však nebude v našom prípade až také dôležité.\n",
        "\n",
        "![GRU](https://raw.githubusercontent.com/kocurvik/edu/master/PNNPPV/supplementary/ntb_images/GRU_model.png)\n",
        "\n",
        "Môžeme si vybrať ako budeme trénovať túto sieť. Na vstupe budeme mať sekvenciu obrázkov tvaru $batch \\times seq \\times 28 \\times 28 \\times 1$, kde $seq$ je dĺžka sekvencie. Na výstupe máme dve možnosti. Buď budeme sledovať len výstup na konci sekvencie a z neho rátať loss, alebo budeme trénovať sieť na všetky vstupy. Najprv otestujeme druhý prístup:\n",
        "\n",
        "![GRU Multiloss](https://raw.githubusercontent.com/kocurvik/edu/master/PNNPPV/supplementary/ntb_images/GRU_multi_loss.png)\n",
        "\n",
        "Model je definovaný nižšie. Wrapper `TimeDistributed` nám umožňuje zavolať nejaký druh vrsvty samostatne na po jednotlivých častiach sekvencie. Pri rekurentnej vrstve tento wrapper nepotrebujeme!"
      ]
    },
    {
      "cell_type": "code",
      "metadata": {
        "id": "oU0CbiajNnDS"
      },
      "source": [
        "def build_model(modulo, seq_size):\n",
        "  model = Sequential()\n",
        "  model.add(TimeDistributed(Conv2D(16, (7,7), activation='relu'), input_shape=(seq_size, 28, 28, 1)))\n",
        "  model.add(TimeDistributed(Conv2D(32, (7,7), activation='relu')))\n",
        "  model.add(TimeDistributed(Conv2D(64, (7,7), activation='relu')))\n",
        "  model.add(TimeDistributed(Conv2D(64, (7,7), activation='relu')))\n",
        "  model.add(TimeDistributed(GlobalAveragePooling2D()))\n",
        "  model.add(GRU(64, activation='relu', recurrent_activation='hard_sigmoid', return_sequences=True))\n",
        "  model.add(TimeDistributed(Dense(modulo, activation='softmax')))\n",
        "\n",
        "  return model"
      ],
      "execution_count": 3,
      "outputs": []
    },
    {
      "cell_type": "markdown",
      "metadata": {
        "id": "4WDZKVPQNp0n"
      },
      "source": [
        "Teraz bude nutné naprogramovať generátor ktorý nám dá vstupné dáta a výstupné dáta na loss. Metódu getitem doimplementujte. Na konci chceme mať klasifikáciu do `self.modulo` tried tak, že zoberieme čísla ktoré sme dávali do siete akoby sme ich postupne (zľava) zapisovali a vyrátame ich modulo našim zvoleným číslom. Defaultne 13kou."
      ]
    },
    {
      "cell_type": "code",
      "metadata": {
        "id": "YbA8RXlTZIYy"
      },
      "source": [
        "class SeqDataGenerator(keras.utils.Sequence):\n",
        "  def __init__(self, x, y, modulo=13, batch_size=32, seq_size=20, steps=1000):\n",
        "    self.x = x\n",
        "    self.y = y\n",
        "    self.modulo = modulo\n",
        "    self.batch_size = batch_size\n",
        "    self.seq_size = seq_size\n",
        "    self.steps = steps\n",
        "\n",
        "  def __len__(self):\n",
        "    return self.steps\n",
        "\n",
        "  def __getitem__(self, index):\n",
        "    X = np.empty([self.batch_size, self.seq_size, 28, 28, 1])\n",
        "    y = np.zeros([self.batch_size, self.seq_size, self.modulo])\n",
        "\n",
        "    for b in range(self.batch_size):\n",
        "      sum = 0\n",
        "      for s in range(self.seq_size):\n",
        "        idx = np.random.randint(len(self.x))\n",
        "        X[b,s,:,:,0] = self.x[idx]\n",
        "        sum = sum * 10 + self.y[idx]\n",
        "        y[b, s, sum % self.modulo] = 1\n",
        "      #y[b, sum % self.modulo] = 1\n",
        "\n",
        "    return X, y"
      ],
      "execution_count": 4,
      "outputs": []
    },
    {
      "cell_type": "markdown",
      "metadata": {
        "id": "EaVRnO88PF74"
      },
      "source": [
        "Tento kód by mal potom natrénovať našu sieť na dátach. Môžete sa pohrať s nastavením dĺžky sekvencie."
      ]
    },
    {
      "cell_type": "code",
      "metadata": {
        "id": "y44xHVI0N3sQ",
        "colab": {
          "base_uri": "https://localhost:8080/"
        },
        "outputId": "a5d0c19c-42ce-4f4c-e4d0-654811d028f3"
      },
      "source": [
        "seq_size = 10\n",
        "modulo = 13\n",
        "\n",
        "train_gen = SeqDataGenerator(x[10000:], y[10000:], modulo=modulo, batch_size=32, seq_size=seq_size)\n",
        "val_gen = SeqDataGenerator(x[:10000], y[:10000], modulo=modulo, batch_size=32, seq_size=seq_size, steps=100)\n",
        "model = build_model(modulo, seq_size)\n",
        "\n",
        "opt = Adam(lr=0.001)\n",
        "model.compile(optimizer=opt, loss='categorical_crossentropy', metrics=['accuracy'])\n",
        "\n",
        "print(model.summary())\n",
        "\n",
        "model.fit_generator(train_gen, validation_data=val_gen, epochs=5)"
      ],
      "execution_count": 5,
      "outputs": [
        {
          "output_type": "stream",
          "text": [
            "WARNING:tensorflow:Layer gru will not use cuDNN kernel since it doesn't meet the cuDNN kernel criteria. It will use generic GPU kernel as fallback when running on GPU\n",
            "Model: \"sequential\"\n",
            "_________________________________________________________________\n",
            "Layer (type)                 Output Shape              Param #   \n",
            "=================================================================\n",
            "time_distributed (TimeDistri (None, 10, 22, 22, 16)    800       \n",
            "_________________________________________________________________\n",
            "time_distributed_1 (TimeDist (None, 10, 16, 16, 32)    25120     \n",
            "_________________________________________________________________\n",
            "time_distributed_2 (TimeDist (None, 10, 10, 10, 64)    100416    \n",
            "_________________________________________________________________\n",
            "time_distributed_3 (TimeDist (None, 10, 4, 4, 64)      200768    \n",
            "_________________________________________________________________\n",
            "time_distributed_4 (TimeDist (None, 10, 64)            0         \n",
            "_________________________________________________________________\n",
            "gru (GRU)                    (None, 10, 64)            24960     \n",
            "_________________________________________________________________\n",
            "time_distributed_5 (TimeDist (None, 10, 13)            845       \n",
            "=================================================================\n",
            "Total params: 352,909\n",
            "Trainable params: 352,909\n",
            "Non-trainable params: 0\n",
            "_________________________________________________________________\n",
            "None\n",
            "WARNING:tensorflow:From <ipython-input-5-5be9ff63ec19>:13: Model.fit_generator (from tensorflow.python.keras.engine.training) is deprecated and will be removed in a future version.\n",
            "Instructions for updating:\n",
            "Please use Model.fit, which supports generators.\n",
            "Epoch 1/5\n",
            "1000/1000 [==============================] - 51s 51ms/step - loss: 2.2732 - accuracy: 0.2008 - val_loss: 2.0472 - val_accuracy: 0.2862\n",
            "Epoch 2/5\n",
            "1000/1000 [==============================] - 51s 51ms/step - loss: 1.7980 - accuracy: 0.3829 - val_loss: 1.3291 - val_accuracy: 0.5744\n",
            "Epoch 3/5\n",
            "1000/1000 [==============================] - 51s 51ms/step - loss: 0.6630 - accuracy: 0.8061 - val_loss: 0.4279 - val_accuracy: 0.8931\n",
            "Epoch 4/5\n",
            "1000/1000 [==============================] - 51s 51ms/step - loss: 0.2628 - accuracy: 0.9349 - val_loss: 0.3244 - val_accuracy: 0.9220\n",
            "Epoch 5/5\n",
            "1000/1000 [==============================] - 51s 51ms/step - loss: 0.1801 - accuracy: 0.9561 - val_loss: 0.3010 - val_accuracy: 0.9295\n"
          ],
          "name": "stdout"
        },
        {
          "output_type": "execute_result",
          "data": {
            "text/plain": [
              "<tensorflow.python.keras.callbacks.History at 0x7ff9c0473240>"
            ]
          },
          "metadata": {
            "tags": []
          },
          "execution_count": 5
        }
      ]
    },
    {
      "cell_type": "markdown",
      "metadata": {
        "id": "PhT0rpPyOy8J"
      },
      "source": [
        "## Fixná sekvencia - Chyba len na konci\n",
        "\n",
        "Teraz vyskúšame trénovanie tak, že chybu budeme počítať len z konca celej sekvencie.\n",
        "\n",
        "![alt text](https://raw.githubusercontent.com/kocurvik/edu/master/PNNPPV/supplementary/ntb_images/GRU_single_loss.png)\n",
        "\n",
        "Doimplemenujte relevantné metódy. Zistite čo robí argument `return_sequential` pri GRU vrstve a sieť upravte tak aby na výstupe bol len jeden vektor. Otestujte či trénovanie funguje a otestujte to pre rôzne dĺžky sekvencie."
      ]
    },
    {
      "cell_type": "code",
      "metadata": {
        "id": "Mn9xLFxlb6l9"
      },
      "source": [
        "def build_single_model(modulo, seq_size):\n",
        "  model = Sequential()\n",
        "  model.add(TimeDistributed(Conv2D(16, (7,7), activation='relu'), input_shape=(seq_size, 28, 28, 1)))\n",
        "  model.add(TimeDistributed(Conv2D(32, (7,7), activation='relu')))\n",
        "  model.add(TimeDistributed(Conv2D(64, (7,7), activation='relu')))\n",
        "  model.add(TimeDistributed(Conv2D(64, (7,7), activation='relu')))\n",
        "  model.add(TimeDistributed(GlobalAveragePooling2D()))\n",
        "  model.add(GRU(64, activation='relu', recurrent_activation='hard_sigmoid', return_sequences=False))\n",
        "  model.add(Dense(modulo, activation='softmax'))\n",
        "\n",
        "  return model"
      ],
      "execution_count": 6,
      "outputs": []
    },
    {
      "cell_type": "code",
      "metadata": {
        "id": "mMheDOiXOudl"
      },
      "source": [
        "class SingleSeqDataGenerator(keras.utils.Sequence):\n",
        "  def __init__(self, x, y, modulo=11, batch_size=32, seq_size=20, steps=1000):\n",
        "    self.x = x\n",
        "    self.y = y\n",
        "    self.modulo = modulo\n",
        "    self.batch_size = batch_size\n",
        "    self.seq_size = seq_size\n",
        "    self.steps = steps\n",
        "\n",
        "  def __len__(self):\n",
        "    return self.steps\n",
        "\n",
        "  def __getitem__(self, index):\n",
        "    X = np.empty([self.batch_size, self.seq_size, 28, 28, 1])\n",
        "    y = np.zeros([self.batch_size, self.modulo])\n",
        "\n",
        "    for b in range(self.batch_size):\n",
        "      sum = 0\n",
        "      for s in range(self.seq_size):\n",
        "        idx = np.random.randint(len(self.x))\n",
        "        X[b,s,:,:,0] = self.x[idx]\n",
        "        sum = sum * 10 + self.y[idx]\n",
        "      y[b, sum % self.modulo] = 1\n",
        "\n",
        "    return X, y"
      ],
      "execution_count": 7,
      "outputs": []
    },
    {
      "cell_type": "code",
      "metadata": {
        "id": "UvN-U9EshVxr",
        "colab": {
          "base_uri": "https://localhost:8080/"
        },
        "outputId": "1a7324fd-ecda-4b06-d4e5-30fd66f88075"
      },
      "source": [
        "seq_size = 6\n",
        "modulo = 13\n",
        "\n",
        "train_gen = SingleSeqDataGenerator(x[10000:], y[10000:], modulo=modulo, batch_size=32, seq_size=seq_size)\n",
        "val_gen = SingleSeqDataGenerator(x[:10000], y[:10000], modulo=modulo, batch_size=32, seq_size=seq_size, steps=100)\n",
        "single_model = build_single_model(modulo, seq_size)\n",
        "\n",
        "opt = Adam(lr=0.001)\n",
        "single_model.compile(optimizer=opt, loss='categorical_crossentropy', metrics=['accuracy'])\n",
        "\n",
        "print(model.summary())\n",
        "\n",
        "single_model.fit_generator(train_gen, validation_data=val_gen, epochs=5)"
      ],
      "execution_count": 8,
      "outputs": [
        {
          "output_type": "stream",
          "text": [
            "WARNING:tensorflow:Layer gru_1 will not use cuDNN kernel since it doesn't meet the cuDNN kernel criteria. It will use generic GPU kernel as fallback when running on GPU\n",
            "Model: \"sequential\"\n",
            "_________________________________________________________________\n",
            "Layer (type)                 Output Shape              Param #   \n",
            "=================================================================\n",
            "time_distributed (TimeDistri (None, 10, 22, 22, 16)    800       \n",
            "_________________________________________________________________\n",
            "time_distributed_1 (TimeDist (None, 10, 16, 16, 32)    25120     \n",
            "_________________________________________________________________\n",
            "time_distributed_2 (TimeDist (None, 10, 10, 10, 64)    100416    \n",
            "_________________________________________________________________\n",
            "time_distributed_3 (TimeDist (None, 10, 4, 4, 64)      200768    \n",
            "_________________________________________________________________\n",
            "time_distributed_4 (TimeDist (None, 10, 64)            0         \n",
            "_________________________________________________________________\n",
            "gru (GRU)                    (None, 10, 64)            24960     \n",
            "_________________________________________________________________\n",
            "time_distributed_5 (TimeDist (None, 10, 13)            845       \n",
            "=================================================================\n",
            "Total params: 352,909\n",
            "Trainable params: 352,909\n",
            "Non-trainable params: 0\n",
            "_________________________________________________________________\n",
            "None\n",
            "Epoch 1/5\n",
            "1000/1000 [==============================] - 34s 34ms/step - loss: 2.5651 - accuracy: 0.0767 - val_loss: 2.5653 - val_accuracy: 0.0716\n",
            "Epoch 2/5\n",
            "1000/1000 [==============================] - 32s 32ms/step - loss: 2.5652 - accuracy: 0.0790 - val_loss: 2.5652 - val_accuracy: 0.0728\n",
            "Epoch 3/5\n",
            "1000/1000 [==============================] - 32s 32ms/step - loss: 2.5651 - accuracy: 0.0799 - val_loss: 2.5653 - val_accuracy: 0.0734\n",
            "Epoch 4/5\n",
            "1000/1000 [==============================] - 32s 32ms/step - loss: 2.5650 - accuracy: 0.0791 - val_loss: 2.5647 - val_accuracy: 0.0816\n",
            "Epoch 5/5\n",
            "1000/1000 [==============================] - 32s 32ms/step - loss: 2.5651 - accuracy: 0.0782 - val_loss: 2.5648 - val_accuracy: 0.0794\n"
          ],
          "name": "stdout"
        },
        {
          "output_type": "execute_result",
          "data": {
            "text/plain": [
              "<tensorflow.python.keras.callbacks.History at 0x7ff9666bf4e0>"
            ]
          },
          "metadata": {
            "tags": []
          },
          "execution_count": 8
        }
      ]
    },
    {
      "cell_type": "markdown",
      "metadata": {
        "id": "cs7bQfYbRnii"
      },
      "source": [
        "## Rôzne dĺžky sekvencie\n",
        "\n",
        "Teraz vyskúšame trénovať model vždy na inú dĺžku sekvencie. Minibatch necháme rovnaký, ale ak by sme mali problém s pamäťou tak ho môžeme redukvať. V definícii modelu, len v input shape dáme ako prvú dimenziu None"
      ]
    },
    {
      "cell_type": "code",
      "metadata": {
        "id": "JsY0FR_7SA_w"
      },
      "source": [
        "def build_var_model(modulo):\n",
        "  model = Sequential()\n",
        "  model.add(TimeDistributed(Conv2D(16, (7,7), activation='relu'), input_shape=(None, 28, 28, 1)))\n",
        "  model.add(TimeDistributed(Conv2D(32, (7,7), activation='relu')))\n",
        "  model.add(TimeDistributed(Conv2D(64, (7,7), activation='relu')))\n",
        "  model.add(TimeDistributed(Conv2D(64, (7,7), activation='relu')))\n",
        "  model.add(TimeDistributed(GlobalAveragePooling2D()))\n",
        "  model.add(GRU(64, activation='relu', recurrent_activation='hard_sigmoid', return_sequences=True))\n",
        "  model.add(TimeDistributed(Dense(modulo, activation='softmax')))\n",
        "\n",
        "  return model"
      ],
      "execution_count": 22,
      "outputs": []
    },
    {
      "cell_type": "markdown",
      "metadata": {
        "id": "tof13X5oSJYg"
      },
      "source": [
        "Náš generátor teraz upravíme aby sme vždy vybrali náhodnú dĺžku sekvencie.\n",
        "\n",
        "*Pozn.:* Sekvencia musí byť dĺžky aspoň 2 aby to tensorflow zvládol."
      ]
    },
    {
      "cell_type": "code",
      "metadata": {
        "id": "GQ06YJe7SWVg"
      },
      "source": [
        "class VarSeqDataGenerator(keras.utils.Sequence):\n",
        "  def __init__(self, x, y, modulo=11, batch_size=32, max_seq_size=20, steps=1000):\n",
        "    self.x = x\n",
        "    self.y = y\n",
        "    self.modulo = modulo\n",
        "    self.batch_size = batch_size\n",
        "    self.max_seq_size = max_seq_size\n",
        "    self.steps = steps\n",
        "\n",
        "  def __len__(self):\n",
        "    return self.steps\n",
        "\n",
        "  def __getitem__(self, index):\n",
        "    seq_size = np.random.randint(2, self.max_seq_size)   \n",
        "    X = np.empty([self.batch_size, seq_size, 28, 28, 1]) \n",
        "    y = np.zeros([self.batch_size, seq_size, self.modulo])\n",
        "\n",
        "    for b in range(self.batch_size):\n",
        "      sum = 0\n",
        "      for s in range(seq_size):\n",
        "        idx = np.random.randint(len(self.x))\n",
        "        X[b,s,:,:,0] = self.x[idx]\n",
        "        sum = sum * 10 + self.y[idx]\n",
        "        y[b, s, sum % self.modulo] = 1\n",
        "\n",
        "    return X, y"
      ],
      "execution_count": 18,
      "outputs": []
    },
    {
      "cell_type": "markdown",
      "metadata": {
        "id": "4JUtLandSrrD"
      },
      "source": [
        "Pri takomto prístupe ale môžeme do siete napr. pre validačné dáta poskytnúť generátor dĺžky 20."
      ]
    },
    {
      "cell_type": "code",
      "metadata": {
        "id": "87HnuWv4Sq-q",
        "colab": {
          "base_uri": "https://localhost:8080/"
        },
        "outputId": "8a61f01e-a8a4-400d-bcd6-f9ee532311c4"
      },
      "source": [
        "max_seq_size = 20\n",
        "modulo = 13\n",
        "\n",
        "train_gen = VarSeqDataGenerator(x[10000:], y[10000:], modulo=modulo, batch_size=32, max_seq_size=max_seq_size)\n",
        "val_gen = SeqDataGenerator(x[:10000], y[:10000], modulo=modulo, batch_size=32, seq_size=10, steps=100)\n",
        "var_model = build_var_model(modulo)\n",
        "\n",
        "opt = Adam(lr=0.001)\n",
        "var_model.compile(optimizer=opt, loss='categorical_crossentropy', metrics=['accuracy'])\n",
        "\n",
        "print(var_model.summary())\n",
        "\n",
        "var_model.fit_generator(train_gen, validation_data=val_gen, epochs=5)"
      ],
      "execution_count": 35,
      "outputs": [
        {
          "output_type": "stream",
          "text": [
            "WARNING:tensorflow:Layer gru_5 will not use cuDNN kernel since it doesn't meet the cuDNN kernel criteria. It will use generic GPU kernel as fallback when running on GPU\n",
            "Model: \"sequential_7\"\n",
            "_________________________________________________________________\n",
            "Layer (type)                 Output Shape              Param #   \n",
            "=================================================================\n",
            "time_distributed_31 (TimeDis (None, None, 22, 22, 16)  800       \n",
            "_________________________________________________________________\n",
            "time_distributed_32 (TimeDis (None, None, 16, 16, 32)  25120     \n",
            "_________________________________________________________________\n",
            "time_distributed_33 (TimeDis (None, None, 10, 10, 64)  100416    \n",
            "_________________________________________________________________\n",
            "time_distributed_34 (TimeDis (None, None, 4, 4, 64)    200768    \n",
            "_________________________________________________________________\n",
            "time_distributed_35 (TimeDis (None, None, 64)          0         \n",
            "_________________________________________________________________\n",
            "gru_5 (GRU)                  (None, None, 64)          24960     \n",
            "_________________________________________________________________\n",
            "time_distributed_36 (TimeDis (None, None, 13)          845       \n",
            "=================================================================\n",
            "Total params: 352,909\n",
            "Trainable params: 352,909\n",
            "Non-trainable params: 0\n",
            "_________________________________________________________________\n",
            "None\n",
            "Epoch 1/5\n",
            "   5/1000 [..............................] - ETA: 1:08 - loss: 2.5668 - accuracy: 0.0789"
          ],
          "name": "stdout"
        },
        {
          "output_type": "stream",
          "text": [
            "/usr/local/lib/python3.6/dist-packages/ipykernel_launcher.py:23: RuntimeWarning: overflow encountered in long_scalars\n"
          ],
          "name": "stderr"
        },
        {
          "output_type": "stream",
          "text": [
            "1000/1000 [==============================] - 54s 54ms/step - loss: 2.1832 - accuracy: 0.1842 - val_loss: 2.0946 - val_accuracy: 0.2677\n",
            "Epoch 2/5\n",
            "1000/1000 [==============================] - 54s 54ms/step - loss: 1.8049 - accuracy: 0.2824 - val_loss: 1.9418 - val_accuracy: 0.3265\n",
            "Epoch 3/5\n",
            "1000/1000 [==============================] - 52s 52ms/step - loss: 1.5606 - accuracy: 0.3591 - val_loss: 1.6370 - val_accuracy: 0.4483\n",
            "Epoch 4/5\n",
            "1000/1000 [==============================] - 53s 53ms/step - loss: 1.2100 - accuracy: 0.5063 - val_loss: 1.0488 - val_accuracy: 0.6758\n",
            "Epoch 5/5\n",
            "1000/1000 [==============================] - 54s 54ms/step - loss: 0.7406 - accuracy: 0.7175 - val_loss: 0.5583 - val_accuracy: 0.8438\n"
          ],
          "name": "stdout"
        },
        {
          "output_type": "execute_result",
          "data": {
            "text/plain": [
              "<tensorflow.python.keras.callbacks.History at 0x7ff95a2afa90>"
            ]
          },
          "metadata": {
            "tags": []
          },
          "execution_count": 35
        }
      ]
    },
    {
      "cell_type": "markdown",
      "metadata": {
        "id": "_x7hqubEXQvq"
      },
      "source": [
        "## Inferencia celou sekvenciou\n",
        "\n",
        "Do posledného var modelu môžeme hodiť sekvenciu ľubovolnej dĺžky. Môžeme si tak model overiť."
      ]
    },
    {
      "cell_type": "code",
      "metadata": {
        "id": "aTUHW0iHXzx8",
        "colab": {
          "base_uri": "https://localhost:8080/",
          "height": 1000
        },
        "outputId": "be314e6b-f59f-426e-fbd2-0359a636eb44"
      },
      "source": [
        "seq_size = 10\n",
        "X = np.empty([1, seq_size, 28, 28, 1])\n",
        "\n",
        "sum = 0\n",
        "\n",
        "for s in range(seq_size):\n",
        "  idx = np.random.randint(10000)\n",
        "  X[0, s, :, :, 0] = x_test[idx]\n",
        "  sum = sum*10 + y_test[idx]\n",
        "  plt.imshow(x_test[idx], cmap='gray')\n",
        "  plt.show()\n",
        "  print(\"Current: {}, sum: {}, mod: {}\".format(y_test[idx], sum, sum % 13))\n",
        "\n",
        "pred = var_model.predict(X)\n",
        "pred_last = np.argmax(pred[0], axis=-1)\n",
        "print(pred_last)\n"
      ],
      "execution_count": 36,
      "outputs": [
        {
          "output_type": "display_data",
          "data": {
            "image/png": "[encoded data removed]",
            "text/plain": [
              "<Figure size 432x288 with 1 Axes>"
            ]
          },
          "metadata": {
            "tags": [],
            "needs_background": "light"
          }
        },
        {
          "output_type": "stream",
          "text": [
            "Current: 3, sum: 3, mod: 3\n"
          ],
          "name": "stdout"
        },
        {
          "output_type": "display_data",
          "data": {
            "image/png": "[encoded data removed]",
            "text/plain": [
              "<Figure size 432x288 with 1 Axes>"
            ]
          },
          "metadata": {
            "tags": [],
            "needs_background": "light"
          }
        },
        {
          "output_type": "stream",
          "text": [
            "Current: 2, sum: 32, mod: 6\n"
          ],
          "name": "stdout"
        },
        {
          "output_type": "display_data",
          "data": {
            "image/png": "[encoded data removed]",
            "text/plain": [
              "<Figure size 432x288 with 1 Axes>"
            ]
          },
          "metadata": {
            "tags": [],
            "needs_background": "light"
          }
        },
        {
          "output_type": "stream",
          "text": [
            "Current: 8, sum: 328, mod: 3\n"
          ],
          "name": "stdout"
        },
        {
          "output_type": "display_data",
          "data": {
            "image/png": "[encoded data removed]",
            "text/plain": [
              "<Figure size 432x288 with 1 Axes>"
            ]
          },
          "metadata": {
            "tags": [],
            "needs_background": "light"
          }
        },
        {
          "output_type": "stream",
          "text": [
            "Current: 1, sum: 3281, mod: 5\n"
          ],
          "name": "stdout"
        },
        {
          "output_type": "display_data",
          "data": {
            "image/png": "[encoded data removed]",
            "text/plain": [
              "<Figure size 432x288 with 1 Axes>"
            ]
          },
          "metadata": {
            "tags": [],
            "needs_background": "light"
          }
        },
        {
          "output_type": "stream",
          "text": [
            "Current: 8, sum: 32818, mod: 6\n"
          ],
          "name": "stdout"
        },
        {
          "output_type": "display_data",
          "data": {
            "image/png": "[encoded data removed]",
            "text/plain": [
              "<Figure size 432x288 with 1 Axes>"
            ]
          },
          "metadata": {
            "tags": [],
            "needs_background": "light"
          }
        },
        {
          "output_type": "stream",
          "text": [
            "Current: 2, sum: 328182, mod: 10\n"
          ],
          "name": "stdout"
        },
        {
          "output_type": "display_data",
          "data": {
            "image/png": "[encoded data removed]",
            "text/plain": [
              "<Figure size 432x288 with 1 Axes>"
            ]
          },
          "metadata": {
            "tags": [],
            "needs_background": "light"
          }
        },
        {
          "output_type": "stream",
          "text": [
            "Current: 7, sum: 3281827, mod: 3\n"
          ],
          "name": "stdout"
        },
        {
          "output_type": "display_data",
          "data": {
            "image/png": "[encoded data removed]",
            "text/plain": [
              "<Figure size 432x288 with 1 Axes>"
            ]
          },
          "metadata": {
            "tags": [],
            "needs_background": "light"
          }
        },
        {
          "output_type": "stream",
          "text": [
            "Current: 3, sum: 32818273, mod: 7\n"
          ],
          "name": "stdout"
        },
        {
          "output_type": "display_data",
          "data": {
            "image/png": "[encoded data removed]",
            "text/plain": [
              "<Figure size 432x288 with 1 Axes>"
            ]
          },
          "metadata": {
            "tags": [],
            "needs_background": "light"
          }
        },
        {
          "output_type": "stream",
          "text": [
            "Current: 9, sum: 328182739, mod: 1\n"
          ],
          "name": "stdout"
        },
        {
          "output_type": "display_data",
          "data": {
            "image/png": "[encoded data removed]",
            "text/plain": [
              "<Figure size 432x288 with 1 Axes>"
            ]
          },
          "metadata": {
            "tags": [],
            "needs_background": "light"
          }
        },
        {
          "output_type": "stream",
          "text": [
            "Current: 9, sum: 3281827399, mod: 6\n",
            "[ 3  6  3  5  6 10  3  7  1  6]\n"
          ],
          "name": "stdout"
        }
      ]
    },
    {
      "cell_type": "markdown",
      "metadata": {
        "id": "16Y0pA6SZTZ8"
      },
      "source": [
        "## Inferencia po častiach\n",
        "\n",
        "Chceli by sme do modelu postupne vkladať obrázky a priebežne vidieť ako sa nám vyvíja modulo súčtu. Na to však musíme model upraviť na tzv. stateful. To znamená, že GRU vrsva si pamätá výstup z predchádzajúceho príkladu. Ak máme takýto stav tak pri ďalšom použití musíme model resetovať.\n",
        "\n",
        "Na tento účel môžeme použiť šikovnú funkciu:"
      ]
    },
    {
      "cell_type": "code",
      "metadata": {
        "id": "sKksuc_mYfdy"
      },
      "source": [
        "import json\n",
        "from keras.models import model_from_json\n",
        "\n",
        "def convert_to_inference_model(original_model):\n",
        "    original_model_json = original_model.to_json()\n",
        "    inference_model_dict = json.loads(original_model_json)\n",
        "    print(inference_model_dict)\n",
        "\n",
        "    layers = inference_model_dict['config']['layers']\n",
        "    for layer in layers:\n",
        "        if 'stateful' in layer['config']:\n",
        "            layer['config']['stateful'] = True\n",
        "\n",
        "        if 'batch_input_shape' in layer['config']:\n",
        "            print(\"Did it\")\n",
        "            layer['config']['batch_input_shape'][0] = 1\n",
        "            layer['config']['batch_input_shape'][1] = 1\n",
        "\n",
        "    inference_model = model_from_json(json.dumps(inference_model_dict))\n",
        "    inference_model.set_weights(original_model.get_weights())\n",
        "\n",
        "    return inference_model"
      ],
      "execution_count": 37,
      "outputs": []
    },
    {
      "cell_type": "code",
      "metadata": {
        "id": "XMHucR-DqXM7",
        "colab": {
          "base_uri": "https://localhost:8080/",
          "height": 1000
        },
        "outputId": "1c4fa6b9-1936-4d81-8d17-7a7509bfcdac"
      },
      "source": [
        "inference_model = convert_to_inference_model(var_model)\n",
        "\n",
        "sum = 0\n",
        "\n",
        "for s in range(30):\n",
        "  idx = np.random.randint(10000)\n",
        "  sum = 10 * sum + y_test[idx]\n",
        "  plt.imshow(x_test[idx], cmap='gray')\n",
        "  plt.show()\n",
        "  print(\"Current: {}, sum: {}, mod: {}\".format(y_test[idx], sum, sum % 13))\n",
        "  predict = inference_model.predict(np.reshape(x_test[idx], [1, 1, 28, 28, 1]))\n",
        "  print(np.argmax(predict[0,0]))"
      ],
      "execution_count": 38,
      "outputs": [
        {
          "output_type": "stream",
          "text": [
            "{'class_name': 'Sequential', 'config': {'name': 'sequential_7', 'layers': [{'class_name': 'InputLayer', 'config': {'batch_input_shape': [None, None, 28, 28, 1], 'dtype': 'float32', 'sparse': False, 'ragged': False, 'name': 'time_distributed_31_input'}}, {'class_name': 'TimeDistributed', 'config': {'name': 'time_distributed_31', 'trainable': True, 'batch_input_shape': [None, None, 28, 28, 1], 'dtype': 'float32', 'layer': {'class_name': 'Conv2D', 'config': {'name': 'conv2d_22', 'trainable': True, 'dtype': 'float32', 'filters': 16, 'kernel_size': [7, 7], 'strides': [1, 1], 'padding': 'valid', 'data_format': 'channels_last', 'dilation_rate': [1, 1], 'groups': 1, 'activation': 'relu', 'use_bias': True, 'kernel_initializer': {'class_name': 'GlorotUniform', 'config': {'seed': None}}, 'bias_initializer': {'class_name': 'Zeros', 'config': {}}, 'kernel_regularizer': None, 'bias_regularizer': None, 'activity_regularizer': None, 'kernel_constraint': None, 'bias_constraint': None}}}}, {'class_name': 'TimeDistributed', 'config': {'name': 'time_distributed_32', 'trainable': True, 'dtype': 'float32', 'layer': {'class_name': 'Conv2D', 'config': {'name': 'conv2d_23', 'trainable': True, 'dtype': 'float32', 'filters': 32, 'kernel_size': [7, 7], 'strides': [1, 1], 'padding': 'valid', 'data_format': 'channels_last', 'dilation_rate': [1, 1], 'groups': 1, 'activation': 'relu', 'use_bias': True, 'kernel_initializer': {'class_name': 'GlorotUniform', 'config': {'seed': None}}, 'bias_initializer': {'class_name': 'Zeros', 'config': {}}, 'kernel_regularizer': None, 'bias_regularizer': None, 'activity_regularizer': None, 'kernel_constraint': None, 'bias_constraint': None}}}}, {'class_name': 'TimeDistributed', 'config': {'name': 'time_distributed_33', 'trainable': True, 'dtype': 'float32', 'layer': {'class_name': 'Conv2D', 'config': {'name': 'conv2d_24', 'trainable': True, 'dtype': 'float32', 'filters': 64, 'kernel_size': [7, 7], 'strides': [1, 1], 'padding': 'valid', 'data_format': 'channels_last', 'dilation_rate': [1, 1], 'groups': 1, 'activation': 'relu', 'use_bias': True, 'kernel_initializer': {'class_name': 'GlorotUniform', 'config': {'seed': None}}, 'bias_initializer': {'class_name': 'Zeros', 'config': {}}, 'kernel_regularizer': None, 'bias_regularizer': None, 'activity_regularizer': None, 'kernel_constraint': None, 'bias_constraint': None}}}}, {'class_name': 'TimeDistributed', 'config': {'name': 'time_distributed_34', 'trainable': True, 'dtype': 'float32', 'layer': {'class_name': 'Conv2D', 'config': {'name': 'conv2d_25', 'trainable': True, 'dtype': 'float32', 'filters': 64, 'kernel_size': [7, 7], 'strides': [1, 1], 'padding': 'valid', 'data_format': 'channels_last', 'dilation_rate': [1, 1], 'groups': 1, 'activation': 'relu', 'use_bias': True, 'kernel_initializer': {'class_name': 'GlorotUniform', 'config': {'seed': None}}, 'bias_initializer': {'class_name': 'Zeros', 'config': {}}, 'kernel_regularizer': None, 'bias_regularizer': None, 'activity_regularizer': None, 'kernel_constraint': None, 'bias_constraint': None}}}}, {'class_name': 'TimeDistributed', 'config': {'name': 'time_distributed_35', 'trainable': True, 'dtype': 'float32', 'layer': {'class_name': 'GlobalAveragePooling2D', 'config': {'name': 'global_average_pooling2d_5', 'trainable': True, 'dtype': 'float32', 'data_format': 'channels_last'}}}}, {'class_name': 'GRU', 'config': {'name': 'gru_5', 'trainable': True, 'dtype': 'float32', 'return_sequences': True, 'return_state': False, 'go_backwards': False, 'stateful': False, 'unroll': False, 'time_major': False, 'units': 64, 'activation': 'relu', 'recurrent_activation': 'hard_sigmoid', 'use_bias': True, 'kernel_initializer': {'class_name': 'GlorotUniform', 'config': {'seed': None}}, 'recurrent_initializer': {'class_name': 'Orthogonal', 'config': {'gain': 1.0, 'seed': None}}, 'bias_initializer': {'class_name': 'Zeros', 'config': {}}, 'kernel_regularizer': None, 'recurrent_regularizer': None, 'bias_regularizer': None, 'activity_regularizer': None, 'kernel_constraint': None, 'recurrent_constraint': None, 'bias_constraint': None, 'dropout': 0.0, 'recurrent_dropout': 0.0, 'implementation': 2, 'reset_after': True}}, {'class_name': 'TimeDistributed', 'config': {'name': 'time_distributed_36', 'trainable': True, 'dtype': 'float32', 'layer': {'class_name': 'Dense', 'config': {'name': 'dense_5', 'trainable': True, 'dtype': 'float32', 'units': 13, 'activation': 'softmax', 'use_bias': True, 'kernel_initializer': {'class_name': 'GlorotUniform', 'config': {'seed': None}}, 'bias_initializer': {'class_name': 'Zeros', 'config': {}}, 'kernel_regularizer': None, 'bias_regularizer': None, 'activity_regularizer': None, 'kernel_constraint': None, 'bias_constraint': None}}}}]}, 'keras_version': '2.4.0', 'backend': 'tensorflow'}\n",
            "Did it\n",
            "Did it\n",
            "WARNING:tensorflow:Layer gru_5 will not use cuDNN kernel since it doesn't meet the cuDNN kernel criteria. It will use generic GPU kernel as fallback when running on GPU\n"
          ],
          "name": "stdout"
        },
        {
          "output_type": "display_data",
          "data": {
            "image/png": "[encoded data removed]",
            "text/plain": [
              "<Figure size 432x288 with 1 Axes>"
            ]
          },
          "metadata": {
            "tags": [],
            "needs_background": "light"
          }
        },
        {
          "output_type": "stream",
          "text": [
            "Current: 3, sum: 3, mod: 3\n",
            "3\n"
          ],
          "name": "stdout"
        },
        {
          "output_type": "display_data",
          "data": {
            "image/png": "[encoded data removed]",
            "text/plain": [
              "<Figure size 432x288 with 1 Axes>"
            ]
          },
          "metadata": {
            "tags": [],
            "needs_background": "light"
          }
        },
        {
          "output_type": "stream",
          "text": [
            "Current: 2, sum: 32, mod: 6\n",
            "6\n"
          ],
          "name": "stdout"
        },
        {
          "output_type": "display_data",
          "data": {
            "image/png": "[encoded data removed]",
            "text/plain": [
              "<Figure size 432x288 with 1 Axes>"
            ]
          },
          "metadata": {
            "tags": [],
            "needs_background": "light"
          }
        },
        {
          "output_type": "stream",
          "text": [
            "Current: 5, sum: 325, mod: 0\n",
            "0\n"
          ],
          "name": "stdout"
        },
        {
          "output_type": "display_data",
          "data": {
            "image/png": "[encoded data removed]",
            "text/plain": [
              "<Figure size 432x288 with 1 Axes>"
            ]
          },
          "metadata": {
            "tags": [],
            "needs_background": "light"
          }
        },
        {
          "output_type": "stream",
          "text": [
            "Current: 3, sum: 3253, mod: 3\n",
            "3\n"
          ],
          "name": "stdout"
        },
        {
          "output_type": "display_data",
          "data": {
            "image/png": "[encoded data removed]",
            "text/plain": [
              "<Figure size 432x288 with 1 Axes>"
            ]
          },
          "metadata": {
            "tags": [],
            "needs_background": "light"
          }
        },
        {
          "output_type": "stream",
          "text": [
            "Current: 1, sum: 32531, mod: 5\n",
            "5\n"
          ],
          "name": "stdout"
        },
        {
          "output_type": "display_data",
          "data": {
            "image/png": "[encoded data removed]",
            "text/plain": [
              "<Figure size 432x288 with 1 Axes>"
            ]
          },
          "metadata": {
            "tags": [],
            "needs_background": "light"
          }
        },
        {
          "output_type": "stream",
          "text": [
            "Current: 6, sum: 325316, mod: 4\n",
            "4\n"
          ],
          "name": "stdout"
        },
        {
          "output_type": "display_data",
          "data": {
            "image/png": "[encoded data removed]",
            "text/plain": [
              "<Figure size 432x288 with 1 Axes>"
            ]
          },
          "metadata": {
            "tags": [],
            "needs_background": "light"
          }
        },
        {
          "output_type": "stream",
          "text": [
            "Current: 8, sum: 3253168, mod: 9\n",
            "6\n"
          ],
          "name": "stdout"
        },
        {
          "output_type": "display_data",
          "data": {
            "image/png": "[encoded data removed]",
            "text/plain": [
              "<Figure size 432x288 with 1 Axes>"
            ]
          },
          "metadata": {
            "tags": [],
            "needs_background": "light"
          }
        },
        {
          "output_type": "stream",
          "text": [
            "Current: 6, sum: 32531686, mod: 5\n",
            "1\n"
          ],
          "name": "stdout"
        },
        {
          "output_type": "display_data",
          "data": {
            "image/png": "[encoded data removed]",
            "text/plain": [
              "<Figure size 432x288 with 1 Axes>"
            ]
          },
          "metadata": {
            "tags": [],
            "needs_background": "light"
          }
        },
        {
          "output_type": "stream",
          "text": [
            "Current: 1, sum: 325316861, mod: 12\n",
            "11\n"
          ],
          "name": "stdout"
        },
        {
          "output_type": "display_data",
          "data": {
            "image/png": "[encoded data removed]",
            "text/plain": [
              "<Figure size 432x288 with 1 Axes>"
            ]
          },
          "metadata": {
            "tags": [],
            "needs_background": "light"
          }
        },
        {
          "output_type": "stream",
          "text": [
            "Current: 1, sum: 3253168611, mod: 4\n",
            "7\n"
          ],
          "name": "stdout"
        },
        {
          "output_type": "display_data",
          "data": {
            "image/png": "[encoded data removed]",
            "text/plain": [
              "<Figure size 432x288 with 1 Axes>"
            ]
          },
          "metadata": {
            "tags": [],
            "needs_background": "light"
          }
        },
        {
          "output_type": "stream",
          "text": [
            "Current: 8, sum: 32531686118, mod: 9\n",
            "0\n"
          ],
          "name": "stdout"
        },
        {
          "output_type": "display_data",
          "data": {
            "image/png": "[encoded data removed]",
            "text/plain": [
              "<Figure size 432x288 with 1 Axes>"
            ]
          },
          "metadata": {
            "tags": [],
            "needs_background": "light"
          }
        },
        {
          "output_type": "stream",
          "text": [
            "Current: 7, sum: 325316861187, mod: 6\n",
            "7\n"
          ],
          "name": "stdout"
        },
        {
          "output_type": "display_data",
          "data": {
            "image/png": "[encoded data removed]",
            "text/plain": [
              "<Figure size 432x288 with 1 Axes>"
            ]
          },
          "metadata": {
            "tags": [],
            "needs_background": "light"
          }
        },
        {
          "output_type": "stream",
          "text": [
            "Current: 8, sum: 3253168611878, mod: 3\n",
            "0\n"
          ],
          "name": "stdout"
        },
        {
          "output_type": "display_data",
          "data": {
            "image/png": "[encoded data removed]",
            "text/plain": [
              "<Figure size 432x288 with 1 Axes>"
            ]
          },
          "metadata": {
            "tags": [],
            "needs_background": "light"
          }
        },
        {
          "output_type": "stream",
          "text": [
            "Current: 4, sum: 32531686118784, mod: 8\n",
            "4\n"
          ],
          "name": "stdout"
        },
        {
          "output_type": "display_data",
          "data": {
            "image/png": "[encoded data removed]",
            "text/plain": [
              "<Figure size 432x288 with 1 Axes>"
            ]
          },
          "metadata": {
            "tags": [],
            "needs_background": "light"
          }
        },
        {
          "output_type": "stream",
          "text": [
            "Current: 1, sum: 325316861187841, mod: 3\n",
            "2\n"
          ],
          "name": "stdout"
        },
        {
          "output_type": "display_data",
          "data": {
            "image/png": "[encoded data removed]",
            "text/plain": [
              "<Figure size 432x288 with 1 Axes>"
            ]
          },
          "metadata": {
            "tags": [],
            "needs_background": "light"
          }
        },
        {
          "output_type": "stream",
          "text": [
            "Current: 2, sum: 3253168611878412, mod: 6\n",
            "9\n"
          ],
          "name": "stdout"
        },
        {
          "output_type": "display_data",
          "data": {
            "image/png": "[encoded data removed]",
            "text/plain": [
              "<Figure size 432x288 with 1 Axes>"
            ]
          },
          "metadata": {
            "tags": [],
            "needs_background": "light"
          }
        },
        {
          "output_type": "stream",
          "text": [
            "Current: 5, sum: 32531686118784125, mod: 0\n",
            "4\n"
          ],
          "name": "stdout"
        },
        {
          "output_type": "display_data",
          "data": {
            "image/png": "[encoded data removed]",
            "text/plain": [
              "<Figure size 432x288 with 1 Axes>"
            ]
          },
          "metadata": {
            "tags": [],
            "needs_background": "light"
          }
        },
        {
          "output_type": "stream",
          "text": [
            "Current: 2, sum: 325316861187841252, mod: 2\n",
            "3\n"
          ],
          "name": "stdout"
        },
        {
          "output_type": "display_data",
          "data": {
            "image/png": "[encoded data removed]",
            "text/plain": [
              "<Figure size 432x288 with 1 Axes>"
            ]
          },
          "metadata": {
            "tags": [],
            "needs_background": "light"
          }
        },
        {
          "output_type": "stream",
          "text": [
            "Current: 2, sum: 3253168611878412522, mod: 9\n",
            "6\n"
          ],
          "name": "stdout"
        },
        {
          "output_type": "stream",
          "text": [
            "/usr/local/lib/python3.6/dist-packages/ipykernel_launcher.py:7: RuntimeWarning: overflow encountered in long_scalars\n",
            "  import sys\n"
          ],
          "name": "stderr"
        },
        {
          "output_type": "display_data",
          "data": {
            "image/png": "[encoded data removed]",
            "text/plain": [
              "<Figure size 432x288 with 1 Axes>"
            ]
          },
          "metadata": {
            "tags": [],
            "needs_background": "light"
          }
        },
        {
          "output_type": "stream",
          "text": [
            "Current: 2, sum: -4361802028634978010, mod: 8\n",
            "10\n"
          ],
          "name": "stdout"
        },
        {
          "output_type": "display_data",
          "data": {
            "image/png": "[encoded data removed]",
            "text/plain": [
              "<Figure size 432x288 with 1 Axes>"
            ]
          },
          "metadata": {
            "tags": [],
            "needs_background": "light"
          }
        },
        {
          "output_type": "stream",
          "text": [
            "Current: 0, sum: -6724532138930676868, mod: 8\n",
            "9\n"
          ],
          "name": "stdout"
        },
        {
          "output_type": "display_data",
          "data": {
            "image/png": "[encoded data removed]",
            "text/plain": [
              "<Figure size 432x288 with 1 Axes>"
            ]
          },
          "metadata": {
            "tags": [],
            "needs_background": "light"
          }
        },
        {
          "output_type": "stream",
          "text": [
            "Current: 1, sum: 6541654905531437785, mod: 2\n",
            "2\n"
          ],
          "name": "stdout"
        },
        {
          "output_type": "display_data",
          "data": {
            "image/png": "[encoded data removed]",
            "text/plain": [
              "<Figure size 432x288 with 1 Axes>"
            ]
          },
          "metadata": {
            "tags": [],
            "needs_background": "light"
          }
        },
        {
          "output_type": "stream",
          "text": [
            "Current: 8, sum: -8370427239523828606, mod: 3\n",
            "2\n"
          ],
          "name": "stdout"
        },
        {
          "output_type": "display_data",
          "data": {
            "image/png": "[encoded data removed]",
            "text/plain": [
              "<Figure size 432x288 with 1 Axes>"
            ]
          },
          "metadata": {
            "tags": [],
            "needs_background": "light"
          }
        },
        {
          "output_type": "stream",
          "text": [
            "Current: 7, sum: 8529447973309472027, mod: 0\n",
            "9\n"
          ],
          "name": "stdout"
        },
        {
          "output_type": "display_data",
          "data": {
            "image/png": "[encoded data removed]",
            "text/plain": [
              "<Figure size 432x288 with 1 Axes>"
            ]
          },
          "metadata": {
            "tags": [],
            "needs_background": "light"
          }
        },
        {
          "output_type": "stream",
          "text": [
            "Current: 4, sum: -6939240635453037806, mod: 2\n",
            "3\n"
          ],
          "name": "stdout"
        },
        {
          "output_type": "display_data",
          "data": {
            "image/png": "[encoded data removed]",
            "text/plain": [
              "<Figure size 432x288 with 1 Axes>"
            ]
          },
          "metadata": {
            "tags": [],
            "needs_background": "light"
          }
        },
        {
          "output_type": "stream",
          "text": [
            "Current: 7, sum: 4394569940307828411, mod: 0\n",
            "9\n"
          ],
          "name": "stdout"
        },
        {
          "output_type": "display_data",
          "data": {
            "image/png": "[encoded data removed]",
            "text/plain": [
              "<Figure size 432x288 with 1 Axes>"
            ]
          },
          "metadata": {
            "tags": [],
            "needs_background": "light"
          }
        },
        {
          "output_type": "stream",
          "text": [
            "Current: 6, sum: 7052211255659180884, mod: 0\n",
            "12\n"
          ],
          "name": "stdout"
        },
        {
          "output_type": "display_data",
          "data": {
            "image/png": "[encoded data removed]",
            "text/plain": [
              "<Figure size 432x288 with 1 Axes>"
            ]
          },
          "metadata": {
            "tags": [],
            "needs_background": "light"
          }
        },
        {
          "output_type": "stream",
          "text": [
            "Current: 3, sum: -3264863738246397621, mod: 4\n",
            "6\n"
          ],
          "name": "stdout"
        },
        {
          "output_type": "display_data",
          "data": {
            "image/png": "[encoded data removed]",
            "text/plain": [
              "<Figure size 432x288 with 1 Axes>"
            ]
          },
          "metadata": {
            "tags": [],
            "needs_background": "light"
          }
        },
        {
          "output_type": "stream",
          "text": [
            "Current: 5, sum: 4244850764955127027, mod: 12\n",
            "0\n"
          ],
          "name": "stdout"
        },
        {
          "output_type": "display_data",
          "data": {
            "image/png": "[encoded data removed]",
            "text/plain": [
              "<Figure size 432x288 with 1 Axes>"
            ]
          },
          "metadata": {
            "tags": [],
            "needs_background": "light"
          }
        },
        {
          "output_type": "stream",
          "text": [
            "Current: 9, sum: 5555019502132167047, mod: 6\n",
            "9\n"
          ],
          "name": "stdout"
        }
      ]
    },
    {
      "cell_type": "markdown",
      "metadata": {
        "id": "Y85tfyRXtONA"
      },
      "source": [
        "Ak chceme model použíť odznova, tak musíme stavy v GRU resetovať."
      ]
    },
    {
      "cell_type": "code",
      "metadata": {
        "id": "cwasY0AKtRtc",
        "colab": {
          "base_uri": "https://localhost:8080/",
          "height": 1000
        },
        "outputId": "00f17b71-6b68-4f88-8435-61a09a42a2f7"
      },
      "source": [
        "sum = 0\n",
        "\n",
        "inference_model.reset_states()\n",
        "\n",
        "for s in range(20):\n",
        "  idx = np.random.randint(10000)\n",
        "  sum = 10 * sum + y_test[idx]\n",
        "  plt.imshow(x_test[idx], cmap='gray')\n",
        "  plt.show()\n",
        "  print(\"Current: {}, sum: {}, mod: {}\".format(y_test[idx], sum, sum % 13))\n",
        "  predict = inference_model.predict(np.reshape(x_test[idx], [1, 1, 28, 28, 1]))\n",
        "  print(np.argmax(predict[0, 0]))"
      ],
      "execution_count": 39,
      "outputs": [
        {
          "output_type": "display_data",
          "data": {
            "image/png": "[encoded data removed]",
            "text/plain": [
              "<Figure size 432x288 with 1 Axes>"
            ]
          },
          "metadata": {
            "tags": [],
            "needs_background": "light"
          }
        },
        {
          "output_type": "stream",
          "text": [
            "Current: 3, sum: 3, mod: 3\n",
            "3\n"
          ],
          "name": "stdout"
        },
        {
          "output_type": "display_data",
          "data": {
            "image/png": "[encoded data removed]",
            "text/plain": [
              "<Figure size 432x288 with 1 Axes>"
            ]
          },
          "metadata": {
            "tags": [],
            "needs_background": "light"
          }
        },
        {
          "output_type": "stream",
          "text": [
            "Current: 4, sum: 34, mod: 8\n",
            "8\n"
          ],
          "name": "stdout"
        },
        {
          "output_type": "display_data",
          "data": {
            "image/png": "[encoded data removed]",
            "text/plain": [
              "<Figure size 432x288 with 1 Axes>"
            ]
          },
          "metadata": {
            "tags": [],
            "needs_background": "light"
          }
        },
        {
          "output_type": "stream",
          "text": [
            "Current: 6, sum: 346, mod: 8\n",
            "8\n"
          ],
          "name": "stdout"
        },
        {
          "output_type": "display_data",
          "data": {
            "image/png": "[encoded data removed]",
            "text/plain": [
              "<Figure size 432x288 with 1 Axes>"
            ]
          },
          "metadata": {
            "tags": [],
            "needs_background": "light"
          }
        },
        {
          "output_type": "stream",
          "text": [
            "Current: 3, sum: 3463, mod: 5\n",
            "5\n"
          ],
          "name": "stdout"
        },
        {
          "output_type": "display_data",
          "data": {
            "image/png": "[encoded data removed]",
            "text/plain": [
              "<Figure size 432x288 with 1 Axes>"
            ]
          },
          "metadata": {
            "tags": [],
            "needs_background": "light"
          }
        },
        {
          "output_type": "stream",
          "text": [
            "Current: 1, sum: 34631, mod: 12\n",
            "1\n"
          ],
          "name": "stdout"
        },
        {
          "output_type": "display_data",
          "data": {
            "image/png": "[encoded data removed]",
            "text/plain": [
              "<Figure size 432x288 with 1 Axes>"
            ]
          },
          "metadata": {
            "tags": [],
            "needs_background": "light"
          }
        },
        {
          "output_type": "stream",
          "text": [
            "Current: 4, sum: 346314, mod: 7\n",
            "1\n"
          ],
          "name": "stdout"
        },
        {
          "output_type": "display_data",
          "data": {
            "image/png": "[encoded data removed]",
            "text/plain": [
              "<Figure size 432x288 with 1 Axes>"
            ]
          },
          "metadata": {
            "tags": [],
            "needs_background": "light"
          }
        },
        {
          "output_type": "stream",
          "text": [
            "Current: 2, sum: 3463142, mod: 7\n",
            "12\n"
          ],
          "name": "stdout"
        },
        {
          "output_type": "display_data",
          "data": {
            "image/png": "[encoded data removed]",
            "text/plain": [
              "<Figure size 432x288 with 1 Axes>"
            ]
          },
          "metadata": {
            "tags": [],
            "needs_background": "light"
          }
        },
        {
          "output_type": "stream",
          "text": [
            "Current: 4, sum: 34631424, mod: 9\n",
            "7\n"
          ],
          "name": "stdout"
        },
        {
          "output_type": "display_data",
          "data": {
            "image/png": "[encoded data removed]",
            "text/plain": [
              "<Figure size 432x288 with 1 Axes>"
            ]
          },
          "metadata": {
            "tags": [],
            "needs_background": "light"
          }
        },
        {
          "output_type": "stream",
          "text": [
            "Current: 0, sum: 346314240, mod: 12\n",
            "5\n"
          ],
          "name": "stdout"
        },
        {
          "output_type": "display_data",
          "data": {
            "image/png": "[encoded data removed]",
            "text/plain": [
              "<Figure size 432x288 with 1 Axes>"
            ]
          },
          "metadata": {
            "tags": [],
            "needs_background": "light"
          }
        },
        {
          "output_type": "stream",
          "text": [
            "Current: 4, sum: 3463142404, mod: 7\n",
            "2\n"
          ],
          "name": "stdout"
        },
        {
          "output_type": "display_data",
          "data": {
            "image/png": "[encoded data removed]",
            "text/plain": [
              "<Figure size 432x288 with 1 Axes>"
            ]
          },
          "metadata": {
            "tags": [],
            "needs_background": "light"
          }
        },
        {
          "output_type": "stream",
          "text": [
            "Current: 4, sum: 34631424044, mod: 9\n",
            "11\n"
          ],
          "name": "stdout"
        },
        {
          "output_type": "display_data",
          "data": {
            "image/png": "[encoded data removed]",
            "text/plain": [
              "<Figure size 432x288 with 1 Axes>"
            ]
          },
          "metadata": {
            "tags": [],
            "needs_background": "light"
          }
        },
        {
          "output_type": "stream",
          "text": [
            "Current: 7, sum: 346314240447, mod: 6\n",
            "0\n"
          ],
          "name": "stdout"
        },
        {
          "output_type": "display_data",
          "data": {
            "image/png": "[encoded data removed]",
            "text/plain": [
              "<Figure size 432x288 with 1 Axes>"
            ]
          },
          "metadata": {
            "tags": [],
            "needs_background": "light"
          }
        },
        {
          "output_type": "stream",
          "text": [
            "Current: 8, sum: 3463142404478, mod: 3\n",
            "8\n"
          ],
          "name": "stdout"
        },
        {
          "output_type": "display_data",
          "data": {
            "image/png": "[encoded data removed]",
            "text/plain": [
              "<Figure size 432x288 with 1 Axes>"
            ]
          },
          "metadata": {
            "tags": [],
            "needs_background": "light"
          }
        },
        {
          "output_type": "stream",
          "text": [
            "Current: 1, sum: 34631424044781, mod: 5\n",
            "3\n"
          ],
          "name": "stdout"
        },
        {
          "output_type": "display_data",
          "data": {
            "image/png": "[encoded data removed]",
            "text/plain": [
              "<Figure size 432x288 with 1 Axes>"
            ]
          },
          "metadata": {
            "tags": [],
            "needs_background": "light"
          }
        },
        {
          "output_type": "stream",
          "text": [
            "Current: 4, sum: 346314240447814, mod: 2\n",
            "8\n"
          ],
          "name": "stdout"
        },
        {
          "output_type": "display_data",
          "data": {
            "image/png": "[encoded data removed]",
            "text/plain": [
              "<Figure size 432x288 with 1 Axes>"
            ]
          },
          "metadata": {
            "tags": [],
            "needs_background": "light"
          }
        },
        {
          "output_type": "stream",
          "text": [
            "Current: 5, sum: 3463142404478145, mod: 12\n",
            "7\n"
          ],
          "name": "stdout"
        },
        {
          "output_type": "display_data",
          "data": {
            "image/png": "[encoded data removed]",
            "text/plain": [
              "<Figure size 432x288 with 1 Axes>"
            ]
          },
          "metadata": {
            "tags": [],
            "needs_background": "light"
          }
        },
        {
          "output_type": "stream",
          "text": [
            "Current: 7, sum: 34631424044781457, mod: 10\n",
            "1\n"
          ],
          "name": "stdout"
        },
        {
          "output_type": "display_data",
          "data": {
            "image/png": "[encoded data removed]",
            "text/plain": [
              "<Figure size 432x288 with 1 Axes>"
            ]
          },
          "metadata": {
            "tags": [],
            "needs_background": "light"
          }
        },
        {
          "output_type": "stream",
          "text": [
            "Current: 6, sum: 346314240447814576, mod: 2\n",
            "3\n"
          ],
          "name": "stdout"
        },
        {
          "output_type": "display_data",
          "data": {
            "image/png": "[encoded data removed]",
            "text/plain": [
              "<Figure size 432x288 with 1 Axes>"
            ]
          },
          "metadata": {
            "tags": [],
            "needs_background": "light"
          }
        },
        {
          "output_type": "stream",
          "text": [
            "Current: 2, sum: 3463142404478145762, mod: 9\n",
            "6\n"
          ],
          "name": "stdout"
        },
        {
          "output_type": "stream",
          "text": [
            "/usr/local/lib/python3.6/dist-packages/ipykernel_launcher.py:7: RuntimeWarning: overflow encountered in long_scalars\n",
            "  import sys\n"
          ],
          "name": "stderr"
        },
        {
          "output_type": "display_data",
          "data": {
            "image/png": "[encoded data removed]",
            "text/plain": [
              "<Figure size 432x288 with 1 Axes>"
            ]
          },
          "metadata": {
            "tags": [],
            "needs_background": "light"
          }
        },
        {
          "output_type": "stream",
          "text": [
            "Current: 6, sum: -2262064102637645606, mod: 12\n",
            "1\n"
          ],
          "name": "stdout"
        }
      ]
    }
  ]
}